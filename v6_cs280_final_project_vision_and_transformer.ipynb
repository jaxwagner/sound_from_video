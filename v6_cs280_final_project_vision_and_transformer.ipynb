{
 "cells": [
  {
   "cell_type": "code",
   "execution_count": 1,
   "metadata": {
    "executionInfo": {
     "elapsed": 5,
     "status": "ok",
     "timestamp": 1683237452136,
     "user": {
      "displayName": "Jackson Wagner",
      "userId": "13678973550726092608"
     },
     "user_tz": 420
    },
    "id": "PKUb0VpR2XPD"
   },
   "outputs": [],
   "source": [
    "#!sudo pip install pytube"
   ]
  },
  {
   "cell_type": "code",
   "execution_count": 2,
   "metadata": {
    "executionInfo": {
     "elapsed": 5,
     "status": "ok",
     "timestamp": 1683237452136,
     "user": {
      "displayName": "Jackson Wagner",
      "userId": "13678973550726092608"
     },
     "user_tz": 420
    },
    "id": "JqSUtN2m2Zzs"
   },
   "outputs": [],
   "source": [
    "#from pytube import YouTube\n",
    "def download(url):\n",
    "    youtubeObject = YouTube(url)\n",
    "    youtubeObject = youtubeObject.streams.get_lowest_resolution()\n",
    "    try:\n",
    "        youtubeObject.download()\n",
    "    except:\n",
    "        print(\"An error has occurred\")\n",
    "    print(\"Download is completed successfully\")\n",
    "\n",
    "#url = \"https://www.youtube.com/watch?v=FJZ-BHBKyos\" # car chase\n",
    "#url = \"https://www.youtube.com/watch?v=1gwglom4FeA\" # 8 hr nature\n",
    "#url = \"https://www.youtube.com/watch?v=8W1qF7l2A1c\" # 6 hr nature\n",
    "#download(url)"
   ]
  },
  {
   "cell_type": "code",
   "execution_count": 3,
   "metadata": {
    "colab": {
     "base_uri": "https://localhost:8080/"
    },
    "executionInfo": {
     "elapsed": 3543,
     "status": "ok",
     "timestamp": 1683237457375,
     "user": {
      "displayName": "Jackson Wagner",
      "userId": "13678973550726092608"
     },
     "user_tz": 420
    },
    "id": "SIxci6qbzEXH",
    "outputId": "5e3d051b-77c6-4eea-fc1a-1edad0abcebc"
   },
   "outputs": [
    {
     "name": "stdout",
     "output_type": "stream",
     "text": [
      "Defaulting to user installation because normal site-packages is not writeable\n",
      "Requirement already satisfied: scikit-video in /global/u2/m/martel/.local/perlmutter/pytorch1.13.1/lib/python3.9/site-packages (1.1.11)\n",
      "Requirement already satisfied: pillow in /global/u2/m/martel/.local/perlmutter/pytorch1.13.1/lib/python3.9/site-packages (from scikit-video) (9.5.0)\n",
      "Requirement already satisfied: numpy in /global/u2/m/martel/.local/perlmutter/pytorch1.13.1/lib/python3.9/site-packages (from scikit-video) (1.24.1)\n",
      "Requirement already satisfied: scipy in /global/u2/m/martel/.local/perlmutter/pytorch1.13.1/lib/python3.9/site-packages (from scikit-video) (1.10.1)\n"
     ]
    }
   ],
   "source": [
    "\n",
    "!pip install scikit-video"
   ]
  },
  {
   "cell_type": "code",
   "execution_count": 4,
   "metadata": {
    "executionInfo": {
     "elapsed": 417,
     "status": "ok",
     "timestamp": 1683237457788,
     "user": {
      "displayName": "Jackson Wagner",
      "userId": "13678973550726092608"
     },
     "user_tz": 420
    },
    "id": "3QAKUr-6AbB7"
   },
   "outputs": [],
   "source": [
    "import cv2\n",
    "import numpy as np\n",
    "import skvideo.io  \n",
    "import matplotlib.pyplot as plt"
   ]
  },
  {
   "cell_type": "code",
   "execution_count": 5,
   "metadata": {
    "executionInfo": {
     "elapsed": 17162,
     "status": "ok",
     "timestamp": 1683237474949,
     "user": {
      "displayName": "Jackson Wagner",
      "userId": "13678973550726092608"
     },
     "user_tz": 420
    },
    "id": "MCia8s07Ph_C"
   },
   "outputs": [],
   "source": [
    "'''\n",
    "##NOTE: use vreader and then create a downsampled np array\n",
    "## try 36x64\n",
    "resized_vid_arr = []\n",
    "videodata = skvideo.io.vread(\"car_chase.mp4\")  \n",
    "for v in videodata:\n",
    "  roi = cv2.resize(v, (36, 64))\n",
    "  roi = roi.astype(\"float\") / 255.0\n",
    "  # roi = img_to_array(roi)\n",
    "  # roi = np.expand_dims(roi, axis=0)\n",
    "  resized_vid_arr.append(roi) \n",
    "resized_vid_arr = np.array(resized_vid_arr)\n",
    "'''\n",
    "resized_vid_arr = np.load(\"resized_vid_arr.npy\")"
   ]
  },
  {
   "cell_type": "code",
   "execution_count": 6,
   "metadata": {},
   "outputs": [
    {
     "data": {
      "text/plain": [
       "39977099.83529407"
      ]
     },
     "execution_count": 6,
     "metadata": {},
     "output_type": "execute_result"
    }
   ],
   "source": [
    "resized_vid_arr.sum()"
   ]
  },
  {
   "cell_type": "code",
   "execution_count": 7,
   "metadata": {},
   "outputs": [
    {
     "data": {
      "text/plain": [
       "(18547, 64, 36, 3)"
      ]
     },
     "execution_count": 7,
     "metadata": {},
     "output_type": "execute_result"
    }
   ],
   "source": [
    "resized_vid_arr.shape"
   ]
  },
  {
   "cell_type": "code",
   "execution_count": 8,
   "metadata": {
    "colab": {
     "base_uri": "https://localhost:8080/"
    },
    "executionInfo": {
     "elapsed": 2249,
     "status": "ok",
     "timestamp": 1683237477187,
     "user": {
      "displayName": "Jackson Wagner",
      "userId": "13678973550726092608"
     },
     "user_tz": 420
    },
    "id": "48DV4rShBh6P",
    "outputId": "71a5d192-0e97-4cfc-9ee4-c67c9f821c19"
   },
   "outputs": [],
   "source": [
    "from moviepy.video.io.VideoFileClip import AudioFileClip\n",
    "audioclip = AudioFileClip('car_chase.mp4')\n",
    "# audioclip = videoclip.audio\n",
    "audio_array = audioclip.to_soundarray()"
   ]
  },
  {
   "cell_type": "code",
   "execution_count": 9,
   "metadata": {
    "executionInfo": {
     "elapsed": 7,
     "status": "ok",
     "timestamp": 1683237477188,
     "user": {
      "displayName": "Jackson Wagner",
      "userId": "13678973550726092608"
     },
     "user_tz": 420
    },
    "id": "U5XJo3TcFxpQ"
   },
   "outputs": [],
   "source": [
    "video_and_audio_arr = []\n",
    "aud_per_frame = audio_array.shape[0]// resized_vid_arr.shape[0]\n",
    "for i in range(len(resized_vid_arr)):\n",
    "  aud_in = audio_array[i*aud_per_frame : (i+1)*aud_per_frame+1]\n",
    "  vec_in = [resized_vid_arr[i], aud_in]\n",
    "  video_and_audio_arr.append(vec_in)"
   ]
  },
  {
   "cell_type": "code",
   "execution_count": 10,
   "metadata": {
    "executionInfo": {
     "elapsed": 6,
     "status": "ok",
     "timestamp": 1683237477188,
     "user": {
      "displayName": "Jackson Wagner",
      "userId": "13678973550726092608"
     },
     "user_tz": 420
    },
    "id": "Lc0y21sYKck7"
   },
   "outputs": [],
   "source": [
    "fps = 30\n",
    "def make_frame(t):\n",
    "  t = int(t * fps)\n",
    "  # print(t)\n",
    "  return video_and_audio_arr[t][0]\n",
    "\n",
    "from moviepy.video.io.VideoFileClip import VideoClip\n",
    "myclip = VideoClip(make_frame, duration = 20)"
   ]
  },
  {
   "cell_type": "code",
   "execution_count": 11,
   "metadata": {
    "colab": {
     "base_uri": "https://localhost:8080/"
    },
    "executionInfo": {
     "elapsed": 6,
     "status": "ok",
     "timestamp": 1683237477188,
     "user": {
      "displayName": "Jackson Wagner",
      "userId": "13678973550726092608"
     },
     "user_tz": 420
    },
    "id": "-iBAZyubIpWH",
    "outputId": "db5114d7-4cc8-49fe-bfef-fc46b45426ef"
   },
   "outputs": [
    {
     "name": "stdout",
     "output_type": "stream",
     "text": [
      "Moviepy - Building video test.mp4.\n",
      "Moviepy - Writing video test.mp4\n",
      "\n"
     ]
    },
    {
     "name": "stderr",
     "output_type": "stream",
     "text": [
      "                                                    "
     ]
    },
    {
     "name": "stdout",
     "output_type": "stream",
     "text": [
      "Moviepy - Done !\n",
      "Moviepy - video ready test.mp4\n"
     ]
    },
    {
     "name": "stderr",
     "output_type": "stream",
     "text": [
      "\r"
     ]
    }
   ],
   "source": [
    "myclip.write_videofile('test.mp4', fps = 30)"
   ]
  },
  {
   "cell_type": "code",
   "execution_count": 12,
   "metadata": {
    "colab": {
     "base_uri": "https://localhost:8080/"
    },
    "executionInfo": {
     "elapsed": 1434,
     "status": "ok",
     "timestamp": 1683237478619,
     "user": {
      "displayName": "Jackson Wagner",
      "userId": "13678973550726092608"
     },
     "user_tz": 420
    },
    "id": "v6Cf944EXQd_",
    "outputId": "73683f4e-7a36-4056-e2cc-0908fcbeca2b"
   },
   "outputs": [
    {
     "name": "stdout",
     "output_type": "stream",
     "text": [
      "(1179072, 2)\n"
     ]
    }
   ],
   "source": [
    "## concatonate the audio\n",
    "audio = video_and_audio_arr[0][1]\n",
    "for i in range(20*40):\n",
    "  next_aud = video_and_audio_arr[i+1][1]\n",
    "  audio = np.vstack((audio, next_aud))\n",
    "print(audio.shape)"
   ]
  },
  {
   "cell_type": "code",
   "execution_count": 13,
   "metadata": {
    "colab": {
     "base_uri": "https://localhost:8080/"
    },
    "executionInfo": {
     "elapsed": 3285,
     "status": "ok",
     "timestamp": 1683237481902,
     "user": {
      "displayName": "Jackson Wagner",
      "userId": "13678973550726092608"
     },
     "user_tz": 420
    },
    "id": "OW5Cdk0EZapo",
    "outputId": "788fb668-a99c-4b2a-9092-65270d1e6e8e"
   },
   "outputs": [
    {
     "name": "stdout",
     "output_type": "stream",
     "text": [
      "Defaulting to user installation because normal site-packages is not writeable\n",
      "Requirement already satisfied: pydub in /global/u2/m/martel/.local/perlmutter/pytorch1.13.1/lib/python3.9/site-packages (0.25.1)\n"
     ]
    }
   ],
   "source": [
    "!pip install pydub"
   ]
  },
  {
   "cell_type": "code",
   "execution_count": 14,
   "metadata": {
    "executionInfo": {
     "elapsed": 10,
     "status": "ok",
     "timestamp": 1683237481903,
     "user": {
      "displayName": "Jackson Wagner",
      "userId": "13678973550726092608"
     },
     "user_tz": 420
    },
    "id": "z1UTKIkuYTMm"
   },
   "outputs": [],
   "source": [
    "import pydub \n",
    "\n",
    "def write(f, sr, x, normalized=True):\n",
    "    \"\"\"numpy array to MP3\"\"\"\n",
    "    channels = 2 if (x.ndim == 2 and x.shape[1] == 2) else 1\n",
    "    if normalized:  # normalized array - each item should be a float in [-1, 1)\n",
    "        y = np.int16(x * 2 ** 15)\n",
    "    else:\n",
    "        y = np.int16(x)\n",
    "    song = pydub.AudioSegment(y.tobytes(), frame_rate=sr, sample_width=2, channels=channels)\n",
    "    song.export(f, format=\"mp3\", bitrate=\"320k\")\n",
    "\n",
    "# sr = (audio_array.shape[0]// resized_vid_arr.shape[0])*fps\n",
    "#write('test_audio_2.mp3', sr, audio)"
   ]
  },
  {
   "cell_type": "markdown",
   "metadata": {
    "id": "5Q8jot63w2ZZ"
   },
   "source": [
    "*training loop from cs189 hw*"
   ]
  },
  {
   "cell_type": "code",
   "execution_count": 15,
   "metadata": {
    "executionInfo": {
     "elapsed": 620,
     "status": "ok",
     "timestamp": 1683237484501,
     "user": {
      "displayName": "Jackson Wagner",
      "userId": "13678973550726092608"
     },
     "user_tz": 420
    },
    "id": "MkAHFi0HxVso"
   },
   "outputs": [],
   "source": [
    "import numpy as np\n",
    "import matplotlib.pyplot as plt\n",
    "%matplotlib inline\n",
    "\n",
    "import torch\n",
    "import torch.nn as nn\n",
    "import torch.nn.functional as F\n",
    "from torchvision import datasets, transforms\n",
    "from torch.utils.data import Dataset, DataLoader\n",
    "import gc"
   ]
  },
  {
   "cell_type": "code",
   "execution_count": 16,
   "metadata": {
    "executionInfo": {
     "elapsed": 3,
     "status": "ok",
     "timestamp": 1683237484501,
     "user": {
      "displayName": "Jackson Wagner",
      "userId": "13678973550726092608"
     },
     "user_tz": 420
    },
    "id": "E2TzvSjoxnJz"
   },
   "outputs": [],
   "source": [
    "class VideoAudioDataset(Dataset):\n",
    "    def __init__(self, video_frames, audio_frames, num_frames):\n",
    "        self.video_frames = torch.tensor(video_frames, dtype=torch.float32).permute(0,3,2,1) # Permute to (N, C, H, W)\n",
    "        self.aud_per_frame = audio_frames.shape[0]// (video_frames.shape[0])\n",
    "        clip_amount = audio_frames.shape[0] % self.aud_per_frame\n",
    "        self.audio_frames = torch.tensor(audio_frames[:-clip_amount], dtype=torch.float32).reshape(-1, self.aud_per_frame,audio_frames.shape[1]).permute(0,2,1) # Permute to (N, C, A)\n",
    "        print(self.audio_frames.shape)\n",
    "        self.num_frames = num_frames\n",
    "\n",
    "    def __len__(self):\n",
    "        return len(self.video_frames)\n",
    "\n",
    "    def __getitem__(self, idx):\n",
    "        idx += 1\n",
    "        if idx < self.num_frames:\n",
    "          num_zeros_needed = self.num_frames - idx\n",
    "          vid_zeros = torch.zeros(num_zeros_needed, *self.video_frames[0].shape)\n",
    "          aud_zeros = torch.zeros(num_zeros_needed, *self.audio_frames[0].shape)\n",
    "          vid = torch.vstack((vid_zeros, self.video_frames[0:idx])).transpose(0,1)\n",
    "          aud = torch.vstack((aud_zeros, self.audio_frames[0:idx])).transpose(0,1).reshape(2,-1).transpose(0,1)\n",
    "          #print(\"aud_shape:\", aud.shape, \"reshaped:\", torch.vstack((aud_zeros, self.audio_frames[0:idx])).transpose(0,1).shape)\n",
    "          return (vid, aud)\n",
    "        #vid shape example torch.Size([32, 3, 10, 36, 64])\n",
    "        # aud shape example torch.Size([32, 2, 14710])\n",
    "        vid = self.video_frames[idx-self.num_frames:idx].transpose(0,1)\n",
    "        aud = self.audio_frames[idx-self.num_frames: (idx)].transpose(0,1).reshape(2,-1).transpose(0,1)\n",
    "        #print(\"aud_shape:\", aud.shape)\n",
    "        # print('idx = ', idx, ' aud.size = ', aud.shape)\n",
    "        return (vid, aud)"
   ]
  },
  {
   "cell_type": "markdown",
   "metadata": {
    "id": "qBlme3Oac8xI"
   },
   "source": [
    "https://github.com/antecessor/Wavenet << source!"
   ]
  },
  {
   "cell_type": "code",
   "execution_count": 17,
   "metadata": {
    "executionInfo": {
     "elapsed": 2,
     "status": "ok",
     "timestamp": 1683237484501,
     "user": {
      "displayName": "Jackson Wagner",
      "userId": "13678973550726092608"
     },
     "user_tz": 420
    },
    "id": "UfWN3pHBlP5V"
   },
   "outputs": [],
   "source": [
    "class AudConvEmbedding(nn.Module):\n",
    "  def __init__(self, in_channels, output_dim):\n",
    "    super(AudConvEmbedding, self).__init__()\n",
    "    self.conv_layers = nn.Sequential(\n",
    "        nn.Conv1d(in_channels = 2, out_channels = 2, kernel_size = 5, stride = 2),\n",
    "        nn.LayerNorm(7353),\n",
    "        nn.Conv1d(in_channels = 2, out_channels = 2, kernel_size = 5, stride = 2),\n",
    "        nn.LayerNorm(3675),\n",
    "        nn.Conv1d(in_channels = 2, out_channels = 2, kernel_size = 5, stride = 2),\n",
    "        nn.LayerNorm(1836),\n",
    "        nn.Conv1d(in_channels = 2, out_channels = 2, kernel_size = 5, stride = 2),\n",
    "        nn.LayerNorm(916),\n",
    "        nn.Conv1d(in_channels = 2, out_channels = 2, kernel_size = 5, stride = 2),\n",
    "        nn.LayerNorm(456),\n",
    "        nn.Linear(456, output_dim)\n",
    "    )\n",
    "  \n",
    "  def forward(self, x):\n",
    "    return self.conv_layers(x)"
   ]
  },
  {
   "cell_type": "code",
   "execution_count": 18,
   "metadata": {
    "executionInfo": {
     "elapsed": 1,
     "status": "ok",
     "timestamp": 1683237538333,
     "user": {
      "displayName": "Jackson Wagner",
      "userId": "13678973550726092608"
     },
     "user_tz": 420
    },
    "id": "HQcJkvjArLHd"
   },
   "outputs": [],
   "source": [
    "class MultiheadAttention(nn.Module):\n",
    "\n",
    "    def __init__(self, input_dim, embed_dim, num_heads, dropout):\n",
    "        super().__init__()\n",
    "        assert embed_dim % num_heads == 0, \"Embedding dimension must be 0 modulo number of heads.\"\n",
    "\n",
    "        self.embed_dim = embed_dim\n",
    "        self.num_heads = num_heads\n",
    "        self.head_dim = embed_dim // num_heads\n",
    "\n",
    "        self.dropout = nn.Dropout(dropout)\n",
    "\n",
    "        # Stack all weight matrices 1...h together for efficiency\n",
    "        # Note that in many implementations you see \"bias=False\" which is optional\n",
    "        self.qkv_proj = nn.Linear(input_dim, 3*embed_dim)\n",
    "        self.o_proj = nn.Linear(embed_dim, input_dim)\n",
    "\n",
    "        self._reset_parameters()\n",
    "\n",
    "    def _reset_parameters(self):\n",
    "        # Original Transformer initialization, see PyTorch documentation\n",
    "        nn.init.xavier_uniform_(self.qkv_proj.weight)\n",
    "        self.qkv_proj.bias.data.fill_(0)\n",
    "        nn.init.xavier_uniform_(self.o_proj.weight)\n",
    "        self.o_proj.bias.data.fill_(0)\n",
    "\n",
    "    def scaled_dot_product(self, q, k, v, mask=None):\n",
    "        d_k = q.size()[-1]\n",
    "        attn_logits = torch.matmul(q, k.transpose(-2, -1))\n",
    "        attn_logits = attn_logits / np.sqrt(d_k)\n",
    "        if mask is not None:\n",
    "            attn_logits = attn_logits.masked_fill(mask == 0, -9e15)\n",
    "        attention = F.softmax(attn_logits, dim=-1)\n",
    "        attention = self.dropout(attention)\n",
    "        values = torch.matmul(attention, v)\n",
    "        return values, attention\n",
    "\n",
    "    def forward(self, x, mask=None, return_attention=False):\n",
    "        batch_size, seq_length, _ = x.size()\n",
    "        qkv = self.qkv_proj(x)\n",
    "\n",
    "        # Separate Q, K, V from linear output\n",
    "        qkv = qkv.reshape(batch_size, seq_length, self.num_heads, 3*self.head_dim)\n",
    "        qkv = qkv.permute(0, 2, 1, 3) # [Batch, Head, SeqLen, Dims]\n",
    "        q, k, v = qkv.chunk(3, dim=-1)\n",
    "        #print(q.shape, k.shape, v.shape)\n",
    "        # Determine value outputs\n",
    "        values, attention = self.scaled_dot_product(q, k, v, mask=mask)\n",
    "        values = values.permute(0, 2, 1, 3) # [Batch, SeqLen, Head, Dims]\n",
    "        #print(values.shape)\n",
    "        values = values.reshape(batch_size, seq_length, self.embed_dim)\n",
    "        o = self.o_proj(values)\n",
    "\n",
    "        if return_attention:\n",
    "            return o, attention\n",
    "        else:\n",
    "            return o"
   ]
  },
  {
   "cell_type": "code",
   "execution_count": 19,
   "metadata": {
    "executionInfo": {
     "elapsed": 1,
     "status": "ok",
     "timestamp": 1683237538333,
     "user": {
      "displayName": "Jackson Wagner",
      "userId": "13678973550726092608"
     },
     "user_tz": 420
    },
    "id": "QYSe-ZnNdr9Y"
   },
   "outputs": [],
   "source": [
    "class AddPosEncoding(nn.Module):\n",
    "  def __init__(self, d_model = 256, input_dropout = 0.1, timing_dropout = 0.1, max_len = 512):\n",
    "    super(AddPosEncoding, self).__init__()\n",
    "    self.d_model = d_model\n",
    "    self.input_dropout = input_dropout\n",
    "    self.timing_dropout = timing_dropout\n",
    "    self.max_len = max_len\n",
    "\n",
    "    self.timing_table = nn.Parameter(torch.FloatTensor(max_len, d_model))\n",
    "    nn.init.normal_(self.timing_table)\n",
    "    self.input_dropout = nn.Dropout(input_dropout)\n",
    "    self.timing_dropout = nn.Dropout(self.timing_dropout)\n",
    "\n",
    "  \n",
    "  def forward(self,x):\n",
    "    x = self.input_dropout(x)\n",
    "    timing = self.timing_table[None, :x.shape[1], :]\n",
    "    timing = self.timing_dropout(timing)\n",
    "    return x + timing \n",
    "\n"
   ]
  },
  {
   "cell_type": "code",
   "execution_count": 20,
   "metadata": {},
   "outputs": [],
   "source": [
    "class GLUTanh(nn.Module):\n",
    "    def __init__(self, input_size, output_size):\n",
    "        super(GLUTanh, self).__init__()\n",
    "        self.glu = nn.GLU(dim=-1)\n",
    "        self.linear = nn.Linear(input_size // 2, output_size)\n",
    "\n",
    "    def forward(self, x):\n",
    "        x = self.glu(x)\n",
    "        x = self.linear(x)\n",
    "        x = torch.tanh(x)\n",
    "        return x"
   ]
  },
  {
   "cell_type": "code",
   "execution_count": 21,
   "metadata": {
    "executionInfo": {
     "elapsed": 1,
     "status": "ok",
     "timestamp": 1683237538935,
     "user": {
      "displayName": "Jackson Wagner",
      "userId": "13678973550726092608"
     },
     "user_tz": 420
    },
    "id": "0tYyj_yXc1mE"
   },
   "outputs": [],
   "source": [
    "class AudTransformer(nn.Module):\n",
    "  def __init__(self, in_channels, out_channels, hidden_dims = 256, seq_len = 100, dim_ff = 1024, n_layers = 6, n_head = 8, d_qkv = 64, dropout = 0.1):\n",
    "        super(AudTransformer, self).__init__()\n",
    "        self.in_channels = in_channels\n",
    "        self.out_channels = out_channels\n",
    "        self.hidden_dims = hidden_dims\n",
    "        self.dim_ff = dim_ff\n",
    "        self.n_layers = n_layers\n",
    "        self.n_head = n_head\n",
    "        self.d_qkv = d_qkv\n",
    "        self.dropout = dropout\n",
    "\n",
    "        self.mha_list = nn.ModuleList()\n",
    "        self.mha_norms = nn.ModuleList()\n",
    "        self.pff_list = nn.ModuleList()\n",
    "        self.pff_norms = nn.ModuleList()\n",
    "\n",
    "        self.add_timing = AddPosEncoding(hidden_dims, max_len = seq_len)\n",
    "\n",
    "        #self.embedding = AudConvEmbedding(2, self.hidden_dims)\n",
    "        self.embedding2 = nn.Linear(2, self.hidden_dims)\n",
    "        \n",
    "        #self.output_norm = nn.LayerNorm(hidden_dims)\n",
    "        #self.linear = nn.Linear(self.hidden_dims, 2)\n",
    "        #self.output_proj = nn.Conv1d(in_channels = seq_len, out_channels = 1, kernel_size = 1, stride = 1)\n",
    "        self.output_proj = nn.Sequential(\n",
    "            nn.LayerNorm(hidden_dims),\n",
    "            nn.Conv1d(in_channels = seq_len, out_channels = 1, kernel_size = 1, stride = 1),\n",
    "            nn.Linear(self.hidden_dims, 1024),\n",
    "            nn.GLU(),\n",
    "            nn.Linear(512, 2)\n",
    "        )\n",
    "\n",
    "        \n",
    "        for _ in range(n_layers):\n",
    "          self.mha_list.append(MultiheadAttention(self.hidden_dims, self.d_qkv, self.n_head, self.dropout))\n",
    "          self.mha_norms.append(nn.LayerNorm(hidden_dims))\n",
    "          self.pff_list.append(nn.Sequential(\n",
    "                              nn.Linear(hidden_dims, dim_ff),\n",
    "                              nn.ReLU(),\n",
    "                              nn.Linear(dim_ff, hidden_dims),\n",
    "                              nn.Dropout(self.dropout)\n",
    "                              ))\n",
    "          self.pff_norms.append(nn.LayerNorm(hidden_dims))\n",
    "\n",
    "  def forward(self, x):\n",
    "    #print(\"tf:\", x.shape)\n",
    "    #x = self.embedding(x).transpose(2,1)\n",
    "    x = self.embedding2(x)\n",
    "    x = x + self.add_timing(x)\n",
    "    #print(\"tf emb:\", x.shape)\n",
    "    for i in range(self.n_layers):\n",
    "      x_norm = self.mha_norms[i](x)\n",
    "      #print('x_norm.shape', x_norm.shape)\n",
    "      att_out = self.mha_list[i](x)\n",
    "      #print(att_out.shape)\n",
    "      x = x_norm + att_out\n",
    "      x_norm = self.pff_norms[i](x)\n",
    "      ff_out = self.pff_list[i](x_norm)\n",
    "      x = x_norm + ff_out\n",
    "      #print(\"tf layer:\", i, x.shape)\n",
    "    \n",
    "    #x = self.output_norm(x)\n",
    "    #print(\"tf:\", x.shape)\n",
    "   # x = self.linear(x)\n",
    "    x = self.output_proj(x)\n",
    "    #print(\"tf:\", x.shape)\n",
    "    #print(\"tf:\", x.shape)\n",
    "    return x\n"
   ]
  },
  {
   "cell_type": "code",
   "execution_count": 22,
   "metadata": {
    "executionInfo": {
     "elapsed": 2,
     "status": "ok",
     "timestamp": 1683237539153,
     "user": {
      "displayName": "Jackson Wagner",
      "userId": "13678973550726092608"
     },
     "user_tz": 420
    },
    "id": "uHtt4x660lxE"
   },
   "outputs": [],
   "source": [
    "class VidToAudFusion(nn.Module):\n",
    "    def __init__(self, audio_dim, video_dims, audio_channels, vid_channels, dropout_prob=0.1, num_frames=10):\n",
    "        super(VidToAudFusion, self).__init__()\n",
    "        self.dim_proj = nn.Linear(video_dims[0] * video_dims[1] * num_frames, (audio_dim * num_frames) - 1)\n",
    "        self.audio_dim = audio_dim\n",
    "        self.video_dims = video_dims\n",
    "        self.vid_channels = vid_channels\n",
    "\n",
    "        if audio_channels == vid_channels:\n",
    "            self.channel_projection = nn.Identity()\n",
    "        else:\n",
    "            self.channel_projection = nn.Sequential(\n",
    "                nn.Conv2d(vid_channels, audio_channels, kernel_size=1, stride=1, bias=True),\n",
    "            )\n",
    "        self.channel_projection2 = nn.Sequential(\n",
    "                nn.Conv1d(num_frames, 2, kernel_size=1, stride=1, bias=True),\n",
    "            )\n",
    "            \n",
    "    def forward(self, x):\n",
    "      #x = x.reshape(x.shape[0], x.shape[1], x.shape[2], -1)\n",
    "      #print(\"vid to aud:\", x.shape)\n",
    "      audio_proj = torch.flatten(x, start_dim=3)\n",
    "      #print(\"vid to aud:\", x.shape)\n",
    "      #audio_proj = self.dim_proj(audio_proj)\n",
    "      #print(\"vid to aud:\", audio_proj.shape)\n",
    "      #print(audio_proj.shape)\n",
    "      audio_proj = self.channel_projection(audio_proj).squeeze(2)\n",
    "      #print(\"vid to aud:\", audio_proj.shape)\n",
    "      #audio_proj = self.channel_projection2(audio_proj)\n",
    "      audio_proj = audio_proj.reshape(audio_proj.shape[0], -1)\n",
    "      #print(\"vid to aud:\", audio_proj.shape)\n",
    "      audio_proj = self.dim_proj(audio_proj)\n",
    "      #print(\"vid to aud:\", audio_proj.shape)\n",
    "      #print(audio_proj.shape)\n",
    "      return audio_proj"
   ]
  },
  {
   "cell_type": "code",
   "execution_count": 23,
   "metadata": {
    "executionInfo": {
     "elapsed": 2,
     "status": "ok",
     "timestamp": 1683237539153,
     "user": {
      "displayName": "Jackson Wagner",
      "userId": "13678973550726092608"
     },
     "user_tz": 420
    },
    "id": "zXf3OZlZyA8M"
   },
   "outputs": [],
   "source": [
    "class ConvResBlock3D(nn.Module):\n",
    "    def __init__(self, in_channels, out_channels, dropout_prob=0.1, stride=1, kernel_size=3, padding=1):\n",
    "        super(ConvResBlock3D, self).__init__()\n",
    "        self.conv1 = nn.Conv3d(in_channels, out_channels, kernel_size=kernel_size, stride=stride, padding=padding, bias=True)\n",
    "        self.norm1 = nn.BatchNorm3d(out_channels)\n",
    "        self.relu = nn.ReLU()\n",
    "        self.dropout = nn.Dropout(p=dropout_prob)\n",
    "        self.conv2 = nn.Conv3d(out_channels, out_channels, kernel_size=kernel_size, stride=1, padding=padding, bias=True)\n",
    "        self.norm2 = nn.BatchNorm3d(out_channels)\n",
    "        self.stride = stride\n",
    "        \n",
    "        if in_channels == out_channels:\n",
    "            self.skip_connection = nn.Identity()\n",
    "        else:\n",
    "            self.skip_connection = nn.Sequential(\n",
    "                nn.Conv3d(in_channels, out_channels, kernel_size=1, stride=stride, bias=True),\n",
    "                nn.BatchNorm3d(out_channels)\n",
    "            )\n",
    "            \n",
    "    def forward(self, x):\n",
    "        residual = self.skip_connection(x)\n",
    "        \n",
    "        out = self.conv1(x)\n",
    "        out = self.norm1(out)\n",
    "        out = self.relu(out)\n",
    "        out = self.dropout(out)\n",
    "        \n",
    "        out = self.conv2(out)\n",
    "        out = self.norm2(out)\n",
    "        out = self.dropout(out)\n",
    "        \n",
    "        out = self.relu(out)\n",
    "        out = out + residual\n",
    "\n",
    "        return out\n",
    "\n",
    "class ConvResBlock2D(nn.Module):\n",
    "    def __init__(self, in_channels, out_channels, dropout_prob=0.1, stride=1, kernel_size=3, padding=1):\n",
    "        super(ConvResBlock2D, self).__init__()\n",
    "        self.conv1 = nn.Conv2d(in_channels, out_channels, kernel_size=kernel_size, stride=stride, padding=padding, bias=True)\n",
    "        self.norm1 = nn.BatchNorm2d(out_channels)\n",
    "        self.relu = nn.ReLU()\n",
    "        self.dropout = nn.Dropout(p=dropout_prob)\n",
    "        self.conv2 = nn.Conv2d(out_channels, out_channels, kernel_size=kernel_size, stride=1, padding=padding, bias=True)\n",
    "        self.norm2 = nn.BatchNorm2d(out_channels)\n",
    "        self.stride = stride\n",
    "        \n",
    "        if in_channels == out_channels:\n",
    "            self.skip_connection = nn.Identity()\n",
    "        else:\n",
    "            self.skip_connection = nn.Sequential(\n",
    "                nn.Conv2d(in_channels, out_channels, kernel_size=1, stride=stride, bias=True),\n",
    "                nn.BatchNorm2d(out_channels)\n",
    "            )\n",
    "            \n",
    "    def forward(self, x):\n",
    "        residual = self.skip_connection(x)\n",
    "        \n",
    "        out = self.conv1(x)\n",
    "        out = self.norm1(out)\n",
    "        out = self.relu(out)\n",
    "        out = self.dropout(out)\n",
    "        \n",
    "        out = self.conv2(out)\n",
    "        out = self.norm2(out)\n",
    "        out = self.dropout(out)\n",
    "        \n",
    "        out = self.relu(out)\n",
    "        out = out + residual\n",
    "\n",
    "        return out"
   ]
  },
  {
   "cell_type": "code",
   "execution_count": 24,
   "metadata": {
    "executionInfo": {
     "elapsed": 2,
     "status": "ok",
     "timestamp": 1683237539153,
     "user": {
      "displayName": "Jackson Wagner",
      "userId": "13678973550726092608"
     },
     "user_tz": 420
    },
    "id": "Ue7zYZltyIe4"
   },
   "outputs": [],
   "source": [
    "### combines video into audio input vector and then passes through wavenet\n",
    "\n",
    "class AttAudVideoNet(nn.Module):\n",
    "    def __init__(self,audio_input_shape, video_input_shape,in_channels=2,out_channels=2): ## NEED TO DEBUG THESE hyperperams 4.29\n",
    "        super().__init__()\n",
    "        self.transformer=AudTransformer(in_channels, out_channels, hidden_dims = 256, seq_len = 1470, dim_ff = 1024, n_layers = 6, n_head = 8, d_qkv = 64, dropout = 0.1) \n",
    "        #self.activation = nn.Tanh()\n",
    "        self.activation = GLUTanh(2,2)\n",
    "        self.vid_convs = nn.ModuleList([\n",
    "            ConvResBlock3D(3, 64),\n",
    "            ConvResBlock3D(64, 128),\n",
    "            ConvResBlock3D(128, 256)\n",
    "        ])\n",
    "        self.audio_input_shape = audio_input_shape\n",
    "        self.video_input_shape = video_input_shape\n",
    "        vid_dims_list = self.get_video_dims(video_input_shape)\n",
    "        self.vid_to_aud = VidToAudFusion(self.audio_input_shape[-1], vid_dims_list[2], 1, 256, num_frames=video_input_shape[2])\n",
    "        \n",
    "        #self.output_lin = nn.Linear(256*in_channels, out_channels)\n",
    "\n",
    "    def get_video_dims(self, video_input_shape):\n",
    "        shape_list = []\n",
    "        test_data = torch.ones(video_input_shape)\n",
    "        out = self.vid_convs[0](test_data)\n",
    "        shape_list.append((out.shape[-2],out.shape[-1]))\n",
    "        for layer in self.vid_convs[1:]:\n",
    "            out = layer(out)\n",
    "            shape_list.append((out.shape[-2],out.shape[-1]))\n",
    "        return shape_list\n",
    "\n",
    "    def forward(self,vid, aud):\n",
    "        #print(vid.shape, aud.shape)\n",
    "        for i in range(len(self.vid_convs)):\n",
    "          vid = self.vid_convs[i](vid)\n",
    "        #print(vid.shape)\n",
    "        vid_to_aud = self.vid_to_aud(vid)\n",
    "        #print(vid_to_aud.shape, aud.shape)\n",
    "        #print(vid_to_aud.shape, aud.shape)\n",
    "        aud = aud + vid_to_aud.unsqueeze(2)\n",
    "        aud=self.transformer(aud)\n",
    "        #print(aud.shape)\n",
    "        #aud=aud.reshape(aud.shape[0], -1)\n",
    "        #aud = self.output_lin(aud)\n",
    "        #print('output shape = ', aud.shape)\n",
    "        return self.activation(aud)\n",
    "\n"
   ]
  },
  {
   "cell_type": "code",
   "execution_count": 25,
   "metadata": {
    "colab": {
     "base_uri": "https://localhost:8080/"
    },
    "executionInfo": {
     "elapsed": 2,
     "status": "ok",
     "timestamp": 1683237539153,
     "user": {
      "displayName": "Jackson Wagner",
      "userId": "13678973550726092608"
     },
     "user_tz": 420
    },
    "id": "N8JUAOeGGFnG",
    "outputId": "28b9d3b9-3c55-43f1-b32a-85f540449425"
   },
   "outputs": [
    {
     "name": "stdout",
     "output_type": "stream",
     "text": [
      "(18547, 64, 36, 3) 128196864\n",
      "54583452\n"
     ]
    }
   ],
   "source": [
    "print(resized_vid_arr.shape, resized_vid_arr.size)\n",
    "print(audio_array.size)"
   ]
  },
  {
   "cell_type": "code",
   "execution_count": 26,
   "metadata": {
    "colab": {
     "base_uri": "https://localhost:8080/"
    },
    "executionInfo": {
     "elapsed": 297,
     "status": "ok",
     "timestamp": 1683237539810,
     "user": {
      "displayName": "Jackson Wagner",
      "userId": "13678973550726092608"
     },
     "user_tz": 420
    },
    "id": "Bs_v_OsGl5gC",
    "outputId": "29520eaa-b87e-4f16-bffd-ca0d3ce666f7"
   },
   "outputs": [
    {
     "name": "stdout",
     "output_type": "stream",
     "text": [
      "torch.Size([14842, 2, 1471])\n",
      "torch.Size([3710, 2, 1471])\n"
     ]
    }
   ],
   "source": [
    "train_data = VideoAudioDataset(resized_vid_arr[:int(len(resized_vid_arr)*0.8)], audio_array[:int(len(audio_array)*0.8)], num_frames = 1)\n",
    "valid_data = VideoAudioDataset(resized_vid_arr[int(len(resized_vid_arr)*0.8):], audio_array[int(len(audio_array)*0.8):], num_frames = 1)\n",
    "train_loader = DataLoader(train_data, batch_size=32, shuffle=True)\n",
    "valid_loader = DataLoader(valid_data, batch_size=32, shuffle=True)"
   ]
  },
  {
   "cell_type": "code",
   "execution_count": 27,
   "metadata": {
    "colab": {
     "base_uri": "https://localhost:8080/"
    },
    "executionInfo": {
     "elapsed": 5,
     "status": "ok",
     "timestamp": 1683237541414,
     "user": {
      "displayName": "Jackson Wagner",
      "userId": "13678973550726092608"
     },
     "user_tz": 420
    },
    "id": "3flVTs2Q0n2e",
    "outputId": "74a7d44f-010c-4644-b20f-ff5fdbcc8fdb"
   },
   "outputs": [
    {
     "name": "stdout",
     "output_type": "stream",
     "text": [
      "torch.Size([32, 3, 1, 36, 64])\n",
      "torch.Size([32, 1471, 2])\n"
     ]
    }
   ],
   "source": [
    "for x in train_loader:\n",
    "  print(x[0].shape)\n",
    "  print(x[1].shape)\n",
    "  break\n",
    "  \n",
    "count = 0\n",
    "# for x in valid_loader:\n",
    "#   count += 1\n",
    "#   if count == 10:\n",
    "#     print(x[0].shape)\n",
    "#     print(x[1].shape)\n",
    "#     break"
   ]
  },
  {
   "cell_type": "code",
   "execution_count": 28,
   "metadata": {
    "colab": {
     "base_uri": "https://localhost:8080/",
     "height": 81,
     "referenced_widgets": [
      "73273624d3ec46539047695496cef11b",
      "bbada1e125ff429eae418bf609e3ea4c",
      "9f611faec9f24d7fb136eae0dcaf71cf",
      "9c643f04c1b741d1b57fa7b6b209c102",
      "fdbb2926241c4891885ef8a36ce7a130",
      "46105105d11e435dbc0db488c43fdf47",
      "675868afca70457aacba30a626a61b35",
      "cdfb1461201943b183377eefdb6772d6",
      "3b20e87dd300401b82d747d27ecbc039",
      "d226292202f1430cbdc602085458ad03",
      "acadf0fed9184df98a87485271518fdc",
      "bda87b78f0cd420bb99623ea2fa2759f",
      "66028dc242a24a6bbe5aae7d5aac4ee0",
      "b23a60ed465e45beb5cd4bad947d1270",
      "1599d35bd6844badaeedd1fef5d86877",
      "85c3ed4a97f2464e834d340cf7d43006",
      "a646b672a12442fab793b40b5f019547",
      "fad159c751df456285bc240fd603ff37",
      "919ddb8d374b4e92b57f750c0d019859",
      "1bf569533ba648e08eedf0b0a2a9cdf9",
      "347b450562614c51b1295c8bddd69ade",
      "2f60c766deac41baa3e771dc24800dd1"
     ]
    },
    "id": "cz9cYVhaa0vj",
    "outputId": "e081301b-d979-4824-de7a-0b4008a8aa27"
   },
   "outputs": [
    {
     "data": {
      "application/vnd.jupyter.widget-view+json": {
       "model_id": "035fd3402e294a4d821feb7004c5e599",
       "version_major": 2,
       "version_minor": 0
      },
      "text/plain": [
       "Training: 0it [00:00, ?it/s]"
      ]
     },
     "metadata": {},
     "output_type": "display_data"
    },
    {
     "data": {
      "application/vnd.jupyter.widget-view+json": {
       "model_id": "ad6677e88a3b401493a6d77a8d318b79",
       "version_major": 2,
       "version_minor": 0
      },
      "text/plain": [
       "Validation: 0it [00:00, ?it/s]"
      ]
     },
     "metadata": {},
     "output_type": "display_data"
    },
    {
     "name": "stdout",
     "output_type": "stream",
     "text": [
      "tensor([[ 0.0105,  0.0171],\n",
      "        [-0.1166,  0.3245],\n",
      "        [-0.2510, -0.0600]], device='cuda:0')\n",
      "tensor([[ 0.2175, -0.2193],\n",
      "        [ 0.2163, -0.2176],\n",
      "        [ 0.2174, -0.2191]], device='cuda:0')\n",
      "0.021243445575237274\n",
      "loss for step 0 : 0.005178775217222131\n",
      "epoch 0\n"
     ]
    },
    {
     "data": {
      "application/vnd.jupyter.widget-view+json": {
       "model_id": "3487bfeef7fc452dbd3a8c18e6ef0a08",
       "version_major": 2,
       "version_minor": 0
      },
      "text/plain": [
       "Training: 0it [00:00, ?it/s]"
      ]
     },
     "metadata": {},
     "output_type": "display_data"
    },
    {
     "data": {
      "application/vnd.jupyter.widget-view+json": {
       "model_id": "aef6d405a9b548dd9e49560f95ce466c",
       "version_major": 2,
       "version_minor": 0
      },
      "text/plain": [
       "Validation: 0it [00:00, ?it/s]"
      ]
     },
     "metadata": {},
     "output_type": "display_data"
    },
    {
     "name": "stdout",
     "output_type": "stream",
     "text": [
      "tensor([[ 0.0713,  0.1741],\n",
      "        [-0.3958, -0.5508],\n",
      "        [-0.0671, -0.5965]], device='cuda:0')\n",
      "tensor([[ 0.1520, -0.1306],\n",
      "        [ 0.2071, -0.2052],\n",
      "        [ 0.1828, -0.1724]], device='cuda:0')\n",
      "0.18701845407485962\n",
      "loss for step 0 : -0.01034222493029159\n",
      "epoch 1\n"
     ]
    },
    {
     "data": {
      "application/vnd.jupyter.widget-view+json": {
       "model_id": "6c4211757bda402685723273775f6b9c",
       "version_major": 2,
       "version_minor": 0
      },
      "text/plain": [
       "Training: 0it [00:00, ?it/s]"
      ]
     },
     "metadata": {},
     "output_type": "display_data"
    },
    {
     "data": {
      "application/vnd.jupyter.widget-view+json": {
       "model_id": "f8b2d1c1dcd14ed0a65dc3b0d0e7e487",
       "version_major": 2,
       "version_minor": 0
      },
      "text/plain": [
       "Validation: 0it [00:00, ?it/s]"
      ]
     },
     "metadata": {},
     "output_type": "display_data"
    },
    {
     "name": "stdout",
     "output_type": "stream",
     "text": [
      "tensor([[ 0.1577,  0.0436],\n",
      "        [-0.2621, -0.0840],\n",
      "        [ 0.2265,  0.0330]], device='cuda:0')\n",
      "tensor([[ 0.9991, -0.9999],\n",
      "        [ 0.9994, -0.9999],\n",
      "        [ 0.9990, -0.9999]], device='cuda:0')\n",
      "0.11269187182188034\n",
      "loss for step 0 : -0.12750097112730147\n",
      "epoch 2\n"
     ]
    },
    {
     "data": {
      "application/vnd.jupyter.widget-view+json": {
       "model_id": "4b3237c4931f4f4ab66bf6fce317a76f",
       "version_major": 2,
       "version_minor": 0
      },
      "text/plain": [
       "Training: 0it [00:00, ?it/s]"
      ]
     },
     "metadata": {},
     "output_type": "display_data"
    },
    {
     "data": {
      "application/vnd.jupyter.widget-view+json": {
       "model_id": "a09e2e8bcced42838733d3f3f5221fa4",
       "version_major": 2,
       "version_minor": 0
      },
      "text/plain": [
       "Validation: 0it [00:00, ?it/s]"
      ]
     },
     "metadata": {},
     "output_type": "display_data"
    },
    {
     "name": "stdout",
     "output_type": "stream",
     "text": [
      "tensor([[ 0.2652, -0.0080],\n",
      "        [ 0.0266, -0.0584],\n",
      "        [ 0.2816,  0.0038]], device='cuda:0')\n",
      "tensor([[-0.9992,  0.9999],\n",
      "        [ 0.9989, -0.9999],\n",
      "        [ 0.8835, -0.9436]], device='cuda:0')\n",
      "0.5629091858863831\n",
      "loss for step 0 : -0.1727741721207681\n",
      "epoch 3\n"
     ]
    },
    {
     "data": {
      "application/vnd.jupyter.widget-view+json": {
       "model_id": "eb69118850e94aba9fe108ed8b310043",
       "version_major": 2,
       "version_minor": 0
      },
      "text/plain": [
       "Training: 0it [00:00, ?it/s]"
      ]
     },
     "metadata": {},
     "output_type": "display_data"
    },
    {
     "data": {
      "application/vnd.jupyter.widget-view+json": {
       "model_id": "2481139ea7a1486ea2e4e371181cdc48",
       "version_major": 2,
       "version_minor": 0
      },
      "text/plain": [
       "Validation: 0it [00:00, ?it/s]"
      ]
     },
     "metadata": {},
     "output_type": "display_data"
    },
    {
     "name": "stdout",
     "output_type": "stream",
     "text": [
      "tensor([[ 0.0350,  0.4900],\n",
      "        [ 0.3387, -0.1860],\n",
      "        [ 0.1795,  0.3341]], device='cuda:0')\n",
      "tensor([[-0.6810,  0.8203],\n",
      "        [ 1.0000, -1.0000],\n",
      "        [-0.9324,  0.9788]], device='cuda:0')\n",
      "0.1581157147884369\n",
      "loss for step 0 : -0.1827502172521275\n",
      "epoch 4\n"
     ]
    },
    {
     "data": {
      "application/vnd.jupyter.widget-view+json": {
       "model_id": "fd0dd2ac9b844631b1a74e608cb1d6d5",
       "version_major": 2,
       "version_minor": 0
      },
      "text/plain": [
       "Training: 0it [00:00, ?it/s]"
      ]
     },
     "metadata": {},
     "output_type": "display_data"
    },
    {
     "data": {
      "application/vnd.jupyter.widget-view+json": {
       "model_id": "fe4b179cf9044766b854f833efc8302d",
       "version_major": 2,
       "version_minor": 0
      },
      "text/plain": [
       "Validation: 0it [00:00, ?it/s]"
      ]
     },
     "metadata": {},
     "output_type": "display_data"
    },
    {
     "name": "stdout",
     "output_type": "stream",
     "text": [
      "tensor([[ 0.0448,  0.1189],\n",
      "        [-0.2984, -0.0215],\n",
      "        [ 0.1052,  0.3193]], device='cuda:0')\n",
      "tensor([[ 0.3345, -0.3699],\n",
      "        [ 0.9939, -0.9988],\n",
      "        [-0.6849,  0.8203]], device='cuda:0')\n",
      "0.14949822425842285\n",
      "loss for step 0 : -0.18361273268642633\n",
      "epoch 5\n"
     ]
    },
    {
     "data": {
      "application/vnd.jupyter.widget-view+json": {
       "model_id": "0febccbe73cd4beb9fa9eb9d7830fc1f",
       "version_major": 2,
       "version_minor": 0
      },
      "text/plain": [
       "Training: 0it [00:00, ?it/s]"
      ]
     },
     "metadata": {},
     "output_type": "display_data"
    },
    {
     "data": {
      "application/vnd.jupyter.widget-view+json": {
       "model_id": "e905afc3cb15436f91b84b3a3b2d934c",
       "version_major": 2,
       "version_minor": 0
      },
      "text/plain": [
       "Validation: 0it [00:00, ?it/s]"
      ]
     },
     "metadata": {},
     "output_type": "display_data"
    },
    {
     "name": "stdout",
     "output_type": "stream",
     "text": [
      "tensor([[-0.0381,  0.0584],\n",
      "        [ 0.0780, -0.3155],\n",
      "        [ 0.3007,  0.2119]], device='cuda:0')\n",
      "tensor([[-0.9999,  1.0000],\n",
      "        [ 1.0000, -1.0000],\n",
      "        [-0.9996,  1.0000]], device='cuda:0')\n",
      "-0.07365452498197556\n",
      "loss for step 0 : -0.153445117616945\n",
      "epoch 6\n"
     ]
    },
    {
     "data": {
      "application/vnd.jupyter.widget-view+json": {
       "model_id": "ebb237489fea4d5fb97055212a439958",
       "version_major": 2,
       "version_minor": 0
      },
      "text/plain": [
       "Training: 0it [00:00, ?it/s]"
      ]
     },
     "metadata": {},
     "output_type": "display_data"
    },
    {
     "data": {
      "application/vnd.jupyter.widget-view+json": {
       "model_id": "db586094ba4641aab91aa937642c2508",
       "version_major": 2,
       "version_minor": 0
      },
      "text/plain": [
       "Validation: 0it [00:00, ?it/s]"
      ]
     },
     "metadata": {},
     "output_type": "display_data"
    },
    {
     "name": "stdout",
     "output_type": "stream",
     "text": [
      "tensor([[-0.1075,  0.0814],\n",
      "        [-0.1651, -0.5117],\n",
      "        [ 0.0926,  0.0261]], device='cuda:0')\n",
      "tensor([[-0.4020,  0.5465],\n",
      "        [ 1.0000, -1.0000],\n",
      "        [-0.9957,  0.9994]], device='cuda:0')\n",
      "-0.11045889556407928\n",
      "loss for step 0 : -0.1763072678576345\n",
      "epoch 7\n"
     ]
    },
    {
     "data": {
      "application/vnd.jupyter.widget-view+json": {
       "model_id": "09b4788f61c84f25b0c6b66d15cde1d2",
       "version_major": 2,
       "version_minor": 0
      },
      "text/plain": [
       "Training: 0it [00:00, ?it/s]"
      ]
     },
     "metadata": {},
     "output_type": "display_data"
    },
    {
     "data": {
      "application/vnd.jupyter.widget-view+json": {
       "model_id": "11c25339319944dcb546140316d9face",
       "version_major": 2,
       "version_minor": 0
      },
      "text/plain": [
       "Validation: 0it [00:00, ?it/s]"
      ]
     },
     "metadata": {},
     "output_type": "display_data"
    },
    {
     "name": "stdout",
     "output_type": "stream",
     "text": [
      "tensor([[ 0.1359,  0.1008],\n",
      "        [ 0.3656,  0.1052],\n",
      "        [-0.0994, -0.1203]], device='cuda:0')\n",
      "tensor([[ 0.9988, -0.9998],\n",
      "        [ 0.7511, -0.8321],\n",
      "        [ 0.8522, -0.9165]], device='cuda:0')\n",
      "0.23161110281944275\n",
      "loss for step 0 : -0.19415836807178413\n",
      "epoch 8\n"
     ]
    },
    {
     "data": {
      "application/vnd.jupyter.widget-view+json": {
       "model_id": "82a1bb6b197447ab9a9926cd4d1d9cd1",
       "version_major": 2,
       "version_minor": 0
      },
      "text/plain": [
       "Training: 0it [00:00, ?it/s]"
      ]
     },
     "metadata": {},
     "output_type": "display_data"
    },
    {
     "data": {
      "application/vnd.jupyter.widget-view+json": {
       "model_id": "2a8311634a7d41b596e36bcf62969b75",
       "version_major": 2,
       "version_minor": 0
      },
      "text/plain": [
       "Validation: 0it [00:00, ?it/s]"
      ]
     },
     "metadata": {},
     "output_type": "display_data"
    },
    {
     "name": "stdout",
     "output_type": "stream",
     "text": [
      "tensor([[-0.2661, -0.0549],\n",
      "        [-0.2734, -0.5945],\n",
      "        [ 0.0748,  0.1518]], device='cuda:0')\n",
      "tensor([[-0.9957,  0.9993],\n",
      "        [ 1.0000, -1.0000],\n",
      "        [ 0.1400, -0.1198]], device='cuda:0')\n",
      "-0.5718309879302979\n",
      "loss for step 0 : -0.19186586888264054\n",
      "epoch 9\n"
     ]
    },
    {
     "data": {
      "application/vnd.jupyter.widget-view+json": {
       "model_id": "a504008551b043ea94c49fdf09ae040f",
       "version_major": 2,
       "version_minor": 0
      },
      "text/plain": [
       "Training: 0it [00:00, ?it/s]"
      ]
     },
     "metadata": {},
     "output_type": "display_data"
    },
    {
     "data": {
      "application/vnd.jupyter.widget-view+json": {
       "model_id": "64653d2b31ea4e6c8a1e3e7136c8af6d",
       "version_major": 2,
       "version_minor": 0
      },
      "text/plain": [
       "Validation: 0it [00:00, ?it/s]"
      ]
     },
     "metadata": {},
     "output_type": "display_data"
    },
    {
     "name": "stdout",
     "output_type": "stream",
     "text": [
      "tensor([[0.3238, 0.3746],\n",
      "        [0.6063, 0.5200],\n",
      "        [0.5210, 0.3739]], device='cuda:0')\n",
      "tensor([[-0.3615,  0.4965],\n",
      "        [-0.0672,  0.1449],\n",
      "        [-0.0862,  0.1688]], device='cuda:0')\n",
      "0.5246517658233643\n",
      "loss for step 0 : -0.1887790775169497\n",
      "epoch 10\n"
     ]
    },
    {
     "data": {
      "application/vnd.jupyter.widget-view+json": {
       "model_id": "fcdf2829c3b14a899f4354ef142c14d9",
       "version_major": 2,
       "version_minor": 0
      },
      "text/plain": [
       "Training: 0it [00:00, ?it/s]"
      ]
     },
     "metadata": {},
     "output_type": "display_data"
    },
    {
     "data": {
      "application/vnd.jupyter.widget-view+json": {
       "model_id": "78d38354823848fcb26ad140e37c6750",
       "version_major": 2,
       "version_minor": 0
      },
      "text/plain": [
       "Validation: 0it [00:00, ?it/s]"
      ]
     },
     "metadata": {},
     "output_type": "display_data"
    },
    {
     "name": "stdout",
     "output_type": "stream",
     "text": [
      "tensor([[ 0.3123,  0.3301],\n",
      "        [-0.1867, -0.4382],\n",
      "        [-0.1004,  0.2679]], device='cuda:0')\n",
      "tensor([[ 0.0384,  0.0100],\n",
      "        [ 1.0000, -1.0000],\n",
      "        [-1.0000,  1.0000]], device='cuda:0')\n",
      "0.4455713629722595\n",
      "loss for step 0 : -0.20046656590825676\n",
      "epoch 11\n"
     ]
    },
    {
     "data": {
      "application/vnd.jupyter.widget-view+json": {
       "model_id": "959c065fb883411083e59e81b618f47b",
       "version_major": 2,
       "version_minor": 0
      },
      "text/plain": [
       "Training: 0it [00:00, ?it/s]"
      ]
     },
     "metadata": {},
     "output_type": "display_data"
    },
    {
     "data": {
      "application/vnd.jupyter.widget-view+json": {
       "model_id": "0e8fe9fea66a48d58804562880ec6766",
       "version_major": 2,
       "version_minor": 0
      },
      "text/plain": [
       "Validation: 0it [00:00, ?it/s]"
      ]
     },
     "metadata": {},
     "output_type": "display_data"
    },
    {
     "name": "stdout",
     "output_type": "stream",
     "text": [
      "tensor([[ 0.0868, -0.3904],\n",
      "        [-0.1197, -0.3766],\n",
      "        [-0.2073, -0.3452]], device='cuda:0')\n",
      "tensor([[ 1.0000, -1.0000],\n",
      "        [ 1.0000, -1.0000],\n",
      "        [ 1.0000, -1.0000]], device='cuda:0')\n",
      "-0.8192915916442871\n",
      "loss for step 0 : -0.19923010499257107\n",
      "epoch 12\n"
     ]
    },
    {
     "data": {
      "application/vnd.jupyter.widget-view+json": {
       "model_id": "49388c036816444491994349e39599cf",
       "version_major": 2,
       "version_minor": 0
      },
      "text/plain": [
       "Training: 0it [00:00, ?it/s]"
      ]
     },
     "metadata": {},
     "output_type": "display_data"
    },
    {
     "data": {
      "application/vnd.jupyter.widget-view+json": {
       "model_id": "69b3955f0d2b459b9a1fe5aecc7db705",
       "version_major": 2,
       "version_minor": 0
      },
      "text/plain": [
       "Validation: 0it [00:00, ?it/s]"
      ]
     },
     "metadata": {},
     "output_type": "display_data"
    },
    {
     "name": "stdout",
     "output_type": "stream",
     "text": [
      "tensor([[ 0.0228,  0.1185],\n",
      "        [-0.1174,  0.0904],\n",
      "        [ 0.0892,  0.0751]], device='cuda:0')\n",
      "tensor([[-1.0000,  1.0000],\n",
      "        [-1.0000,  1.0000],\n",
      "        [ 0.7496, -0.8265]], device='cuda:0')\n",
      "0.06352759897708893\n",
      "loss for step 0 : -0.2000417596620062\n",
      "epoch 13\n"
     ]
    },
    {
     "data": {
      "application/vnd.jupyter.widget-view+json": {
       "model_id": "d6753080b6d245a187e34fa11645b19a",
       "version_major": 2,
       "version_minor": 0
      },
      "text/plain": [
       "Training: 0it [00:00, ?it/s]"
      ]
     },
     "metadata": {},
     "output_type": "display_data"
    },
    {
     "data": {
      "application/vnd.jupyter.widget-view+json": {
       "model_id": "5f55d2f4e1674fa885dd71532c813a8b",
       "version_major": 2,
       "version_minor": 0
      },
      "text/plain": [
       "Validation: 0it [00:00, ?it/s]"
      ]
     },
     "metadata": {},
     "output_type": "display_data"
    },
    {
     "name": "stdout",
     "output_type": "stream",
     "text": [
      "tensor([[ 0.2463, -0.3540],\n",
      "        [-0.2437, -0.2295],\n",
      "        [ 0.0640,  0.0007]], device='cuda:0')\n",
      "tensor([[ 1.0000, -1.0000],\n",
      "        [-0.9999,  1.0000],\n",
      "        [ 0.9992, -0.9999]], device='cuda:0')\n",
      "-0.7216066718101501\n",
      "loss for step 0 : -0.19792571997512942\n",
      "epoch 14\n"
     ]
    },
    {
     "data": {
      "application/vnd.jupyter.widget-view+json": {
       "model_id": "05bb2ec5141242ff8f4e557d69c0d2d5",
       "version_major": 2,
       "version_minor": 0
      },
      "text/plain": [
       "Training: 0it [00:00, ?it/s]"
      ]
     },
     "metadata": {},
     "output_type": "display_data"
    },
    {
     "data": {
      "application/vnd.jupyter.widget-view+json": {
       "model_id": "57e9710f0cff4142abe4b2abddc95d66",
       "version_major": 2,
       "version_minor": 0
      },
      "text/plain": [
       "Validation: 0it [00:00, ?it/s]"
      ]
     },
     "metadata": {},
     "output_type": "display_data"
    },
    {
     "name": "stdout",
     "output_type": "stream",
     "text": [
      "tensor([[0.4000, 0.2380],\n",
      "        [0.0309, 0.1753],\n",
      "        [0.2225, 0.4066]], device='cuda:0')\n",
      "tensor([[ 0.9995, -0.9999],\n",
      "        [-0.4784,  0.6134],\n",
      "        [-0.9874,  0.9970]], device='cuda:0')\n",
      "0.5569646954536438\n",
      "loss for step 0 : -0.1908670428816391\n",
      "epoch 15\n"
     ]
    },
    {
     "data": {
      "application/vnd.jupyter.widget-view+json": {
       "model_id": "881b7b2a08674694887221e19fbcad72",
       "version_major": 2,
       "version_minor": 0
      },
      "text/plain": [
       "Training: 0it [00:00, ?it/s]"
      ]
     },
     "metadata": {},
     "output_type": "display_data"
    },
    {
     "data": {
      "application/vnd.jupyter.widget-view+json": {
       "model_id": "6bcb9d3de1ee48bc8f9d29e06838ac46",
       "version_major": 2,
       "version_minor": 0
      },
      "text/plain": [
       "Validation: 0it [00:00, ?it/s]"
      ]
     },
     "metadata": {},
     "output_type": "display_data"
    },
    {
     "name": "stdout",
     "output_type": "stream",
     "text": [
      "tensor([[-0.1271,  0.0680],\n",
      "        [-0.0470,  0.1404],\n",
      "        [-0.0006, -0.1541]], device='cuda:0')\n",
      "tensor([[-1.0000,  1.0000],\n",
      "        [-1.0000,  1.0000],\n",
      "        [ 1.0000, -1.0000]], device='cuda:0')\n",
      "-0.26165249943733215\n",
      "loss for step 0 : -0.199797855997863\n",
      "epoch 16\n"
     ]
    },
    {
     "data": {
      "application/vnd.jupyter.widget-view+json": {
       "model_id": "cfeaca542e824a3d8c0d1203e003985f",
       "version_major": 2,
       "version_minor": 0
      },
      "text/plain": [
       "Training: 0it [00:00, ?it/s]"
      ]
     },
     "metadata": {},
     "output_type": "display_data"
    },
    {
     "data": {
      "application/vnd.jupyter.widget-view+json": {
       "model_id": "c3d159c6a8d54f3abbbe0900c861e8de",
       "version_major": 2,
       "version_minor": 0
      },
      "text/plain": [
       "Validation: 0it [00:00, ?it/s]"
      ]
     },
     "metadata": {},
     "output_type": "display_data"
    },
    {
     "name": "stdout",
     "output_type": "stream",
     "text": [
      "tensor([[-0.0180,  0.0462],\n",
      "        [ 0.3146,  0.0071],\n",
      "        [-0.0683, -0.1294]], device='cuda:0')\n",
      "tensor([[ 1.0000, -1.0000],\n",
      "        [ 1.0000, -1.0000],\n",
      "        [ 1.0000, -1.0000]], device='cuda:0')\n",
      "0.09592027962207794\n",
      "loss for step 0 : -0.20073888113965158\n",
      "epoch 17\n"
     ]
    },
    {
     "data": {
      "application/vnd.jupyter.widget-view+json": {
       "model_id": "26534c75a6f444f998aaf1395afe23da",
       "version_major": 2,
       "version_minor": 0
      },
      "text/plain": [
       "Training: 0it [00:00, ?it/s]"
      ]
     },
     "metadata": {},
     "output_type": "display_data"
    },
    {
     "data": {
      "application/vnd.jupyter.widget-view+json": {
       "model_id": "7a198f9be59441518e39250cbe6e1c2d",
       "version_major": 2,
       "version_minor": 0
      },
      "text/plain": [
       "Validation: 0it [00:00, ?it/s]"
      ]
     },
     "metadata": {},
     "output_type": "display_data"
    },
    {
     "name": "stdout",
     "output_type": "stream",
     "text": [
      "tensor([[-0.0535, -0.0872],\n",
      "        [-0.2729, -0.2019],\n",
      "        [-0.2045,  0.0519]], device='cuda:0')\n",
      "tensor([[-0.9947,  0.9989],\n",
      "        [-1.0000,  1.0000],\n",
      "        [-1.0000,  1.0000]], device='cuda:0')\n",
      "-0.12468936294317245\n",
      "loss for step 0 : -0.20329253307503203\n",
      "epoch 18\n"
     ]
    },
    {
     "data": {
      "application/vnd.jupyter.widget-view+json": {
       "model_id": "d46e1b88109f4c8e9d4ffc5e666acc23",
       "version_major": 2,
       "version_minor": 0
      },
      "text/plain": [
       "Training: 0it [00:00, ?it/s]"
      ]
     },
     "metadata": {},
     "output_type": "display_data"
    },
    {
     "data": {
      "application/vnd.jupyter.widget-view+json": {
       "model_id": "96fc50f1b4724a918afd99d02ca9cee5",
       "version_major": 2,
       "version_minor": 0
      },
      "text/plain": [
       "Validation: 0it [00:00, ?it/s]"
      ]
     },
     "metadata": {},
     "output_type": "display_data"
    },
    {
     "name": "stdout",
     "output_type": "stream",
     "text": [
      "tensor([[-0.4179, -0.1694],\n",
      "        [ 0.0422,  0.0868],\n",
      "        [-0.0166, -0.0809]], device='cuda:0')\n",
      "tensor([[-1.0000,  1.0000],\n",
      "        [-0.7278,  0.8377],\n",
      "        [ 1.0000, -1.0000]], device='cuda:0')\n",
      "-0.9102905988693237\n",
      "loss for step 0 : -0.20240913933224003\n",
      "epoch 19\n"
     ]
    }
   ],
   "source": [
    "from tqdm.notebook import tqdm, trange\n",
    "\n",
    "# wavenet = WaveNet(in_channels=2,out_channels=2,kernel_size=2,stack_size=23,layer_size=6).cuda().train()\n",
    "audio_test_data = torch.ones((1,2,1471))\n",
    "vid_test_data = torch.ones((1,3,1,36,64))\n",
    "\n",
    "wavenet = AttAudVideoNet(audio_input_shape=audio_test_data.shape, video_input_shape=vid_test_data.shape,in_channels=2,out_channels=2).cuda().train()\n",
    "#load_path = 'transformer_vid_model2_5.7.pt'\n",
    "#wavenet.load_state_dict(torch.load(load_path))\n",
    "\n",
    "epochs= 20\n",
    "globalStep=500\n",
    "lr = 8e-6\n",
    "\n",
    "optimizer=torch.optim.AdamW(wavenet.parameters(), lr=lr)\n",
    "#scheduler = torch.optim.lr_scheduler.ExponentialLR(optimizer, gamma=0.9)\n",
    "scheduler = torch.optim.lr_scheduler.OneCycleLR(\n",
    "  optimizer,\n",
    "  lr,\n",
    "  epochs=epochs,\n",
    "  steps_per_epoch=len(train_loader),\n",
    "  pct_start=0.03,  # Warm up for 3% of the total training time\n",
    "  )\n",
    "lossFunction = torch.nn.CrossEntropyLoss()\n",
    "\n",
    "def calc_accuracy(Out,Y):\n",
    "    max_vals, max_indices = torch.max(Out,1)\n",
    "    train_acc = (max_indices == Y).sum().item()/max_indices.size()[0]\n",
    "    return train_acc\n",
    "  \n",
    "\n",
    "\n",
    "for epoch in range(epochs):\n",
    "    for step, (vid_frames,aud_frames) in tqdm(enumerate(train_loader),desc=\"Training\"):\n",
    "         #vid_frames = vid_frames.cuda()\n",
    "         target = aud_frames[:,-1,].cuda()\n",
    "         aud_frames = aud_frames[:,:-1,:].cuda()\n",
    "         vid_frames = vid_frames.cuda()\n",
    "         #print(target.shape)\n",
    "         #print(aud_frames.shape)\n",
    "         output = wavenet(vid_frames, aud_frames).squeeze()\n",
    "         #print(output.shape)\n",
    "         #print('ttt', output.shape, target.shape)\n",
    "         #print(output[0].detach().cpu().numpy(), target[0].cpu().numpy())\n",
    "         #print(output.shape)\n",
    "         #print(output)\n",
    "         #print(output.dtype, target.dtype)\n",
    "\n",
    "         loss = lossFunction(output,target)\n",
    "         optimizer.zero_grad()\n",
    "         loss.backward()\n",
    "         optimizer.step()\n",
    "         scheduler.step()\n",
    "         if step%globalStep==0:\n",
    "            # scheduler.step()\n",
    "            # print(output.detach().numpy())\n",
    "            # print(y_train.numpy())\n",
    "            with torch.no_grad():\n",
    "                accuracy=0\n",
    "                val_loss=0\n",
    "                for stepTest, (vid_frames,aud_frames) in tqdm(enumerate(valid_loader),desc=\"Validation\"):\n",
    "                    vid_frames = vid_frames.cuda()\n",
    "                    target = aud_frames[:,-1,].cuda()\n",
    "                    aud_frames = aud_frames[:,:-1,:].cuda()\n",
    "                    output = wavenet(vid_frames, aud_frames).squeeze()\n",
    "                    if stepTest==0:\n",
    "                        print(target[:3])\n",
    "                        print(output[:3])\n",
    "                        print(lossFunction(output[0],target[0]).item())\n",
    "                    #accuracy+=calc_accuracy(output,target)*100\n",
    "                    val_loss+= lossFunction(output,target).item()\n",
    "                    if stepTest>200:\n",
    "                        print(output)\n",
    "                        break\n",
    "            print(f\"loss for step {step} : {val_loss/stepTest}\")\n",
    "\n",
    "         \n",
    "    print(f\"epoch {epoch}\")\n",
    "\n",
    "    save_path = 'transformer_vid_model2_5.8.pt'\n",
    "    torch.save(wavenet.state_dict(), save_path)"
   ]
  },
  {
   "cell_type": "code",
   "execution_count": 29,
   "metadata": {
    "executionInfo": {
     "elapsed": 268,
     "status": "aborted",
     "timestamp": 1683237494989,
     "user": {
      "displayName": "Jackson Wagner",
      "userId": "13678973550726092608"
     },
     "user_tz": 420
    },
    "id": "JvGcaaiR_1wg"
   },
   "outputs": [
    {
     "data": {
      "text/plain": [
       "<All keys matched successfully>"
      ]
     },
     "execution_count": 29,
     "metadata": {},
     "output_type": "execute_result"
    }
   ],
   "source": [
    "#save_path = 'transformer_vid_model2_5.7.pt'\n",
    "#torch.save(wavenet.state_dict(), save_path)\n",
    "load_path = 'transformer_vid_model2_5.8.pt'\n",
    "wavenet.load_state_dict(torch.load(load_path))"
   ]
  },
  {
   "cell_type": "code",
   "execution_count": 30,
   "metadata": {
    "executionInfo": {
     "elapsed": 3,
     "status": "aborted",
     "timestamp": 1683237494989,
     "user": {
      "displayName": "Jackson Wagner",
      "userId": "13678973550726092608"
     },
     "user_tz": 420
    },
    "id": "AV772MGPyhZa"
   },
   "outputs": [],
   "source": [
    "class VideoOnlyDataset(Dataset):\n",
    "    def __init__(self, video_frames, num_frames):\n",
    "        self.video_frames = torch.tensor(video_frames, dtype=torch.float32).permute(0,3,2,1) # Permute to (N, C, H, W)\n",
    "        self.num_frames = num_frames\n",
    "\n",
    "    def __len__(self):\n",
    "        return len(self.video_frames)\n",
    "\n",
    "    def __getitem__(self, idx):\n",
    "        idx += 1\n",
    "        if idx < self.num_frames:\n",
    "          num_zeros_needed = self.num_frames - idx\n",
    "          vid_zeros = torch.zeros(num_zeros_needed, *self.video_frames[0].shape)\n",
    "          vid = torch.vstack((vid_zeros, self.video_frames[0:idx])).transpose(0,1)\n",
    "          return vid\n",
    "        #vid shape example torch.Size([32, 3, 10, 36, 64])\n",
    "        # aud shape example torch.Size([32, 2, 14710])\n",
    "        vid = self.video_frames[idx-self.num_frames:idx].transpose(0,1)\n",
    "        # print('idx = ', idx, ' aud.size = ', aud.shape)\n",
    "        return vid"
   ]
  },
  {
   "cell_type": "code",
   "execution_count": 127,
   "metadata": {
    "executionInfo": {
     "elapsed": 4,
     "status": "aborted",
     "timestamp": 1683237494990,
     "user": {
      "displayName": "Jackson Wagner",
      "userId": "13678973550726092608"
     },
     "user_tz": 420
    },
    "id": "hTH9qnTGtkYk",
    "tags": []
   },
   "outputs": [
    {
     "name": "stdout",
     "output_type": "stream",
     "text": [
      "16375035\n",
      "torch.Size([1, 1470, 2])\n",
      "torch.Size([1, 1470, 2])\n",
      "torch.Size([1, 3, 1, 36, 64])\n"
     ]
    },
    {
     "data": {
      "application/vnd.jupyter.widget-view+json": {
       "model_id": "b6b38883b6d444268b558247e89fb3cb",
       "version_major": 2,
       "version_minor": 0
      },
      "text/plain": [
       "  0%|          | 0/1471 [00:00<?, ?it/s]"
      ]
     },
     "metadata": {},
     "output_type": "display_data"
    },
    {
     "name": "stdout",
     "output_type": "stream",
     "text": [
      "torch.Size([1, 3, 1, 36, 64])\n"
     ]
    },
    {
     "data": {
      "application/vnd.jupyter.widget-view+json": {
       "model_id": "c9d7a0f67952432a8dc0787dbbeecbee",
       "version_major": 2,
       "version_minor": 0
      },
      "text/plain": [
       "  0%|          | 0/1471 [00:00<?, ?it/s]"
      ]
     },
     "metadata": {},
     "output_type": "display_data"
    },
    {
     "name": "stdout",
     "output_type": "stream",
     "text": [
      "torch.Size([1, 3, 1, 36, 64])\n"
     ]
    },
    {
     "data": {
      "application/vnd.jupyter.widget-view+json": {
       "model_id": "cae77d5a95e6497f84537d82a3a6e6a4",
       "version_major": 2,
       "version_minor": 0
      },
      "text/plain": [
       "  0%|          | 0/1471 [00:00<?, ?it/s]"
      ]
     },
     "metadata": {},
     "output_type": "display_data"
    },
    {
     "name": "stdout",
     "output_type": "stream",
     "text": [
      "torch.Size([1, 3, 1, 36, 64])\n"
     ]
    },
    {
     "data": {
      "application/vnd.jupyter.widget-view+json": {
       "model_id": "92fdb09dd4e94f83ab4925836294567f",
       "version_major": 2,
       "version_minor": 0
      },
      "text/plain": [
       "  0%|          | 0/1471 [00:00<?, ?it/s]"
      ]
     },
     "metadata": {},
     "output_type": "display_data"
    },
    {
     "name": "stdout",
     "output_type": "stream",
     "text": [
      "torch.Size([1, 3, 1, 36, 64])\n"
     ]
    },
    {
     "data": {
      "application/vnd.jupyter.widget-view+json": {
       "model_id": "653fc487c22a4c8b8152f9edd9d13264",
       "version_major": 2,
       "version_minor": 0
      },
      "text/plain": [
       "  0%|          | 0/1471 [00:00<?, ?it/s]"
      ]
     },
     "metadata": {},
     "output_type": "display_data"
    },
    {
     "name": "stdout",
     "output_type": "stream",
     "text": [
      "torch.Size([1, 3, 1, 36, 64])\n"
     ]
    },
    {
     "data": {
      "application/vnd.jupyter.widget-view+json": {
       "model_id": "b1eb289461a94101aa93354cba16037d",
       "version_major": 2,
       "version_minor": 0
      },
      "text/plain": [
       "  0%|          | 0/1471 [00:00<?, ?it/s]"
      ]
     },
     "metadata": {},
     "output_type": "display_data"
    },
    {
     "name": "stdout",
     "output_type": "stream",
     "text": [
      "torch.Size([1, 3, 1, 36, 64])\n"
     ]
    },
    {
     "data": {
      "application/vnd.jupyter.widget-view+json": {
       "model_id": "7a4b777308af417a9b87baa8255dd61f",
       "version_major": 2,
       "version_minor": 0
      },
      "text/plain": [
       "  0%|          | 0/1471 [00:00<?, ?it/s]"
      ]
     },
     "metadata": {},
     "output_type": "display_data"
    },
    {
     "name": "stdout",
     "output_type": "stream",
     "text": [
      "torch.Size([1, 3, 1, 36, 64])\n"
     ]
    },
    {
     "data": {
      "application/vnd.jupyter.widget-view+json": {
       "model_id": "48e3bb2f3f2a4cfc85000db4a6e374e1",
       "version_major": 2,
       "version_minor": 0
      },
      "text/plain": [
       "  0%|          | 0/1471 [00:00<?, ?it/s]"
      ]
     },
     "metadata": {},
     "output_type": "display_data"
    },
    {
     "name": "stdout",
     "output_type": "stream",
     "text": [
      "torch.Size([1, 3, 1, 36, 64])\n"
     ]
    },
    {
     "data": {
      "application/vnd.jupyter.widget-view+json": {
       "model_id": "183b378b239b4e1dbc5695a35205653a",
       "version_major": 2,
       "version_minor": 0
      },
      "text/plain": [
       "  0%|          | 0/1471 [00:00<?, ?it/s]"
      ]
     },
     "metadata": {},
     "output_type": "display_data"
    },
    {
     "name": "stdout",
     "output_type": "stream",
     "text": [
      "torch.Size([1, 3, 1, 36, 64])\n"
     ]
    },
    {
     "data": {
      "application/vnd.jupyter.widget-view+json": {
       "model_id": "cf3a38b8d70f483f9655eb5a74b4d393",
       "version_major": 2,
       "version_minor": 0
      },
      "text/plain": [
       "  0%|          | 0/1471 [00:00<?, ?it/s]"
      ]
     },
     "metadata": {},
     "output_type": "display_data"
    },
    {
     "name": "stdout",
     "output_type": "stream",
     "text": [
      "torch.Size([1, 3, 1, 36, 64])\n"
     ]
    },
    {
     "data": {
      "application/vnd.jupyter.widget-view+json": {
       "model_id": "3d462a1c4b3b4e6b96bad82a1d21a67d",
       "version_major": 2,
       "version_minor": 0
      },
      "text/plain": [
       "  0%|          | 0/1471 [00:00<?, ?it/s]"
      ]
     },
     "metadata": {},
     "output_type": "display_data"
    },
    {
     "name": "stdout",
     "output_type": "stream",
     "text": [
      "torch.Size([1, 3, 1, 36, 64])\n"
     ]
    },
    {
     "data": {
      "application/vnd.jupyter.widget-view+json": {
       "model_id": "226499c7650e4f36a03a0d78e86f540e",
       "version_major": 2,
       "version_minor": 0
      },
      "text/plain": [
       "  0%|          | 0/1471 [00:00<?, ?it/s]"
      ]
     },
     "metadata": {},
     "output_type": "display_data"
    },
    {
     "name": "stdout",
     "output_type": "stream",
     "text": [
      "torch.Size([1, 3, 1, 36, 64])\n"
     ]
    },
    {
     "data": {
      "application/vnd.jupyter.widget-view+json": {
       "model_id": "4168a21de1e644c3999f4c1bbb895092",
       "version_major": 2,
       "version_minor": 0
      },
      "text/plain": [
       "  0%|          | 0/1471 [00:00<?, ?it/s]"
      ]
     },
     "metadata": {},
     "output_type": "display_data"
    },
    {
     "name": "stdout",
     "output_type": "stream",
     "text": [
      "torch.Size([1, 3, 1, 36, 64])\n"
     ]
    },
    {
     "data": {
      "application/vnd.jupyter.widget-view+json": {
       "model_id": "29bb278ab1b34cb09173277b6dbf67a8",
       "version_major": 2,
       "version_minor": 0
      },
      "text/plain": [
       "  0%|          | 0/1471 [00:00<?, ?it/s]"
      ]
     },
     "metadata": {},
     "output_type": "display_data"
    },
    {
     "name": "stdout",
     "output_type": "stream",
     "text": [
      "torch.Size([1, 3, 1, 36, 64])\n"
     ]
    },
    {
     "data": {
      "application/vnd.jupyter.widget-view+json": {
       "model_id": "c059101ac0ec4b9493119b75877750a5",
       "version_major": 2,
       "version_minor": 0
      },
      "text/plain": [
       "  0%|          | 0/1471 [00:00<?, ?it/s]"
      ]
     },
     "metadata": {},
     "output_type": "display_data"
    },
    {
     "name": "stdout",
     "output_type": "stream",
     "text": [
      "torch.Size([1, 3, 1, 36, 64])\n"
     ]
    },
    {
     "data": {
      "application/vnd.jupyter.widget-view+json": {
       "model_id": "56de184078964f89875465282e58270d",
       "version_major": 2,
       "version_minor": 0
      },
      "text/plain": [
       "  0%|          | 0/1471 [00:00<?, ?it/s]"
      ]
     },
     "metadata": {},
     "output_type": "display_data"
    },
    {
     "name": "stdout",
     "output_type": "stream",
     "text": [
      "torch.Size([1, 3, 1, 36, 64])\n"
     ]
    },
    {
     "data": {
      "application/vnd.jupyter.widget-view+json": {
       "model_id": "52812ab7142e4e44b5dca2814565a535",
       "version_major": 2,
       "version_minor": 0
      },
      "text/plain": [
       "  0%|          | 0/1471 [00:00<?, ?it/s]"
      ]
     },
     "metadata": {},
     "output_type": "display_data"
    },
    {
     "name": "stdout",
     "output_type": "stream",
     "text": [
      "torch.Size([1, 3, 1, 36, 64])\n"
     ]
    },
    {
     "data": {
      "application/vnd.jupyter.widget-view+json": {
       "model_id": "8de9a9912e994901989c240f53582d06",
       "version_major": 2,
       "version_minor": 0
      },
      "text/plain": [
       "  0%|          | 0/1471 [00:00<?, ?it/s]"
      ]
     },
     "metadata": {},
     "output_type": "display_data"
    },
    {
     "name": "stdout",
     "output_type": "stream",
     "text": [
      "torch.Size([1, 3, 1, 36, 64])\n"
     ]
    },
    {
     "data": {
      "application/vnd.jupyter.widget-view+json": {
       "model_id": "8f20eafe368449038a30906fa21cd06b",
       "version_major": 2,
       "version_minor": 0
      },
      "text/plain": [
       "  0%|          | 0/1471 [00:00<?, ?it/s]"
      ]
     },
     "metadata": {},
     "output_type": "display_data"
    },
    {
     "name": "stdout",
     "output_type": "stream",
     "text": [
      "torch.Size([1, 3, 1, 36, 64])\n"
     ]
    },
    {
     "data": {
      "application/vnd.jupyter.widget-view+json": {
       "model_id": "6cb5b5444ca2477484aff18332b6363d",
       "version_major": 2,
       "version_minor": 0
      },
      "text/plain": [
       "  0%|          | 0/1471 [00:00<?, ?it/s]"
      ]
     },
     "metadata": {},
     "output_type": "display_data"
    },
    {
     "name": "stdout",
     "output_type": "stream",
     "text": [
      "torch.Size([1, 3, 1, 36, 64])\n"
     ]
    },
    {
     "data": {
      "application/vnd.jupyter.widget-view+json": {
       "model_id": "26c3069021cd47edb64ec0d5bac5bd76",
       "version_major": 2,
       "version_minor": 0
      },
      "text/plain": [
       "  0%|          | 0/1471 [00:00<?, ?it/s]"
      ]
     },
     "metadata": {},
     "output_type": "display_data"
    },
    {
     "name": "stdout",
     "output_type": "stream",
     "text": [
      "torch.Size([1, 3, 1, 36, 64])\n"
     ]
    },
    {
     "data": {
      "application/vnd.jupyter.widget-view+json": {
       "model_id": "066dc45cdee045c198246f5d6e9f9c53",
       "version_major": 2,
       "version_minor": 0
      },
      "text/plain": [
       "  0%|          | 0/1471 [00:00<?, ?it/s]"
      ]
     },
     "metadata": {},
     "output_type": "display_data"
    },
    {
     "name": "stdout",
     "output_type": "stream",
     "text": [
      "torch.Size([1, 3, 1, 36, 64])\n"
     ]
    },
    {
     "data": {
      "application/vnd.jupyter.widget-view+json": {
       "model_id": "cdf212c12dcf47b889b58683f9d830c9",
       "version_major": 2,
       "version_minor": 0
      },
      "text/plain": [
       "  0%|          | 0/1471 [00:00<?, ?it/s]"
      ]
     },
     "metadata": {},
     "output_type": "display_data"
    },
    {
     "name": "stdout",
     "output_type": "stream",
     "text": [
      "torch.Size([1, 3, 1, 36, 64])\n"
     ]
    },
    {
     "data": {
      "application/vnd.jupyter.widget-view+json": {
       "model_id": "c2c6fb63cd25404893392a6d2598965a",
       "version_major": 2,
       "version_minor": 0
      },
      "text/plain": [
       "  0%|          | 0/1471 [00:00<?, ?it/s]"
      ]
     },
     "metadata": {},
     "output_type": "display_data"
    },
    {
     "name": "stdout",
     "output_type": "stream",
     "text": [
      "torch.Size([1, 3, 1, 36, 64])\n"
     ]
    },
    {
     "data": {
      "application/vnd.jupyter.widget-view+json": {
       "model_id": "01257f10659540f09018b48cf533bfa8",
       "version_major": 2,
       "version_minor": 0
      },
      "text/plain": [
       "  0%|          | 0/1471 [00:00<?, ?it/s]"
      ]
     },
     "metadata": {},
     "output_type": "display_data"
    },
    {
     "name": "stdout",
     "output_type": "stream",
     "text": [
      "torch.Size([1, 3, 1, 36, 64])\n"
     ]
    },
    {
     "data": {
      "application/vnd.jupyter.widget-view+json": {
       "model_id": "71b52a5ece134ba89f69a8ba484638e4",
       "version_major": 2,
       "version_minor": 0
      },
      "text/plain": [
       "  0%|          | 0/1471 [00:00<?, ?it/s]"
      ]
     },
     "metadata": {},
     "output_type": "display_data"
    },
    {
     "name": "stdout",
     "output_type": "stream",
     "text": [
      "torch.Size([1, 3, 1, 36, 64])\n"
     ]
    },
    {
     "data": {
      "application/vnd.jupyter.widget-view+json": {
       "model_id": "d6702c1336af43e5b5b9787575e8adea",
       "version_major": 2,
       "version_minor": 0
      },
      "text/plain": [
       "  0%|          | 0/1471 [00:00<?, ?it/s]"
      ]
     },
     "metadata": {},
     "output_type": "display_data"
    },
    {
     "name": "stdout",
     "output_type": "stream",
     "text": [
      "torch.Size([1, 3, 1, 36, 64])\n"
     ]
    },
    {
     "data": {
      "application/vnd.jupyter.widget-view+json": {
       "model_id": "bea8ad3383514751906dfcdb63c1c5e6",
       "version_major": 2,
       "version_minor": 0
      },
      "text/plain": [
       "  0%|          | 0/1471 [00:00<?, ?it/s]"
      ]
     },
     "metadata": {},
     "output_type": "display_data"
    },
    {
     "name": "stdout",
     "output_type": "stream",
     "text": [
      "torch.Size([1, 3, 1, 36, 64])\n"
     ]
    },
    {
     "data": {
      "application/vnd.jupyter.widget-view+json": {
       "model_id": "cee9f248ad3b492d9334b4f7790ed6fb",
       "version_major": 2,
       "version_minor": 0
      },
      "text/plain": [
       "  0%|          | 0/1471 [00:00<?, ?it/s]"
      ]
     },
     "metadata": {},
     "output_type": "display_data"
    },
    {
     "name": "stdout",
     "output_type": "stream",
     "text": [
      "torch.Size([1, 3, 1, 36, 64])\n"
     ]
    },
    {
     "data": {
      "application/vnd.jupyter.widget-view+json": {
       "model_id": "9e44bcb157c447b9850dbf1f041319d0",
       "version_major": 2,
       "version_minor": 0
      },
      "text/plain": [
       "  0%|          | 0/1471 [00:00<?, ?it/s]"
      ]
     },
     "metadata": {},
     "output_type": "display_data"
    },
    {
     "name": "stdout",
     "output_type": "stream",
     "text": [
      "torch.Size([1, 3, 1, 36, 64])\n"
     ]
    },
    {
     "data": {
      "application/vnd.jupyter.widget-view+json": {
       "model_id": "0eb1b3c8966e41f58a21424f938c2a9f",
       "version_major": 2,
       "version_minor": 0
      },
      "text/plain": [
       "  0%|          | 0/1471 [00:00<?, ?it/s]"
      ]
     },
     "metadata": {},
     "output_type": "display_data"
    },
    {
     "name": "stdout",
     "output_type": "stream",
     "text": [
      "torch.Size([1, 3, 1, 36, 64])\n"
     ]
    },
    {
     "data": {
      "application/vnd.jupyter.widget-view+json": {
       "model_id": "62f9876d90824e7c892f7d2e757e2986",
       "version_major": 2,
       "version_minor": 0
      },
      "text/plain": [
       "  0%|          | 0/1471 [00:00<?, ?it/s]"
      ]
     },
     "metadata": {},
     "output_type": "display_data"
    },
    {
     "name": "stdout",
     "output_type": "stream",
     "text": [
      "torch.Size([1, 3, 1, 36, 64])\n"
     ]
    },
    {
     "data": {
      "application/vnd.jupyter.widget-view+json": {
       "model_id": "96bf6a4bc60d4f8b83a74c701b5fa562",
       "version_major": 2,
       "version_minor": 0
      },
      "text/plain": [
       "  0%|          | 0/1471 [00:00<?, ?it/s]"
      ]
     },
     "metadata": {},
     "output_type": "display_data"
    },
    {
     "name": "stdout",
     "output_type": "stream",
     "text": [
      "torch.Size([1, 3, 1, 36, 64])\n"
     ]
    },
    {
     "data": {
      "application/vnd.jupyter.widget-view+json": {
       "model_id": "642f15bd3fec41bba701bdaf92c6cd16",
       "version_major": 2,
       "version_minor": 0
      },
      "text/plain": [
       "  0%|          | 0/1471 [00:00<?, ?it/s]"
      ]
     },
     "metadata": {},
     "output_type": "display_data"
    },
    {
     "name": "stdout",
     "output_type": "stream",
     "text": [
      "torch.Size([1, 3, 1, 36, 64])\n"
     ]
    },
    {
     "data": {
      "application/vnd.jupyter.widget-view+json": {
       "model_id": "2e3ae4d38bbf4317957c38229b55ae8d",
       "version_major": 2,
       "version_minor": 0
      },
      "text/plain": [
       "  0%|          | 0/1471 [00:00<?, ?it/s]"
      ]
     },
     "metadata": {},
     "output_type": "display_data"
    },
    {
     "name": "stdout",
     "output_type": "stream",
     "text": [
      "torch.Size([1, 3, 1, 36, 64])\n"
     ]
    },
    {
     "data": {
      "application/vnd.jupyter.widget-view+json": {
       "model_id": "46be5c1c6a3a48b8b682a1d92e2fe592",
       "version_major": 2,
       "version_minor": 0
      },
      "text/plain": [
       "  0%|          | 0/1471 [00:00<?, ?it/s]"
      ]
     },
     "metadata": {},
     "output_type": "display_data"
    },
    {
     "name": "stdout",
     "output_type": "stream",
     "text": [
      "torch.Size([1, 3, 1, 36, 64])\n"
     ]
    },
    {
     "data": {
      "application/vnd.jupyter.widget-view+json": {
       "model_id": "534c2faa47df4533ba23893310fa6f17",
       "version_major": 2,
       "version_minor": 0
      },
      "text/plain": [
       "  0%|          | 0/1471 [00:00<?, ?it/s]"
      ]
     },
     "metadata": {},
     "output_type": "display_data"
    },
    {
     "name": "stdout",
     "output_type": "stream",
     "text": [
      "torch.Size([1, 3, 1, 36, 64])\n"
     ]
    },
    {
     "data": {
      "application/vnd.jupyter.widget-view+json": {
       "model_id": "2e8958de8b4d4702a19061ff6fd684c5",
       "version_major": 2,
       "version_minor": 0
      },
      "text/plain": [
       "  0%|          | 0/1471 [00:00<?, ?it/s]"
      ]
     },
     "metadata": {},
     "output_type": "display_data"
    },
    {
     "name": "stdout",
     "output_type": "stream",
     "text": [
      "torch.Size([1, 3, 1, 36, 64])\n"
     ]
    },
    {
     "data": {
      "application/vnd.jupyter.widget-view+json": {
       "model_id": "6265702ef6b642909955eed21ac2182f",
       "version_major": 2,
       "version_minor": 0
      },
      "text/plain": [
       "  0%|          | 0/1471 [00:00<?, ?it/s]"
      ]
     },
     "metadata": {},
     "output_type": "display_data"
    },
    {
     "name": "stdout",
     "output_type": "stream",
     "text": [
      "torch.Size([1, 3, 1, 36, 64])\n"
     ]
    },
    {
     "data": {
      "application/vnd.jupyter.widget-view+json": {
       "model_id": "5ea91e633ba94cb48c28c6d2fce01429",
       "version_major": 2,
       "version_minor": 0
      },
      "text/plain": [
       "  0%|          | 0/1471 [00:00<?, ?it/s]"
      ]
     },
     "metadata": {},
     "output_type": "display_data"
    },
    {
     "name": "stdout",
     "output_type": "stream",
     "text": [
      "torch.Size([1, 3, 1, 36, 64])\n"
     ]
    },
    {
     "data": {
      "application/vnd.jupyter.widget-view+json": {
       "model_id": "2c0b11bab58e479588e833d209abd8ad",
       "version_major": 2,
       "version_minor": 0
      },
      "text/plain": [
       "  0%|          | 0/1471 [00:00<?, ?it/s]"
      ]
     },
     "metadata": {},
     "output_type": "display_data"
    },
    {
     "name": "stdout",
     "output_type": "stream",
     "text": [
      "torch.Size([1, 3, 1, 36, 64])\n"
     ]
    },
    {
     "data": {
      "application/vnd.jupyter.widget-view+json": {
       "model_id": "c84ea4a150884abca8cddd2279c14604",
       "version_major": 2,
       "version_minor": 0
      },
      "text/plain": [
       "  0%|          | 0/1471 [00:00<?, ?it/s]"
      ]
     },
     "metadata": {},
     "output_type": "display_data"
    },
    {
     "name": "stdout",
     "output_type": "stream",
     "text": [
      "torch.Size([1, 3, 1, 36, 64])\n"
     ]
    },
    {
     "data": {
      "application/vnd.jupyter.widget-view+json": {
       "model_id": "3f5da621ef924a5d9401c66a51da91ae",
       "version_major": 2,
       "version_minor": 0
      },
      "text/plain": [
       "  0%|          | 0/1471 [00:00<?, ?it/s]"
      ]
     },
     "metadata": {},
     "output_type": "display_data"
    },
    {
     "name": "stdout",
     "output_type": "stream",
     "text": [
      "torch.Size([1, 3, 1, 36, 64])\n"
     ]
    },
    {
     "data": {
      "application/vnd.jupyter.widget-view+json": {
       "model_id": "b456a2f1666345c986eaf7c2ce9c833d",
       "version_major": 2,
       "version_minor": 0
      },
      "text/plain": [
       "  0%|          | 0/1471 [00:00<?, ?it/s]"
      ]
     },
     "metadata": {},
     "output_type": "display_data"
    },
    {
     "name": "stdout",
     "output_type": "stream",
     "text": [
      "torch.Size([1, 3, 1, 36, 64])\n"
     ]
    },
    {
     "data": {
      "application/vnd.jupyter.widget-view+json": {
       "model_id": "81c89656a6c54a5db564307ab5801e7f",
       "version_major": 2,
       "version_minor": 0
      },
      "text/plain": [
       "  0%|          | 0/1471 [00:00<?, ?it/s]"
      ]
     },
     "metadata": {},
     "output_type": "display_data"
    },
    {
     "name": "stdout",
     "output_type": "stream",
     "text": [
      "torch.Size([1, 3, 1, 36, 64])\n"
     ]
    },
    {
     "data": {
      "application/vnd.jupyter.widget-view+json": {
       "model_id": "a1ce14614abf469bae9dd1cc1303a876",
       "version_major": 2,
       "version_minor": 0
      },
      "text/plain": [
       "  0%|          | 0/1471 [00:00<?, ?it/s]"
      ]
     },
     "metadata": {},
     "output_type": "display_data"
    },
    {
     "name": "stdout",
     "output_type": "stream",
     "text": [
      "torch.Size([1, 3, 1, 36, 64])\n"
     ]
    },
    {
     "data": {
      "application/vnd.jupyter.widget-view+json": {
       "model_id": "5612c4774c9c40a9ad506166fb898c3e",
       "version_major": 2,
       "version_minor": 0
      },
      "text/plain": [
       "  0%|          | 0/1471 [00:00<?, ?it/s]"
      ]
     },
     "metadata": {},
     "output_type": "display_data"
    },
    {
     "name": "stdout",
     "output_type": "stream",
     "text": [
      "torch.Size([1, 3, 1, 36, 64])\n"
     ]
    },
    {
     "data": {
      "application/vnd.jupyter.widget-view+json": {
       "model_id": "35858b8025e74ee28fc30e66de373d2c",
       "version_major": 2,
       "version_minor": 0
      },
      "text/plain": [
       "  0%|          | 0/1471 [00:00<?, ?it/s]"
      ]
     },
     "metadata": {},
     "output_type": "display_data"
    },
    {
     "name": "stdout",
     "output_type": "stream",
     "text": [
      "torch.Size([1, 3, 1, 36, 64])\n"
     ]
    },
    {
     "data": {
      "application/vnd.jupyter.widget-view+json": {
       "model_id": "c8a105acbc5143ba8192074be4b042db",
       "version_major": 2,
       "version_minor": 0
      },
      "text/plain": [
       "  0%|          | 0/1471 [00:00<?, ?it/s]"
      ]
     },
     "metadata": {},
     "output_type": "display_data"
    },
    {
     "name": "stdout",
     "output_type": "stream",
     "text": [
      "torch.Size([1, 3, 1, 36, 64])\n"
     ]
    },
    {
     "data": {
      "application/vnd.jupyter.widget-view+json": {
       "model_id": "4ecba88776164e958cb8938a7596e48e",
       "version_major": 2,
       "version_minor": 0
      },
      "text/plain": [
       "  0%|          | 0/1471 [00:00<?, ?it/s]"
      ]
     },
     "metadata": {},
     "output_type": "display_data"
    },
    {
     "name": "stdout",
     "output_type": "stream",
     "text": [
      "torch.Size([1, 3, 1, 36, 64])\n"
     ]
    },
    {
     "data": {
      "application/vnd.jupyter.widget-view+json": {
       "model_id": "5a721eca49e34ad1abf91e4c037e4767",
       "version_major": 2,
       "version_minor": 0
      },
      "text/plain": [
       "  0%|          | 0/1471 [00:00<?, ?it/s]"
      ]
     },
     "metadata": {},
     "output_type": "display_data"
    },
    {
     "name": "stdout",
     "output_type": "stream",
     "text": [
      "torch.Size([1, 3, 1, 36, 64])\n"
     ]
    },
    {
     "data": {
      "application/vnd.jupyter.widget-view+json": {
       "model_id": "c44a7cd660184567b2f2eba90ba877a9",
       "version_major": 2,
       "version_minor": 0
      },
      "text/plain": [
       "  0%|          | 0/1471 [00:00<?, ?it/s]"
      ]
     },
     "metadata": {},
     "output_type": "display_data"
    },
    {
     "name": "stdout",
     "output_type": "stream",
     "text": [
      "torch.Size([1, 3, 1, 36, 64])\n"
     ]
    },
    {
     "data": {
      "application/vnd.jupyter.widget-view+json": {
       "model_id": "9654b8b261094ecdbcc3419f84cfbef8",
       "version_major": 2,
       "version_minor": 0
      },
      "text/plain": [
       "  0%|          | 0/1471 [00:00<?, ?it/s]"
      ]
     },
     "metadata": {},
     "output_type": "display_data"
    },
    {
     "name": "stdout",
     "output_type": "stream",
     "text": [
      "torch.Size([1, 3, 1, 36, 64])\n"
     ]
    },
    {
     "data": {
      "application/vnd.jupyter.widget-view+json": {
       "model_id": "f955285c0b5a40d692a68a800cf112e8",
       "version_major": 2,
       "version_minor": 0
      },
      "text/plain": [
       "  0%|          | 0/1471 [00:00<?, ?it/s]"
      ]
     },
     "metadata": {},
     "output_type": "display_data"
    },
    {
     "name": "stdout",
     "output_type": "stream",
     "text": [
      "torch.Size([1, 3, 1, 36, 64])\n"
     ]
    },
    {
     "data": {
      "application/vnd.jupyter.widget-view+json": {
       "model_id": "f17e762af37f433399490a908fe34505",
       "version_major": 2,
       "version_minor": 0
      },
      "text/plain": [
       "  0%|          | 0/1471 [00:00<?, ?it/s]"
      ]
     },
     "metadata": {},
     "output_type": "display_data"
    },
    {
     "name": "stdout",
     "output_type": "stream",
     "text": [
      "torch.Size([1, 3, 1, 36, 64])\n"
     ]
    },
    {
     "data": {
      "application/vnd.jupyter.widget-view+json": {
       "model_id": "d22ca223a9974ca5bc20df0288eb8e88",
       "version_major": 2,
       "version_minor": 0
      },
      "text/plain": [
       "  0%|          | 0/1471 [00:00<?, ?it/s]"
      ]
     },
     "metadata": {},
     "output_type": "display_data"
    },
    {
     "name": "stdout",
     "output_type": "stream",
     "text": [
      "torch.Size([1, 3, 1, 36, 64])\n"
     ]
    },
    {
     "data": {
      "application/vnd.jupyter.widget-view+json": {
       "model_id": "ccf5d046935e4d3e92ed2e3fa4d89cbb",
       "version_major": 2,
       "version_minor": 0
      },
      "text/plain": [
       "  0%|          | 0/1471 [00:00<?, ?it/s]"
      ]
     },
     "metadata": {},
     "output_type": "display_data"
    },
    {
     "name": "stdout",
     "output_type": "stream",
     "text": [
      "torch.Size([1, 3, 1, 36, 64])\n"
     ]
    },
    {
     "data": {
      "application/vnd.jupyter.widget-view+json": {
       "model_id": "3701c1babe7d433b92698c683f25c913",
       "version_major": 2,
       "version_minor": 0
      },
      "text/plain": [
       "  0%|          | 0/1471 [00:00<?, ?it/s]"
      ]
     },
     "metadata": {},
     "output_type": "display_data"
    },
    {
     "name": "stdout",
     "output_type": "stream",
     "text": [
      "torch.Size([1, 3, 1, 36, 64])\n"
     ]
    },
    {
     "data": {
      "application/vnd.jupyter.widget-view+json": {
       "model_id": "f42077cafedc4ed1823aa50c7b98f38f",
       "version_major": 2,
       "version_minor": 0
      },
      "text/plain": [
       "  0%|          | 0/1471 [00:00<?, ?it/s]"
      ]
     },
     "metadata": {},
     "output_type": "display_data"
    },
    {
     "name": "stdout",
     "output_type": "stream",
     "text": [
      "torch.Size([1, 3, 1, 36, 64])\n"
     ]
    },
    {
     "data": {
      "application/vnd.jupyter.widget-view+json": {
       "model_id": "8c39098dc83b492ab53711f4850d8d13",
       "version_major": 2,
       "version_minor": 0
      },
      "text/plain": [
       "  0%|          | 0/1471 [00:00<?, ?it/s]"
      ]
     },
     "metadata": {},
     "output_type": "display_data"
    },
    {
     "name": "stdout",
     "output_type": "stream",
     "text": [
      "torch.Size([1, 3, 1, 36, 64])\n"
     ]
    },
    {
     "data": {
      "application/vnd.jupyter.widget-view+json": {
       "model_id": "d5178600adb443aa884528f0409bc590",
       "version_major": 2,
       "version_minor": 0
      },
      "text/plain": [
       "  0%|          | 0/1471 [00:00<?, ?it/s]"
      ]
     },
     "metadata": {},
     "output_type": "display_data"
    },
    {
     "name": "stdout",
     "output_type": "stream",
     "text": [
      "torch.Size([1, 3, 1, 36, 64])\n"
     ]
    },
    {
     "data": {
      "application/vnd.jupyter.widget-view+json": {
       "model_id": "d4067bc5a989456297106779775d266e",
       "version_major": 2,
       "version_minor": 0
      },
      "text/plain": [
       "  0%|          | 0/1471 [00:00<?, ?it/s]"
      ]
     },
     "metadata": {},
     "output_type": "display_data"
    },
    {
     "name": "stdout",
     "output_type": "stream",
     "text": [
      "torch.Size([1, 3, 1, 36, 64])\n"
     ]
    },
    {
     "data": {
      "application/vnd.jupyter.widget-view+json": {
       "model_id": "7115c521ee9a49e4945bf6934a314afd",
       "version_major": 2,
       "version_minor": 0
      },
      "text/plain": [
       "  0%|          | 0/1471 [00:00<?, ?it/s]"
      ]
     },
     "metadata": {},
     "output_type": "display_data"
    },
    {
     "name": "stdout",
     "output_type": "stream",
     "text": [
      "torch.Size([1, 3, 1, 36, 64])\n"
     ]
    },
    {
     "data": {
      "application/vnd.jupyter.widget-view+json": {
       "model_id": "233e8b5882e440c39878d4351b0a4a6a",
       "version_major": 2,
       "version_minor": 0
      },
      "text/plain": [
       "  0%|          | 0/1471 [00:00<?, ?it/s]"
      ]
     },
     "metadata": {},
     "output_type": "display_data"
    },
    {
     "name": "stdout",
     "output_type": "stream",
     "text": [
      "torch.Size([1, 3, 1, 36, 64])\n"
     ]
    },
    {
     "data": {
      "application/vnd.jupyter.widget-view+json": {
       "model_id": "d39854b2c18c4d20abe506116623883e",
       "version_major": 2,
       "version_minor": 0
      },
      "text/plain": [
       "  0%|          | 0/1471 [00:00<?, ?it/s]"
      ]
     },
     "metadata": {},
     "output_type": "display_data"
    },
    {
     "name": "stdout",
     "output_type": "stream",
     "text": [
      "torch.Size([1, 3, 1, 36, 64])\n"
     ]
    },
    {
     "data": {
      "application/vnd.jupyter.widget-view+json": {
       "model_id": "7bfbf3ce3cfc432db7aea60555b4b0e2",
       "version_major": 2,
       "version_minor": 0
      },
      "text/plain": [
       "  0%|          | 0/1471 [00:00<?, ?it/s]"
      ]
     },
     "metadata": {},
     "output_type": "display_data"
    },
    {
     "name": "stdout",
     "output_type": "stream",
     "text": [
      "torch.Size([1, 3, 1, 36, 64])\n"
     ]
    },
    {
     "data": {
      "application/vnd.jupyter.widget-view+json": {
       "model_id": "e839a4a3e4314b7b90ab209c42b89209",
       "version_major": 2,
       "version_minor": 0
      },
      "text/plain": [
       "  0%|          | 0/1471 [00:00<?, ?it/s]"
      ]
     },
     "metadata": {},
     "output_type": "display_data"
    },
    {
     "name": "stdout",
     "output_type": "stream",
     "text": [
      "torch.Size([1, 3, 1, 36, 64])\n"
     ]
    },
    {
     "data": {
      "application/vnd.jupyter.widget-view+json": {
       "model_id": "446ed407f8d24616b501d9899bffa348",
       "version_major": 2,
       "version_minor": 0
      },
      "text/plain": [
       "  0%|          | 0/1471 [00:00<?, ?it/s]"
      ]
     },
     "metadata": {},
     "output_type": "display_data"
    },
    {
     "name": "stdout",
     "output_type": "stream",
     "text": [
      "torch.Size([1, 3, 1, 36, 64])\n"
     ]
    },
    {
     "data": {
      "application/vnd.jupyter.widget-view+json": {
       "model_id": "4e54eed94b6e4287b5e715d509d1647a",
       "version_major": 2,
       "version_minor": 0
      },
      "text/plain": [
       "  0%|          | 0/1471 [00:00<?, ?it/s]"
      ]
     },
     "metadata": {},
     "output_type": "display_data"
    },
    {
     "name": "stdout",
     "output_type": "stream",
     "text": [
      "torch.Size([1, 3, 1, 36, 64])\n"
     ]
    },
    {
     "data": {
      "application/vnd.jupyter.widget-view+json": {
       "model_id": "994c7f2ab59e44689f4c21adea479aa8",
       "version_major": 2,
       "version_minor": 0
      },
      "text/plain": [
       "  0%|          | 0/1471 [00:00<?, ?it/s]"
      ]
     },
     "metadata": {},
     "output_type": "display_data"
    },
    {
     "name": "stdout",
     "output_type": "stream",
     "text": [
      "torch.Size([1, 3, 1, 36, 64])\n"
     ]
    },
    {
     "data": {
      "application/vnd.jupyter.widget-view+json": {
       "model_id": "4264c393b2204b54b4ff5bb2bad78dde",
       "version_major": 2,
       "version_minor": 0
      },
      "text/plain": [
       "  0%|          | 0/1471 [00:00<?, ?it/s]"
      ]
     },
     "metadata": {},
     "output_type": "display_data"
    },
    {
     "name": "stdout",
     "output_type": "stream",
     "text": [
      "torch.Size([1, 3, 1, 36, 64])\n"
     ]
    },
    {
     "data": {
      "application/vnd.jupyter.widget-view+json": {
       "model_id": "cc8d452c65fa403586e0ce5b5df1ff83",
       "version_major": 2,
       "version_minor": 0
      },
      "text/plain": [
       "  0%|          | 0/1471 [00:00<?, ?it/s]"
      ]
     },
     "metadata": {},
     "output_type": "display_data"
    },
    {
     "name": "stdout",
     "output_type": "stream",
     "text": [
      "torch.Size([1, 3, 1, 36, 64])\n"
     ]
    },
    {
     "data": {
      "application/vnd.jupyter.widget-view+json": {
       "model_id": "d44cfba33d8c4d7d83df606aa451f196",
       "version_major": 2,
       "version_minor": 0
      },
      "text/plain": [
       "  0%|          | 0/1471 [00:00<?, ?it/s]"
      ]
     },
     "metadata": {},
     "output_type": "display_data"
    },
    {
     "name": "stdout",
     "output_type": "stream",
     "text": [
      "torch.Size([1, 3, 1, 36, 64])\n"
     ]
    },
    {
     "data": {
      "application/vnd.jupyter.widget-view+json": {
       "model_id": "9558d6ac55184b6f98fce1de7af3c242",
       "version_major": 2,
       "version_minor": 0
      },
      "text/plain": [
       "  0%|          | 0/1471 [00:00<?, ?it/s]"
      ]
     },
     "metadata": {},
     "output_type": "display_data"
    },
    {
     "name": "stdout",
     "output_type": "stream",
     "text": [
      "torch.Size([1, 3, 1, 36, 64])\n"
     ]
    },
    {
     "data": {
      "application/vnd.jupyter.widget-view+json": {
       "model_id": "1abed1865cc74e07a3be9fd5bf81e881",
       "version_major": 2,
       "version_minor": 0
      },
      "text/plain": [
       "  0%|          | 0/1471 [00:00<?, ?it/s]"
      ]
     },
     "metadata": {},
     "output_type": "display_data"
    },
    {
     "name": "stdout",
     "output_type": "stream",
     "text": [
      "torch.Size([1, 3, 1, 36, 64])\n"
     ]
    },
    {
     "data": {
      "application/vnd.jupyter.widget-view+json": {
       "model_id": "4b6a891b17ad4b258877f679301c6f6f",
       "version_major": 2,
       "version_minor": 0
      },
      "text/plain": [
       "  0%|          | 0/1471 [00:00<?, ?it/s]"
      ]
     },
     "metadata": {},
     "output_type": "display_data"
    },
    {
     "name": "stdout",
     "output_type": "stream",
     "text": [
      "torch.Size([1, 3, 1, 36, 64])\n"
     ]
    },
    {
     "data": {
      "application/vnd.jupyter.widget-view+json": {
       "model_id": "b0f62c43059a4f599b1cdcd480ff9075",
       "version_major": 2,
       "version_minor": 0
      },
      "text/plain": [
       "  0%|          | 0/1471 [00:00<?, ?it/s]"
      ]
     },
     "metadata": {},
     "output_type": "display_data"
    },
    {
     "name": "stdout",
     "output_type": "stream",
     "text": [
      "torch.Size([1, 3, 1, 36, 64])\n"
     ]
    },
    {
     "data": {
      "application/vnd.jupyter.widget-view+json": {
       "model_id": "9b8e5811ef7a4135bd7dca03c284a03e",
       "version_major": 2,
       "version_minor": 0
      },
      "text/plain": [
       "  0%|          | 0/1471 [00:00<?, ?it/s]"
      ]
     },
     "metadata": {},
     "output_type": "display_data"
    },
    {
     "name": "stdout",
     "output_type": "stream",
     "text": [
      "torch.Size([1, 3, 1, 36, 64])\n"
     ]
    },
    {
     "data": {
      "application/vnd.jupyter.widget-view+json": {
       "model_id": "21cbb3db8f1742c3a90371821b2896e4",
       "version_major": 2,
       "version_minor": 0
      },
      "text/plain": [
       "  0%|          | 0/1471 [00:00<?, ?it/s]"
      ]
     },
     "metadata": {},
     "output_type": "display_data"
    },
    {
     "name": "stdout",
     "output_type": "stream",
     "text": [
      "torch.Size([1, 3, 1, 36, 64])\n"
     ]
    },
    {
     "data": {
      "application/vnd.jupyter.widget-view+json": {
       "model_id": "33e3cd0f05b74d12b7f64368ec635d47",
       "version_major": 2,
       "version_minor": 0
      },
      "text/plain": [
       "  0%|          | 0/1471 [00:00<?, ?it/s]"
      ]
     },
     "metadata": {},
     "output_type": "display_data"
    },
    {
     "name": "stdout",
     "output_type": "stream",
     "text": [
      "torch.Size([1, 3, 1, 36, 64])\n"
     ]
    },
    {
     "data": {
      "application/vnd.jupyter.widget-view+json": {
       "model_id": "4f5d8fc43a834d33a112ee2cfea11d8f",
       "version_major": 2,
       "version_minor": 0
      },
      "text/plain": [
       "  0%|          | 0/1471 [00:00<?, ?it/s]"
      ]
     },
     "metadata": {},
     "output_type": "display_data"
    },
    {
     "name": "stdout",
     "output_type": "stream",
     "text": [
      "torch.Size([1, 3, 1, 36, 64])\n"
     ]
    },
    {
     "data": {
      "application/vnd.jupyter.widget-view+json": {
       "model_id": "8df842f16bb44d11a12bb1b8a312b757",
       "version_major": 2,
       "version_minor": 0
      },
      "text/plain": [
       "  0%|          | 0/1471 [00:00<?, ?it/s]"
      ]
     },
     "metadata": {},
     "output_type": "display_data"
    },
    {
     "name": "stdout",
     "output_type": "stream",
     "text": [
      "torch.Size([1, 3, 1, 36, 64])\n"
     ]
    },
    {
     "data": {
      "application/vnd.jupyter.widget-view+json": {
       "model_id": "ca20c1a3f949466f86ef588b3bafb289",
       "version_major": 2,
       "version_minor": 0
      },
      "text/plain": [
       "  0%|          | 0/1471 [00:00<?, ?it/s]"
      ]
     },
     "metadata": {},
     "output_type": "display_data"
    },
    {
     "name": "stdout",
     "output_type": "stream",
     "text": [
      "torch.Size([1, 3, 1, 36, 64])\n"
     ]
    },
    {
     "data": {
      "application/vnd.jupyter.widget-view+json": {
       "model_id": "55d77b4eba034350857ee909bb4dd62f",
       "version_major": 2,
       "version_minor": 0
      },
      "text/plain": [
       "  0%|          | 0/1471 [00:00<?, ?it/s]"
      ]
     },
     "metadata": {},
     "output_type": "display_data"
    },
    {
     "name": "stdout",
     "output_type": "stream",
     "text": [
      "torch.Size([1, 3, 1, 36, 64])\n"
     ]
    },
    {
     "data": {
      "application/vnd.jupyter.widget-view+json": {
       "model_id": "b0b9eba103774fa9873028124c57d35e",
       "version_major": 2,
       "version_minor": 0
      },
      "text/plain": [
       "  0%|          | 0/1471 [00:00<?, ?it/s]"
      ]
     },
     "metadata": {},
     "output_type": "display_data"
    },
    {
     "name": "stdout",
     "output_type": "stream",
     "text": [
      "torch.Size([1, 3, 1, 36, 64])\n"
     ]
    },
    {
     "data": {
      "application/vnd.jupyter.widget-view+json": {
       "model_id": "918a44fb071348ff896aec9f164ae268",
       "version_major": 2,
       "version_minor": 0
      },
      "text/plain": [
       "  0%|          | 0/1471 [00:00<?, ?it/s]"
      ]
     },
     "metadata": {},
     "output_type": "display_data"
    },
    {
     "name": "stdout",
     "output_type": "stream",
     "text": [
      "torch.Size([1, 3, 1, 36, 64])\n"
     ]
    },
    {
     "data": {
      "application/vnd.jupyter.widget-view+json": {
       "model_id": "e7026740df7e4b368b364148d497e301",
       "version_major": 2,
       "version_minor": 0
      },
      "text/plain": [
       "  0%|          | 0/1471 [00:00<?, ?it/s]"
      ]
     },
     "metadata": {},
     "output_type": "display_data"
    },
    {
     "name": "stdout",
     "output_type": "stream",
     "text": [
      "torch.Size([1, 3, 1, 36, 64])\n"
     ]
    },
    {
     "data": {
      "application/vnd.jupyter.widget-view+json": {
       "model_id": "e7e09a58977d4180aa259b9256905ba8",
       "version_major": 2,
       "version_minor": 0
      },
      "text/plain": [
       "  0%|          | 0/1471 [00:00<?, ?it/s]"
      ]
     },
     "metadata": {},
     "output_type": "display_data"
    },
    {
     "name": "stdout",
     "output_type": "stream",
     "text": [
      "torch.Size([1, 3, 1, 36, 64])\n"
     ]
    },
    {
     "data": {
      "application/vnd.jupyter.widget-view+json": {
       "model_id": "c21ae65046834156b30d60afff973d00",
       "version_major": 2,
       "version_minor": 0
      },
      "text/plain": [
       "  0%|          | 0/1471 [00:00<?, ?it/s]"
      ]
     },
     "metadata": {},
     "output_type": "display_data"
    },
    {
     "name": "stdout",
     "output_type": "stream",
     "text": [
      "torch.Size([1, 3, 1, 36, 64])\n"
     ]
    },
    {
     "data": {
      "application/vnd.jupyter.widget-view+json": {
       "model_id": "5378545f12364a34b615f7ea4a42b3f4",
       "version_major": 2,
       "version_minor": 0
      },
      "text/plain": [
       "  0%|          | 0/1471 [00:00<?, ?it/s]"
      ]
     },
     "metadata": {},
     "output_type": "display_data"
    },
    {
     "name": "stdout",
     "output_type": "stream",
     "text": [
      "torch.Size([1, 3, 1, 36, 64])\n"
     ]
    },
    {
     "data": {
      "application/vnd.jupyter.widget-view+json": {
       "model_id": "a32ff45089974335a79dfeb9d994df45",
       "version_major": 2,
       "version_minor": 0
      },
      "text/plain": [
       "  0%|          | 0/1471 [00:00<?, ?it/s]"
      ]
     },
     "metadata": {},
     "output_type": "display_data"
    },
    {
     "name": "stdout",
     "output_type": "stream",
     "text": [
      "torch.Size([1, 3, 1, 36, 64])\n"
     ]
    },
    {
     "data": {
      "application/vnd.jupyter.widget-view+json": {
       "model_id": "380bd754a3984e09a0707102f8d651fe",
       "version_major": 2,
       "version_minor": 0
      },
      "text/plain": [
       "  0%|          | 0/1471 [00:00<?, ?it/s]"
      ]
     },
     "metadata": {},
     "output_type": "display_data"
    },
    {
     "name": "stdout",
     "output_type": "stream",
     "text": [
      "torch.Size([1, 3, 1, 36, 64])\n"
     ]
    },
    {
     "data": {
      "application/vnd.jupyter.widget-view+json": {
       "model_id": "e3370d8ec07548bebb39bf54507522ec",
       "version_major": 2,
       "version_minor": 0
      },
      "text/plain": [
       "  0%|          | 0/1471 [00:00<?, ?it/s]"
      ]
     },
     "metadata": {},
     "output_type": "display_data"
    },
    {
     "name": "stdout",
     "output_type": "stream",
     "text": [
      "torch.Size([1, 3, 1, 36, 64])\n"
     ]
    },
    {
     "data": {
      "application/vnd.jupyter.widget-view+json": {
       "model_id": "665671f746d84d2ba9a11139f9d44c61",
       "version_major": 2,
       "version_minor": 0
      },
      "text/plain": [
       "  0%|          | 0/1471 [00:00<?, ?it/s]"
      ]
     },
     "metadata": {},
     "output_type": "display_data"
    },
    {
     "name": "stdout",
     "output_type": "stream",
     "text": [
      "torch.Size([1, 3, 1, 36, 64])\n"
     ]
    },
    {
     "data": {
      "application/vnd.jupyter.widget-view+json": {
       "model_id": "8e4312873bdb43449861894b17522c74",
       "version_major": 2,
       "version_minor": 0
      },
      "text/plain": [
       "  0%|          | 0/1471 [00:00<?, ?it/s]"
      ]
     },
     "metadata": {},
     "output_type": "display_data"
    },
    {
     "name": "stdout",
     "output_type": "stream",
     "text": [
      "torch.Size([1, 3, 1, 36, 64])\n"
     ]
    },
    {
     "data": {
      "application/vnd.jupyter.widget-view+json": {
       "model_id": "df2d2bf6bc91466fb9326cb10cd71937",
       "version_major": 2,
       "version_minor": 0
      },
      "text/plain": [
       "  0%|          | 0/1471 [00:00<?, ?it/s]"
      ]
     },
     "metadata": {},
     "output_type": "display_data"
    },
    {
     "name": "stdout",
     "output_type": "stream",
     "text": [
      "torch.Size([1, 3, 1, 36, 64])\n"
     ]
    },
    {
     "data": {
      "application/vnd.jupyter.widget-view+json": {
       "model_id": "350c199ee46e4db6a561edb48cdbfcba",
       "version_major": 2,
       "version_minor": 0
      },
      "text/plain": [
       "  0%|          | 0/1471 [00:00<?, ?it/s]"
      ]
     },
     "metadata": {},
     "output_type": "display_data"
    },
    {
     "name": "stdout",
     "output_type": "stream",
     "text": [
      "torch.Size([1, 3, 1, 36, 64])\n"
     ]
    },
    {
     "data": {
      "application/vnd.jupyter.widget-view+json": {
       "model_id": "73ddd54bbc3a4fdf87e0ea6b756dec3b",
       "version_major": 2,
       "version_minor": 0
      },
      "text/plain": [
       "  0%|          | 0/1471 [00:00<?, ?it/s]"
      ]
     },
     "metadata": {},
     "output_type": "display_data"
    },
    {
     "name": "stdout",
     "output_type": "stream",
     "text": [
      "torch.Size([1, 3, 1, 36, 64])\n"
     ]
    },
    {
     "data": {
      "application/vnd.jupyter.widget-view+json": {
       "model_id": "0b454b0b5f2442ba941c93cdcf7d5b7f",
       "version_major": 2,
       "version_minor": 0
      },
      "text/plain": [
       "  0%|          | 0/1471 [00:00<?, ?it/s]"
      ]
     },
     "metadata": {},
     "output_type": "display_data"
    },
    {
     "name": "stdout",
     "output_type": "stream",
     "text": [
      "torch.Size([1, 3, 1, 36, 64])\n"
     ]
    },
    {
     "data": {
      "application/vnd.jupyter.widget-view+json": {
       "model_id": "54f554693ab0477092965631e4cd6375",
       "version_major": 2,
       "version_minor": 0
      },
      "text/plain": [
       "  0%|          | 0/1471 [00:00<?, ?it/s]"
      ]
     },
     "metadata": {},
     "output_type": "display_data"
    },
    {
     "name": "stdout",
     "output_type": "stream",
     "text": [
      "torch.Size([1, 3, 1, 36, 64])\n"
     ]
    },
    {
     "data": {
      "application/vnd.jupyter.widget-view+json": {
       "model_id": "a78bb4f37f514185af9d55dead17128c",
       "version_major": 2,
       "version_minor": 0
      },
      "text/plain": [
       "  0%|          | 0/1471 [00:00<?, ?it/s]"
      ]
     },
     "metadata": {},
     "output_type": "display_data"
    },
    {
     "name": "stdout",
     "output_type": "stream",
     "text": [
      "torch.Size([1, 3, 1, 36, 64])\n"
     ]
    },
    {
     "data": {
      "application/vnd.jupyter.widget-view+json": {
       "model_id": "189445b80a8747c293a01f72bde54d2f",
       "version_major": 2,
       "version_minor": 0
      },
      "text/plain": [
       "  0%|          | 0/1471 [00:00<?, ?it/s]"
      ]
     },
     "metadata": {},
     "output_type": "display_data"
    },
    {
     "data": {
      "text/plain": [
       "(150042, 2)"
      ]
     },
     "execution_count": 127,
     "metadata": {},
     "output_type": "execute_result"
    }
   ],
   "source": [
    "### generate audio for video from model\n",
    "num_frames = 1\n",
    "\n",
    "#start_index = int(len(resized_vid_arr)*0.8) + num_frames\n",
    "start_index = int(len(resized_vid_arr)*0.6) + num_frames\n",
    "audio_list = []\n",
    "vid_test_shape = (1,3,10,36,64)\n",
    "zero_frame = torch.zeros((vid_test_shape[3], vid_test_shape[4]))\n",
    "\n",
    "aud_per_vid_frame = 1471\n",
    "#audio_start_index = int(len(audio_array)*0.8)\n",
    "audio_start_index = int(len(audio_array)*0.6)\n",
    "print(audio_start_index)\n",
    "aud_input_arr = torch.tensor(audio_array[audio_start_index:audio_start_index+(num_frames * aud_per_vid_frame) - 1], dtype=torch.float32).cuda().unsqueeze(0)\n",
    "print(aud_input_arr.shape)\n",
    "\n",
    "#aud_input_arr = torch.zeros((1,2,(num_frames * aud_per_vid_frame) - 1)).cuda()\n",
    "print(aud_input_arr.shape)\n",
    "\n",
    "input_vid = resized_vid_arr[start_index:]\n",
    "gen_data = VideoOnlyDataset(input_vid, num_frames = num_frames)\n",
    "gen_loader = DataLoader(gen_data, batch_size=1, shuffle=False)\n",
    "\n",
    "\n",
    "#NOTE: GEN NEEDS TO BE FIXED TO ACCOUNT FOR MULTIPLE AUDIO RUNS PER FRAME\n",
    "wavenet.eval()\n",
    "for i,vid in enumerate(gen_loader):\n",
    "    vid = vid.cuda()\n",
    "    print(vid.shape)\n",
    "    for j in trange(aud_per_vid_frame):\n",
    "        with torch.no_grad():\n",
    "            #print(aud_input_arr.shape)\n",
    "            audio_output = wavenet(vid.cuda(), aud_input_arr.cuda()).cpu()\n",
    "            #print(audio_output, audio_output.shape)\n",
    "            audio_list.append(audio_output.squeeze().cpu().numpy())\n",
    "            #print(aud_input_arr)\n",
    "            aud_input_arr = aud_input_arr[:, 1:, :]\n",
    "            #print(aud_input_arr.shape, audio_output.shape)\n",
    "            #print(aud_input_arr)\n",
    "            \n",
    "            aud_input_arr = torch.cat((aud_input_arr, audio_output.cuda()), 1)\n",
    "            #print(aud_input_arr)\n",
    "    if i > 100:\n",
    "        break\n",
    "np.array(audio_list).shape"
   ]
  },
  {
   "cell_type": "code",
   "execution_count": 141,
   "metadata": {},
   "outputs": [],
   "source": [
    "gen_loader = DataLoader(gen_data, batch_size=1, shuffle=False)\n",
    "vid_list = []\n",
    "for i,vid in enumerate(gen_loader):\n",
    "    #print(vid.shape)\n",
    "    vid_np = vid.numpy().squeeze(0).transpose(1,3,2,0)\n",
    "    #print(vid_np.shape)\n",
    "    for frame in vid_np:\n",
    "        frame = cv2.resize(frame, (640, 360))\n",
    "        vid_list.append(frame)\n",
    "    if i > 100:\n",
    "        break"
   ]
  },
  {
   "cell_type": "code",
   "execution_count": 143,
   "metadata": {},
   "outputs": [
    {
     "name": "stdout",
     "output_type": "stream",
     "text": [
      "(102, 360, 640, 3)\n"
     ]
    }
   ],
   "source": [
    "video_np = np.array(vid_list)\n",
    "print(np.array(vid_list).shape)"
   ]
  },
  {
   "cell_type": "code",
   "execution_count": 144,
   "metadata": {},
   "outputs": [
    {
     "data": {
      "text/plain": [
       "<matplotlib.image.AxesImage at 0x7f98fc0d7f40>"
      ]
     },
     "execution_count": 144,
     "metadata": {},
     "output_type": "execute_result"
    },
    {
     "data": {
      "image/png": "[encoded data removed]",
      "text/plain": [
       "<Figure size 640x480 with 1 Axes>"
      ]
     },
     "metadata": {},
     "output_type": "display_data"
    }
   ],
   "source": [
    "plt.imshow(video_np[19])"
   ]
  },
  {
   "cell_type": "code",
   "execution_count": 145,
   "metadata": {},
   "outputs": [
    {
     "name": "stdout",
     "output_type": "stream",
     "text": [
      "102\n"
     ]
    }
   ],
   "source": [
    "print(len(vid_list))"
   ]
  },
  {
   "cell_type": "code",
   "execution_count": 146,
   "metadata": {},
   "outputs": [
    {
     "name": "stdout",
     "output_type": "stream",
     "text": [
      "Moviepy - Building video vid_frames2.mp4.\n",
      "Moviepy - Writing video vid_frames2.mp4\n",
      "\n"
     ]
    },
    {
     "name": "stderr",
     "output_type": "stream",
     "text": [
      "                                                   "
     ]
    },
    {
     "name": "stdout",
     "output_type": "stream",
     "text": [
      "Moviepy - Done !\n",
      "Moviepy - video ready vid_frames2.mp4\n"
     ]
    },
    {
     "name": "stderr",
     "output_type": "stream",
     "text": [
      "\r"
     ]
    }
   ],
   "source": [
    "fps = 15\n",
    "def make_frame(t):\n",
    "  t = int(t * fps)\n",
    "  # print(t)\n",
    "  return video_np[t]\n",
    "\n",
    "from moviepy.video.io.VideoFileClip import VideoClip\n",
    "myclip = VideoClip(make_frame, duration = 3)\n",
    "myclip.write_videofile('vid_frames2.mp4', fps = fps)"
   ]
  },
  {
   "cell_type": "code",
   "execution_count": 147,
   "metadata": {},
   "outputs": [],
   "source": [
    "path = 'test_transformer_model2_out_5.8_2_video.raw'\n",
    "np.save(path, video_np)"
   ]
  },
  {
   "cell_type": "code",
   "execution_count": 148,
   "metadata": {
    "executionInfo": {
     "elapsed": 4,
     "status": "aborted",
     "timestamp": 1683237494990,
     "user": {
      "displayName": "Jackson Wagner",
      "userId": "13678973550726092608"
     },
     "user_tz": 420
    },
    "id": "MOPq8NXlCUlm"
   },
   "outputs": [
    {
     "name": "stdout",
     "output_type": "stream",
     "text": [
      "150042\n"
     ]
    }
   ],
   "source": [
    "print(len(audio_list))"
   ]
  },
  {
   "cell_type": "code",
   "execution_count": 149,
   "metadata": {
    "executionInfo": {
     "elapsed": 4,
     "status": "aborted",
     "timestamp": 1683237494990,
     "user": {
      "displayName": "Jackson Wagner",
      "userId": "13678973550726092608"
     },
     "user_tz": 420
    },
    "id": "gnU6a3aV5Pa4"
   },
   "outputs": [
    {
     "name": "stdout",
     "output_type": "stream",
     "text": [
      "(150042, 2)\n"
     ]
    },
    {
     "data": {
      "text/plain": [
       "(2, 150042)"
      ]
     },
     "execution_count": 149,
     "metadata": {},
     "output_type": "execute_result"
    }
   ],
   "source": [
    "print(np.array(audio_list).shape)\n",
    "audio_np = np.array(audio_list).transpose(1,0)\n",
    "audio_np.shape"
   ]
  },
  {
   "cell_type": "code",
   "execution_count": 150,
   "metadata": {
    "executionInfo": {
     "elapsed": 4,
     "status": "aborted",
     "timestamp": 1683237494990,
     "user": {
      "displayName": "Jackson Wagner",
      "userId": "13678973550726092608"
     },
     "user_tz": 420
    },
    "id": "dHmMWv_fVdSp"
   },
   "outputs": [
    {
     "data": {
      "text/plain": [
       "'\\naudio_cpu = audio_output.cpu()\\naudio_np = audio_cpu.detach().numpy()\\naudio_np.shape\\n'"
      ]
     },
     "execution_count": 150,
     "metadata": {},
     "output_type": "execute_result"
    }
   ],
   "source": [
    "'''\n",
    "audio_cpu = audio_output.cpu()\n",
    "audio_np = audio_cpu.detach().numpy()\n",
    "audio_np.shape\n",
    "'''"
   ]
  },
  {
   "cell_type": "code",
   "execution_count": 151,
   "metadata": {
    "executionInfo": {
     "elapsed": 4,
     "status": "aborted",
     "timestamp": 1683237494990,
     "user": {
      "displayName": "Jackson Wagner",
      "userId": "13678973550726092608"
     },
     "user_tz": 420
    },
    "id": "3zx_uQAZPKek"
   },
   "outputs": [],
   "source": [
    "fps = 30\n",
    "sr = (audio_array.shape[0]// resized_vid_arr.shape[0])*fps\n",
    "write('test_transformer_model2_out_5.8_2.mp3', sr, audio_np)"
   ]
  },
  {
   "cell_type": "code",
   "execution_count": 152,
   "metadata": {},
   "outputs": [
    {
     "name": "stdout",
     "output_type": "stream",
     "text": [
      "44130\n"
     ]
    }
   ],
   "source": [
    "print(sr)"
   ]
  },
  {
   "cell_type": "code",
   "execution_count": 153,
   "metadata": {},
   "outputs": [],
   "source": [
    "path = 'test_transformer_model2_out_5.8_2.raw'\n",
    "np.save(path, audio_np)"
   ]
  },
  {
   "cell_type": "code",
   "execution_count": 154,
   "metadata": {
    "executionInfo": {
     "elapsed": 4,
     "status": "aborted",
     "timestamp": 1683237494991,
     "user": {
      "displayName": "Jackson Wagner",
      "userId": "13678973550726092608"
     },
     "user_tz": 420
    },
    "id": "f62amSXe_6Ur"
   },
   "outputs": [
    {
     "name": "stdout",
     "output_type": "stream",
     "text": [
      "Moviepy - Building video car.mp4.\n",
      "MoviePy - Writing audio in carTEMP_MPY_wvf_snd.mp3\n"
     ]
    },
    {
     "name": "stderr",
     "output_type": "stream",
     "text": [
      "                                                       \r"
     ]
    },
    {
     "name": "stdout",
     "output_type": "stream",
     "text": [
      "MoviePy - Done.\n",
      "Moviepy - Writing video car.mp4\n",
      "\n"
     ]
    },
    {
     "name": "stderr",
     "output_type": "stream",
     "text": [
      "                                                             \r"
     ]
    },
    {
     "name": "stdout",
     "output_type": "stream",
     "text": [
      "Moviepy - Done !\n",
      "Moviepy - video ready car.mp4\n",
      "Moviepy - Building video __temp__.mp4.\n",
      "MoviePy - Writing audio in __temp__TEMP_MPY_wvf_snd.mp3\n"
     ]
    },
    {
     "name": "stderr",
     "output_type": "stream",
     "text": [
      "                                                               \r"
     ]
    },
    {
     "name": "stdout",
     "output_type": "stream",
     "text": [
      "MoviePy - Done.\n",
      "Moviepy - Writing video __temp__.mp4\n",
      "\n"
     ]
    },
    {
     "name": "stderr",
     "output_type": "stream",
     "text": [
      "                                                             \r"
     ]
    },
    {
     "name": "stdout",
     "output_type": "stream",
     "text": [
      "Moviepy - Done !\n",
      "Moviepy - video ready __temp__.mp4\n"
     ]
    },
    {
     "data": {
      "text/html": [
       "<div align=middle><video src='data:video/mp4;base64,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' controls>Sorry, seems like your browser doesn't support HTML5 audio/video</video></div>"
      ],
      "text/plain": [
       "<moviepy.video.io.html_tools.HTML2 object>"
      ]
     },
     "execution_count": 154,
     "metadata": {},
     "output_type": "execute_result"
    }
   ],
   "source": [
    "from moviepy.editor import *\n",
    "  \n",
    "clip = VideoFileClip(\"vid_frames.mp4\")\n",
    "  \n",
    "clip = clip.subclip(0, 3)\n",
    "  \n",
    "# loading audio file\n",
    "audioclip = AudioFileClip(\"test_transformer_model2_out_5.8_1.mp3\")\n",
    "  \n",
    "# adding audio to the video clip\n",
    "videoclip = clip.set_audio(audioclip)\n",
    "\n",
    "videoclip.write_videofile('car.mp4', fps = 30)\n",
    "  \n",
    "# showing video clip\n",
    "videoclip.ipython_display()"
   ]
  },
  {
   "cell_type": "code",
   "execution_count": null,
   "metadata": {},
   "outputs": [],
   "source": []
  }
 ],
 "metadata": {
  "accelerator": "GPU",
  "colab": {
   "machine_shape": "hm",
   "provenance": [
    {
     "file_id": "1hLH14IPIjmhukYwuIVkWH0KAWopjnaIe",
     "timestamp": 1683231309344
    },
    {
     "file_id": "1--9ZUZLPg4PBYeBwTwaaUQqzzREoTy5p",
     "timestamp": 1682834828374
    },
    {
     "file_id": "1DzDk2SAXwqU8pvN5-_zvgopIuH-s9Y0R",
     "timestamp": 1682711665945
    }
   ]
  },
  "gpuClass": "premium",
  "kernelspec": {
   "display_name": "pytorch-1.13.1",
   "language": "python",
   "name": "pytorch-1.13.1"
  },
  "language_info": {
   "codemirror_mode": {
    "name": "ipython",
    "version": 3
   },
   "file_extension": ".py",
   "mimetype": "text/x-python",
   "name": "python",
   "nbconvert_exporter": "python",
   "pygments_lexer": "ipython3",
   "version": "3.9.15"
  },
  "widgets": {
   "application/vnd.jupyter.widget-state+json": {
    "1599d35bd6844badaeedd1fef5d86877": {
     "model_module": "@jupyter-widgets/controls",
     "model_module_version": "1.5.0",
     "model_name": "HTMLModel",
     "state": {
      "_dom_classes": [],
      "_model_module": "@jupyter-widgets/controls",
      "_model_module_version": "1.5.0",
      "_model_name": "HTMLModel",
      "_view_count": null,
      "_view_module": "@jupyter-widgets/controls",
      "_view_module_version": "1.5.0",
      "_view_name": "HTMLView",
      "description": "",
      "description_tooltip": null,
      "layout": "IPY_MODEL_347b450562614c51b1295c8bddd69ade",
      "placeholder": "​",
      "style": "IPY_MODEL_2f60c766deac41baa3e771dc24800dd1",
      "value": " 46/? [00:19&lt;00:00,  2.54it/s]"
     }
    },
    "1bf569533ba648e08eedf0b0a2a9cdf9": {
     "model_module": "@jupyter-widgets/controls",
     "model_module_version": "1.5.0",
     "model_name": "ProgressStyleModel",
     "state": {
      "_model_module": "@jupyter-widgets/controls",
      "_model_module_version": "1.5.0",
      "_model_name": "ProgressStyleModel",
      "_view_count": null,
      "_view_module": "@jupyter-widgets/base",
      "_view_module_version": "1.2.0",
      "_view_name": "StyleView",
      "bar_color": null,
      "description_width": ""
     }
    },
    "2f60c766deac41baa3e771dc24800dd1": {
     "model_module": "@jupyter-widgets/controls",
     "model_module_version": "1.5.0",
     "model_name": "DescriptionStyleModel",
     "state": {
      "_model_module": "@jupyter-widgets/controls",
      "_model_module_version": "1.5.0",
      "_model_name": "DescriptionStyleModel",
      "_view_count": null,
      "_view_module": "@jupyter-widgets/base",
      "_view_module_version": "1.2.0",
      "_view_name": "StyleView",
      "description_width": ""
     }
    },
    "347b450562614c51b1295c8bddd69ade": {
     "model_module": "@jupyter-widgets/base",
     "model_module_version": "1.2.0",
     "model_name": "LayoutModel",
     "state": {
      "_model_module": "@jupyter-widgets/base",
      "_model_module_version": "1.2.0",
      "_model_name": "LayoutModel",
      "_view_count": null,
      "_view_module": "@jupyter-widgets/base",
      "_view_module_version": "1.2.0",
      "_view_name": "LayoutView",
      "align_content": null,
      "align_items": null,
      "align_self": null,
      "border": null,
      "bottom": null,
      "display": null,
      "flex": null,
      "flex_flow": null,
      "grid_area": null,
      "grid_auto_columns": null,
      "grid_auto_flow": null,
      "grid_auto_rows": null,
      "grid_column": null,
      "grid_gap": null,
      "grid_row": null,
      "grid_template_areas": null,
      "grid_template_columns": null,
      "grid_template_rows": null,
      "height": null,
      "justify_content": null,
      "justify_items": null,
      "left": null,
      "margin": null,
      "max_height": null,
      "max_width": null,
      "min_height": null,
      "min_width": null,
      "object_fit": null,
      "object_position": null,
      "order": null,
      "overflow": null,
      "overflow_x": null,
      "overflow_y": null,
      "padding": null,
      "right": null,
      "top": null,
      "visibility": null,
      "width": null
     }
    },
    "3b20e87dd300401b82d747d27ecbc039": {
     "model_module": "@jupyter-widgets/controls",
     "model_module_version": "1.5.0",
     "model_name": "ProgressStyleModel",
     "state": {
      "_model_module": "@jupyter-widgets/controls",
      "_model_module_version": "1.5.0",
      "_model_name": "ProgressStyleModel",
      "_view_count": null,
      "_view_module": "@jupyter-widgets/base",
      "_view_module_version": "1.2.0",
      "_view_name": "StyleView",
      "bar_color": null,
      "description_width": ""
     }
    },
    "46105105d11e435dbc0db488c43fdf47": {
     "model_module": "@jupyter-widgets/base",
     "model_module_version": "1.2.0",
     "model_name": "LayoutModel",
     "state": {
      "_model_module": "@jupyter-widgets/base",
      "_model_module_version": "1.2.0",
      "_model_name": "LayoutModel",
      "_view_count": null,
      "_view_module": "@jupyter-widgets/base",
      "_view_module_version": "1.2.0",
      "_view_name": "LayoutView",
      "align_content": null,
      "align_items": null,
      "align_self": null,
      "border": null,
      "bottom": null,
      "display": null,
      "flex": null,
      "flex_flow": null,
      "grid_area": null,
      "grid_auto_columns": null,
      "grid_auto_flow": null,
      "grid_auto_rows": null,
      "grid_column": null,
      "grid_gap": null,
      "grid_row": null,
      "grid_template_areas": null,
      "grid_template_columns": null,
      "grid_template_rows": null,
      "height": null,
      "justify_content": null,
      "justify_items": null,
      "left": null,
      "margin": null,
      "max_height": null,
      "max_width": null,
      "min_height": null,
      "min_width": null,
      "object_fit": null,
      "object_position": null,
      "order": null,
      "overflow": null,
      "overflow_x": null,
      "overflow_y": null,
      "padding": null,
      "right": null,
      "top": null,
      "visibility": null,
      "width": null
     }
    },
    "66028dc242a24a6bbe5aae7d5aac4ee0": {
     "model_module": "@jupyter-widgets/controls",
     "model_module_version": "1.5.0",
     "model_name": "HTMLModel",
     "state": {
      "_dom_classes": [],
      "_model_module": "@jupyter-widgets/controls",
      "_model_module_version": "1.5.0",
      "_model_name": "HTMLModel",
      "_view_count": null,
      "_view_module": "@jupyter-widgets/controls",
      "_view_module_version": "1.5.0",
      "_view_name": "HTMLView",
      "description": "",
      "description_tooltip": null,
      "layout": "IPY_MODEL_a646b672a12442fab793b40b5f019547",
      "placeholder": "​",
      "style": "IPY_MODEL_fad159c751df456285bc240fd603ff37",
      "value": "Validation: "
     }
    },
    "675868afca70457aacba30a626a61b35": {
     "model_module": "@jupyter-widgets/controls",
     "model_module_version": "1.5.0",
     "model_name": "DescriptionStyleModel",
     "state": {
      "_model_module": "@jupyter-widgets/controls",
      "_model_module_version": "1.5.0",
      "_model_name": "DescriptionStyleModel",
      "_view_count": null,
      "_view_module": "@jupyter-widgets/base",
      "_view_module_version": "1.2.0",
      "_view_name": "StyleView",
      "description_width": ""
     }
    },
    "73273624d3ec46539047695496cef11b": {
     "model_module": "@jupyter-widgets/controls",
     "model_module_version": "1.5.0",
     "model_name": "HBoxModel",
     "state": {
      "_dom_classes": [],
      "_model_module": "@jupyter-widgets/controls",
      "_model_module_version": "1.5.0",
      "_model_name": "HBoxModel",
      "_view_count": null,
      "_view_module": "@jupyter-widgets/controls",
      "_view_module_version": "1.5.0",
      "_view_name": "HBoxView",
      "box_style": "",
      "children": [
       "IPY_MODEL_bbada1e125ff429eae418bf609e3ea4c",
       "IPY_MODEL_9f611faec9f24d7fb136eae0dcaf71cf",
       "IPY_MODEL_9c643f04c1b741d1b57fa7b6b209c102"
      ],
      "layout": "IPY_MODEL_fdbb2926241c4891885ef8a36ce7a130"
     }
    },
    "85c3ed4a97f2464e834d340cf7d43006": {
     "model_module": "@jupyter-widgets/base",
     "model_module_version": "1.2.0",
     "model_name": "LayoutModel",
     "state": {
      "_model_module": "@jupyter-widgets/base",
      "_model_module_version": "1.2.0",
      "_model_name": "LayoutModel",
      "_view_count": null,
      "_view_module": "@jupyter-widgets/base",
      "_view_module_version": "1.2.0",
      "_view_name": "LayoutView",
      "align_content": null,
      "align_items": null,
      "align_self": null,
      "border": null,
      "bottom": null,
      "display": null,
      "flex": null,
      "flex_flow": null,
      "grid_area": null,
      "grid_auto_columns": null,
      "grid_auto_flow": null,
      "grid_auto_rows": null,
      "grid_column": null,
      "grid_gap": null,
      "grid_row": null,
      "grid_template_areas": null,
      "grid_template_columns": null,
      "grid_template_rows": null,
      "height": null,
      "justify_content": null,
      "justify_items": null,
      "left": null,
      "margin": null,
      "max_height": null,
      "max_width": null,
      "min_height": null,
      "min_width": null,
      "object_fit": null,
      "object_position": null,
      "order": null,
      "overflow": null,
      "overflow_x": null,
      "overflow_y": null,
      "padding": null,
      "right": null,
      "top": null,
      "visibility": null,
      "width": null
     }
    },
    "919ddb8d374b4e92b57f750c0d019859": {
     "model_module": "@jupyter-widgets/base",
     "model_module_version": "1.2.0",
     "model_name": "LayoutModel",
     "state": {
      "_model_module": "@jupyter-widgets/base",
      "_model_module_version": "1.2.0",
      "_model_name": "LayoutModel",
      "_view_count": null,
      "_view_module": "@jupyter-widgets/base",
      "_view_module_version": "1.2.0",
      "_view_name": "LayoutView",
      "align_content": null,
      "align_items": null,
      "align_self": null,
      "border": null,
      "bottom": null,
      "display": null,
      "flex": null,
      "flex_flow": null,
      "grid_area": null,
      "grid_auto_columns": null,
      "grid_auto_flow": null,
      "grid_auto_rows": null,
      "grid_column": null,
      "grid_gap": null,
      "grid_row": null,
      "grid_template_areas": null,
      "grid_template_columns": null,
      "grid_template_rows": null,
      "height": null,
      "justify_content": null,
      "justify_items": null,
      "left": null,
      "margin": null,
      "max_height": null,
      "max_width": null,
      "min_height": null,
      "min_width": null,
      "object_fit": null,
      "object_position": null,
      "order": null,
      "overflow": null,
      "overflow_x": null,
      "overflow_y": null,
      "padding": null,
      "right": null,
      "top": null,
      "visibility": null,
      "width": "20px"
     }
    },
    "9c643f04c1b741d1b57fa7b6b209c102": {
     "model_module": "@jupyter-widgets/controls",
     "model_module_version": "1.5.0",
     "model_name": "HTMLModel",
     "state": {
      "_dom_classes": [],
      "_model_module": "@jupyter-widgets/controls",
      "_model_module_version": "1.5.0",
      "_model_name": "HTMLModel",
      "_view_count": null,
      "_view_module": "@jupyter-widgets/controls",
      "_view_module_version": "1.5.0",
      "_view_name": "HTMLView",
      "description": "",
      "description_tooltip": null,
      "layout": "IPY_MODEL_d226292202f1430cbdc602085458ad03",
      "placeholder": "​",
      "style": "IPY_MODEL_acadf0fed9184df98a87485271518fdc",
      "value": " 0/? [00:00&lt;?, ?it/s]"
     }
    },
    "9f611faec9f24d7fb136eae0dcaf71cf": {
     "model_module": "@jupyter-widgets/controls",
     "model_module_version": "1.5.0",
     "model_name": "FloatProgressModel",
     "state": {
      "_dom_classes": [],
      "_model_module": "@jupyter-widgets/controls",
      "_model_module_version": "1.5.0",
      "_model_name": "FloatProgressModel",
      "_view_count": null,
      "_view_module": "@jupyter-widgets/controls",
      "_view_module_version": "1.5.0",
      "_view_name": "ProgressView",
      "bar_style": "info",
      "description": "",
      "description_tooltip": null,
      "layout": "IPY_MODEL_cdfb1461201943b183377eefdb6772d6",
      "max": 1,
      "min": 0,
      "orientation": "horizontal",
      "style": "IPY_MODEL_3b20e87dd300401b82d747d27ecbc039",
      "value": 0
     }
    },
    "a646b672a12442fab793b40b5f019547": {
     "model_module": "@jupyter-widgets/base",
     "model_module_version": "1.2.0",
     "model_name": "LayoutModel",
     "state": {
      "_model_module": "@jupyter-widgets/base",
      "_model_module_version": "1.2.0",
      "_model_name": "LayoutModel",
      "_view_count": null,
      "_view_module": "@jupyter-widgets/base",
      "_view_module_version": "1.2.0",
      "_view_name": "LayoutView",
      "align_content": null,
      "align_items": null,
      "align_self": null,
      "border": null,
      "bottom": null,
      "display": null,
      "flex": null,
      "flex_flow": null,
      "grid_area": null,
      "grid_auto_columns": null,
      "grid_auto_flow": null,
      "grid_auto_rows": null,
      "grid_column": null,
      "grid_gap": null,
      "grid_row": null,
      "grid_template_areas": null,
      "grid_template_columns": null,
      "grid_template_rows": null,
      "height": null,
      "justify_content": null,
      "justify_items": null,
      "left": null,
      "margin": null,
      "max_height": null,
      "max_width": null,
      "min_height": null,
      "min_width": null,
      "object_fit": null,
      "object_position": null,
      "order": null,
      "overflow": null,
      "overflow_x": null,
      "overflow_y": null,
      "padding": null,
      "right": null,
      "top": null,
      "visibility": null,
      "width": null
     }
    },
    "acadf0fed9184df98a87485271518fdc": {
     "model_module": "@jupyter-widgets/controls",
     "model_module_version": "1.5.0",
     "model_name": "DescriptionStyleModel",
     "state": {
      "_model_module": "@jupyter-widgets/controls",
      "_model_module_version": "1.5.0",
      "_model_name": "DescriptionStyleModel",
      "_view_count": null,
      "_view_module": "@jupyter-widgets/base",
      "_view_module_version": "1.2.0",
      "_view_name": "StyleView",
      "description_width": ""
     }
    },
    "b23a60ed465e45beb5cd4bad947d1270": {
     "model_module": "@jupyter-widgets/controls",
     "model_module_version": "1.5.0",
     "model_name": "FloatProgressModel",
     "state": {
      "_dom_classes": [],
      "_model_module": "@jupyter-widgets/controls",
      "_model_module_version": "1.5.0",
      "_model_name": "FloatProgressModel",
      "_view_count": null,
      "_view_module": "@jupyter-widgets/controls",
      "_view_module_version": "1.5.0",
      "_view_name": "ProgressView",
      "bar_style": "info",
      "description": "",
      "description_tooltip": null,
      "layout": "IPY_MODEL_919ddb8d374b4e92b57f750c0d019859",
      "max": 1,
      "min": 0,
      "orientation": "horizontal",
      "style": "IPY_MODEL_1bf569533ba648e08eedf0b0a2a9cdf9",
      "value": 1
     }
    },
    "bbada1e125ff429eae418bf609e3ea4c": {
     "model_module": "@jupyter-widgets/controls",
     "model_module_version": "1.5.0",
     "model_name": "HTMLModel",
     "state": {
      "_dom_classes": [],
      "_model_module": "@jupyter-widgets/controls",
      "_model_module_version": "1.5.0",
      "_model_name": "HTMLModel",
      "_view_count": null,
      "_view_module": "@jupyter-widgets/controls",
      "_view_module_version": "1.5.0",
      "_view_name": "HTMLView",
      "description": "",
      "description_tooltip": null,
      "layout": "IPY_MODEL_46105105d11e435dbc0db488c43fdf47",
      "placeholder": "​",
      "style": "IPY_MODEL_675868afca70457aacba30a626a61b35",
      "value": "Training: "
     }
    },
    "bda87b78f0cd420bb99623ea2fa2759f": {
     "model_module": "@jupyter-widgets/controls",
     "model_module_version": "1.5.0",
     "model_name": "HBoxModel",
     "state": {
      "_dom_classes": [],
      "_model_module": "@jupyter-widgets/controls",
      "_model_module_version": "1.5.0",
      "_model_name": "HBoxModel",
      "_view_count": null,
      "_view_module": "@jupyter-widgets/controls",
      "_view_module_version": "1.5.0",
      "_view_name": "HBoxView",
      "box_style": "",
      "children": [
       "IPY_MODEL_66028dc242a24a6bbe5aae7d5aac4ee0",
       "IPY_MODEL_b23a60ed465e45beb5cd4bad947d1270",
       "IPY_MODEL_1599d35bd6844badaeedd1fef5d86877"
      ],
      "layout": "IPY_MODEL_85c3ed4a97f2464e834d340cf7d43006"
     }
    },
    "cdfb1461201943b183377eefdb6772d6": {
     "model_module": "@jupyter-widgets/base",
     "model_module_version": "1.2.0",
     "model_name": "LayoutModel",
     "state": {
      "_model_module": "@jupyter-widgets/base",
      "_model_module_version": "1.2.0",
      "_model_name": "LayoutModel",
      "_view_count": null,
      "_view_module": "@jupyter-widgets/base",
      "_view_module_version": "1.2.0",
      "_view_name": "LayoutView",
      "align_content": null,
      "align_items": null,
      "align_self": null,
      "border": null,
      "bottom": null,
      "display": null,
      "flex": null,
      "flex_flow": null,
      "grid_area": null,
      "grid_auto_columns": null,
      "grid_auto_flow": null,
      "grid_auto_rows": null,
      "grid_column": null,
      "grid_gap": null,
      "grid_row": null,
      "grid_template_areas": null,
      "grid_template_columns": null,
      "grid_template_rows": null,
      "height": null,
      "justify_content": null,
      "justify_items": null,
      "left": null,
      "margin": null,
      "max_height": null,
      "max_width": null,
      "min_height": null,
      "min_width": null,
      "object_fit": null,
      "object_position": null,
      "order": null,
      "overflow": null,
      "overflow_x": null,
      "overflow_y": null,
      "padding": null,
      "right": null,
      "top": null,
      "visibility": null,
      "width": "20px"
     }
    },
    "d226292202f1430cbdc602085458ad03": {
     "model_module": "@jupyter-widgets/base",
     "model_module_version": "1.2.0",
     "model_name": "LayoutModel",
     "state": {
      "_model_module": "@jupyter-widgets/base",
      "_model_module_version": "1.2.0",
      "_model_name": "LayoutModel",
      "_view_count": null,
      "_view_module": "@jupyter-widgets/base",
      "_view_module_version": "1.2.0",
      "_view_name": "LayoutView",
      "align_content": null,
      "align_items": null,
      "align_self": null,
      "border": null,
      "bottom": null,
      "display": null,
      "flex": null,
      "flex_flow": null,
      "grid_area": null,
      "grid_auto_columns": null,
      "grid_auto_flow": null,
      "grid_auto_rows": null,
      "grid_column": null,
      "grid_gap": null,
      "grid_row": null,
      "grid_template_areas": null,
      "grid_template_columns": null,
      "grid_template_rows": null,
      "height": null,
      "justify_content": null,
      "justify_items": null,
      "left": null,
      "margin": null,
      "max_height": null,
      "max_width": null,
      "min_height": null,
      "min_width": null,
      "object_fit": null,
      "object_position": null,
      "order": null,
      "overflow": null,
      "overflow_x": null,
      "overflow_y": null,
      "padding": null,
      "right": null,
      "top": null,
      "visibility": null,
      "width": null
     }
    },
    "fad159c751df456285bc240fd603ff37": {
     "model_module": "@jupyter-widgets/controls",
     "model_module_version": "1.5.0",
     "model_name": "DescriptionStyleModel",
     "state": {
      "_model_module": "@jupyter-widgets/controls",
      "_model_module_version": "1.5.0",
      "_model_name": "DescriptionStyleModel",
      "_view_count": null,
      "_view_module": "@jupyter-widgets/base",
      "_view_module_version": "1.2.0",
      "_view_name": "StyleView",
      "description_width": ""
     }
    },
    "fdbb2926241c4891885ef8a36ce7a130": {
     "model_module": "@jupyter-widgets/base",
     "model_module_version": "1.2.0",
     "model_name": "LayoutModel",
     "state": {
      "_model_module": "@jupyter-widgets/base",
      "_model_module_version": "1.2.0",
      "_model_name": "LayoutModel",
      "_view_count": null,
      "_view_module": "@jupyter-widgets/base",
      "_view_module_version": "1.2.0",
      "_view_name": "LayoutView",
      "align_content": null,
      "align_items": null,
      "align_self": null,
      "border": null,
      "bottom": null,
      "display": null,
      "flex": null,
      "flex_flow": null,
      "grid_area": null,
      "grid_auto_columns": null,
      "grid_auto_flow": null,
      "grid_auto_rows": null,
      "grid_column": null,
      "grid_gap": null,
      "grid_row": null,
      "grid_template_areas": null,
      "grid_template_columns": null,
      "grid_template_rows": null,
      "height": null,
      "justify_content": null,
      "justify_items": null,
      "left": null,
      "margin": null,
      "max_height": null,
      "max_width": null,
      "min_height": null,
      "min_width": null,
      "object_fit": null,
      "object_position": null,
      "order": null,
      "overflow": null,
      "overflow_x": null,
      "overflow_y": null,
      "padding": null,
      "right": null,
      "top": null,
      "visibility": null,
      "width": null
     }
    }
   }
  }
 },
 "nbformat": 4,
 "nbformat_minor": 4
}
