{
 "cells": [
  {
   "cell_type": "code",
   "execution_count": 1,
   "metadata": {
    "executionInfo": {
     "elapsed": 5,
     "status": "ok",
     "timestamp": 1683237452136,
     "user": {
      "displayName": "Jackson Wagner",
      "userId": "13678973550726092608"
     },
     "user_tz": 420
    },
    "id": "PKUb0VpR2XPD"
   },
   "outputs": [],
   "source": [
    "#!sudo pip install pytube"
   ]
  },
  {
   "cell_type": "code",
   "execution_count": 2,
   "metadata": {
    "executionInfo": {
     "elapsed": 5,
     "status": "ok",
     "timestamp": 1683237452136,
     "user": {
      "displayName": "Jackson Wagner",
      "userId": "13678973550726092608"
     },
     "user_tz": 420
    },
    "id": "JqSUtN2m2Zzs"
   },
   "outputs": [],
   "source": [
    "#from pytube import YouTube\n",
    "def download(url):\n",
    "    youtubeObject = YouTube(url)\n",
    "    youtubeObject = youtubeObject.streams.get_lowest_resolution()\n",
    "    try:\n",
    "        youtubeObject.download()\n",
    "    except:\n",
    "        print(\"An error has occurred\")\n",
    "    print(\"Download is completed successfully\")\n",
    "\n",
    "#url = \"https://www.youtube.com/watch?v=FJZ-BHBKyos\" # car chase\n",
    "#url = \"https://www.youtube.com/watch?v=1gwglom4FeA\" # 8 hr nature\n",
    "#url = \"https://www.youtube.com/watch?v=8W1qF7l2A1c\" # 6 hr nature\n",
    "#download(url)"
   ]
  },
  {
   "cell_type": "code",
   "execution_count": 3,
   "metadata": {
    "colab": {
     "base_uri": "https://localhost:8080/"
    },
    "executionInfo": {
     "elapsed": 3543,
     "status": "ok",
     "timestamp": 1683237457375,
     "user": {
      "displayName": "Jackson Wagner",
      "userId": "13678973550726092608"
     },
     "user_tz": 420
    },
    "id": "SIxci6qbzEXH",
    "outputId": "5e3d051b-77c6-4eea-fc1a-1edad0abcebc"
   },
   "outputs": [
    {
     "name": "stdout",
     "output_type": "stream",
     "text": [
      "Defaulting to user installation because normal site-packages is not writeable\n",
      "Requirement already satisfied: scikit-video in /global/u2/m/martel/.local/perlmutter/pytorch1.13.1/lib/python3.9/site-packages (1.1.11)\n",
      "Requirement already satisfied: pillow in /global/u2/m/martel/.local/perlmutter/pytorch1.13.1/lib/python3.9/site-packages (from scikit-video) (9.5.0)\n",
      "Requirement already satisfied: numpy in /global/u2/m/martel/.local/perlmutter/pytorch1.13.1/lib/python3.9/site-packages (from scikit-video) (1.24.1)\n",
      "Requirement already satisfied: scipy in /global/u2/m/martel/.local/perlmutter/pytorch1.13.1/lib/python3.9/site-packages (from scikit-video) (1.10.1)\n"
     ]
    }
   ],
   "source": [
    "\n",
    "!pip install scikit-video"
   ]
  },
  {
   "cell_type": "code",
   "execution_count": 4,
   "metadata": {
    "executionInfo": {
     "elapsed": 417,
     "status": "ok",
     "timestamp": 1683237457788,
     "user": {
      "displayName": "Jackson Wagner",
      "userId": "13678973550726092608"
     },
     "user_tz": 420
    },
    "id": "3QAKUr-6AbB7"
   },
   "outputs": [],
   "source": [
    "import cv2\n",
    "import numpy as np\n",
    "import skvideo.io  \n",
    "import matplotlib.pyplot as plt"
   ]
  },
  {
   "cell_type": "code",
   "execution_count": 5,
   "metadata": {
    "executionInfo": {
     "elapsed": 17162,
     "status": "ok",
     "timestamp": 1683237474949,
     "user": {
      "displayName": "Jackson Wagner",
      "userId": "13678973550726092608"
     },
     "user_tz": 420
    },
    "id": "MCia8s07Ph_C"
   },
   "outputs": [],
   "source": [
    "'''\n",
    "##NOTE: use vreader and then create a downsampled np array\n",
    "## try 36x64\n",
    "resized_vid_arr = []\n",
    "videodata = skvideo.io.vread(\"car_chase.mp4\")  \n",
    "for v in videodata:\n",
    "  roi = cv2.resize(v, (36, 64))\n",
    "  roi = roi.astype(\"float\") / 255.0\n",
    "  # roi = img_to_array(roi)\n",
    "  # roi = np.expand_dims(roi, axis=0)\n",
    "  resized_vid_arr.append(roi) \n",
    "resized_vid_arr = np.array(resized_vid_arr)\n",
    "'''\n",
    "resized_vid_arr = np.load(\"resized_vid_arr.npy\")"
   ]
  },
  {
   "cell_type": "code",
   "execution_count": 6,
   "metadata": {},
   "outputs": [
    {
     "data": {
      "text/plain": [
       "39977099.83529407"
      ]
     },
     "execution_count": 6,
     "metadata": {},
     "output_type": "execute_result"
    }
   ],
   "source": [
    "resized_vid_arr.sum()"
   ]
  },
  {
   "cell_type": "code",
   "execution_count": 7,
   "metadata": {},
   "outputs": [
    {
     "data": {
      "text/plain": [
       "(18547, 64, 36, 3)"
      ]
     },
     "execution_count": 7,
     "metadata": {},
     "output_type": "execute_result"
    }
   ],
   "source": [
    "resized_vid_arr.shape"
   ]
  },
  {
   "cell_type": "code",
   "execution_count": 8,
   "metadata": {
    "colab": {
     "base_uri": "https://localhost:8080/"
    },
    "executionInfo": {
     "elapsed": 2249,
     "status": "ok",
     "timestamp": 1683237477187,
     "user": {
      "displayName": "Jackson Wagner",
      "userId": "13678973550726092608"
     },
     "user_tz": 420
    },
    "id": "48DV4rShBh6P",
    "outputId": "71a5d192-0e97-4cfc-9ee4-c67c9f821c19"
   },
   "outputs": [],
   "source": [
    "from moviepy.video.io.VideoFileClip import AudioFileClip\n",
    "audioclip = AudioFileClip('car_chase.mp4', fps=9000)\n",
    "# audioclip = videoclip.audio\n",
    "audio_array = audioclip.to_soundarray()"
   ]
  },
  {
   "cell_type": "code",
   "execution_count": 9,
   "metadata": {
    "executionInfo": {
     "elapsed": 7,
     "status": "ok",
     "timestamp": 1683237477188,
     "user": {
      "displayName": "Jackson Wagner",
      "userId": "13678973550726092608"
     },
     "user_tz": 420
    },
    "id": "U5XJo3TcFxpQ"
   },
   "outputs": [],
   "source": [
    "video_and_audio_arr = []\n",
    "aud_per_frame = audio_array.shape[0]// resized_vid_arr.shape[0]\n",
    "for i in range(len(resized_vid_arr)):\n",
    "  aud_in = audio_array[i*aud_per_frame : (i+1)*aud_per_frame+1]\n",
    "  vec_in = [resized_vid_arr[i], aud_in]\n",
    "  video_and_audio_arr.append(vec_in)"
   ]
  },
  {
   "cell_type": "code",
   "execution_count": 10,
   "metadata": {
    "executionInfo": {
     "elapsed": 6,
     "status": "ok",
     "timestamp": 1683237477188,
     "user": {
      "displayName": "Jackson Wagner",
      "userId": "13678973550726092608"
     },
     "user_tz": 420
    },
    "id": "Lc0y21sYKck7"
   },
   "outputs": [],
   "source": [
    "fps = 30\n",
    "def make_frame(t):\n",
    "  t = int(t * fps)\n",
    "  # print(t)\n",
    "  return video_and_audio_arr[t][0]\n",
    "\n",
    "from moviepy.video.io.VideoFileClip import VideoClip\n",
    "myclip = VideoClip(make_frame, duration = 20)"
   ]
  },
  {
   "cell_type": "code",
   "execution_count": 11,
   "metadata": {
    "colab": {
     "base_uri": "https://localhost:8080/"
    },
    "executionInfo": {
     "elapsed": 6,
     "status": "ok",
     "timestamp": 1683237477188,
     "user": {
      "displayName": "Jackson Wagner",
      "userId": "13678973550726092608"
     },
     "user_tz": 420
    },
    "id": "-iBAZyubIpWH",
    "outputId": "db5114d7-4cc8-49fe-bfef-fc46b45426ef"
   },
   "outputs": [
    {
     "name": "stdout",
     "output_type": "stream",
     "text": [
      "Moviepy - Building video test.mp4.\n",
      "Moviepy - Writing video test.mp4\n",
      "\n"
     ]
    },
    {
     "name": "stderr",
     "output_type": "stream",
     "text": [
      "                                                    "
     ]
    },
    {
     "name": "stdout",
     "output_type": "stream",
     "text": [
      "Moviepy - Done !\n",
      "Moviepy - video ready test.mp4\n"
     ]
    },
    {
     "name": "stderr",
     "output_type": "stream",
     "text": [
      "\r"
     ]
    }
   ],
   "source": [
    "myclip.write_videofile('test.mp4', fps = 30)"
   ]
  },
  {
   "cell_type": "code",
   "execution_count": 12,
   "metadata": {
    "colab": {
     "base_uri": "https://localhost:8080/"
    },
    "executionInfo": {
     "elapsed": 1434,
     "status": "ok",
     "timestamp": 1683237478619,
     "user": {
      "displayName": "Jackson Wagner",
      "userId": "13678973550726092608"
     },
     "user_tz": 420
    },
    "id": "v6Cf944EXQd_",
    "outputId": "73683f4e-7a36-4056-e2cc-0908fcbeca2b"
   },
   "outputs": [
    {
     "name": "stdout",
     "output_type": "stream",
     "text": [
      "(241101, 2)\n"
     ]
    }
   ],
   "source": [
    "## concatonate the audio\n",
    "audio = video_and_audio_arr[0][1]\n",
    "for i in range(20*40):\n",
    "  next_aud = video_and_audio_arr[i+1][1]\n",
    "  audio = np.vstack((audio, next_aud))\n",
    "print(audio.shape)"
   ]
  },
  {
   "cell_type": "code",
   "execution_count": 13,
   "metadata": {
    "colab": {
     "base_uri": "https://localhost:8080/"
    },
    "executionInfo": {
     "elapsed": 3285,
     "status": "ok",
     "timestamp": 1683237481902,
     "user": {
      "displayName": "Jackson Wagner",
      "userId": "13678973550726092608"
     },
     "user_tz": 420
    },
    "id": "OW5Cdk0EZapo",
    "outputId": "788fb668-a99c-4b2a-9092-65270d1e6e8e"
   },
   "outputs": [
    {
     "name": "stdout",
     "output_type": "stream",
     "text": [
      "Defaulting to user installation because normal site-packages is not writeable\n",
      "Requirement already satisfied: pydub in /global/u2/m/martel/.local/perlmutter/pytorch1.13.1/lib/python3.9/site-packages (0.25.1)\n"
     ]
    }
   ],
   "source": [
    "!pip install pydub"
   ]
  },
  {
   "cell_type": "code",
   "execution_count": 14,
   "metadata": {
    "executionInfo": {
     "elapsed": 10,
     "status": "ok",
     "timestamp": 1683237481903,
     "user": {
      "displayName": "Jackson Wagner",
      "userId": "13678973550726092608"
     },
     "user_tz": 420
    },
    "id": "z1UTKIkuYTMm"
   },
   "outputs": [],
   "source": [
    "import pydub \n",
    "\n",
    "def write(f, sr, x, normalized=True):\n",
    "    \"\"\"numpy array to MP3\"\"\"\n",
    "    channels = 2 if (x.ndim == 2 and x.shape[1] == 2) else 1\n",
    "    if normalized:  # normalized array - each item should be a float in [-1, 1)\n",
    "        y = np.int16(x * 2 ** 15)\n",
    "    else:\n",
    "        y = np.int16(x)\n",
    "    song = pydub.AudioSegment(y.tobytes(), frame_rate=sr, sample_width=2, channels=channels)\n",
    "    song.export(f, format=\"mp3\", bitrate=\"320k\")\n",
    "\n",
    "# sr = (audio_array.shape[0]// resized_vid_arr.shape[0])*fps\n",
    "#write('test_audio_2.mp3', sr, audio)"
   ]
  },
  {
   "cell_type": "markdown",
   "metadata": {
    "id": "5Q8jot63w2ZZ"
   },
   "source": [
    "*training loop from cs189 hw*"
   ]
  },
  {
   "cell_type": "code",
   "execution_count": 15,
   "metadata": {
    "executionInfo": {
     "elapsed": 620,
     "status": "ok",
     "timestamp": 1683237484501,
     "user": {
      "displayName": "Jackson Wagner",
      "userId": "13678973550726092608"
     },
     "user_tz": 420
    },
    "id": "MkAHFi0HxVso"
   },
   "outputs": [],
   "source": [
    "import numpy as np\n",
    "import matplotlib.pyplot as plt\n",
    "%matplotlib inline\n",
    "\n",
    "import torch\n",
    "import torch.nn as nn\n",
    "import torch.nn.functional as F\n",
    "from torchvision import datasets, transforms\n",
    "from torch.utils.data import Dataset, DataLoader\n",
    "import gc"
   ]
  },
  {
   "cell_type": "code",
   "execution_count": 16,
   "metadata": {
    "executionInfo": {
     "elapsed": 3,
     "status": "ok",
     "timestamp": 1683237484501,
     "user": {
      "displayName": "Jackson Wagner",
      "userId": "13678973550726092608"
     },
     "user_tz": 420
    },
    "id": "E2TzvSjoxnJz"
   },
   "outputs": [],
   "source": [
    "class VideoAudioDataset(Dataset):\n",
    "    def __init__(self, video_frames, audio_frames, num_frames):\n",
    "        self.video_frames = torch.tensor(video_frames, dtype=torch.float32).permute(0,3,2,1) # Permute to (N, C, H, W)\n",
    "        self.aud_per_frame = audio_frames.shape[0]// (video_frames.shape[0])\n",
    "        clip_amount = audio_frames.shape[0] % self.aud_per_frame\n",
    "        self.audio_frames = torch.tensor(audio_frames[:-clip_amount], dtype=torch.float32).reshape(-1, self.aud_per_frame,audio_frames.shape[1]).permute(0,2,1) # Permute to (N, C, A)\n",
    "        print(self.audio_frames.shape)\n",
    "        self.num_frames = num_frames\n",
    "\n",
    "    def __len__(self):\n",
    "        return len(self.video_frames)\n",
    "\n",
    "    def __getitem__(self, idx):\n",
    "        idx += 1\n",
    "        if idx < self.num_frames:\n",
    "          num_zeros_needed = self.num_frames - idx\n",
    "          vid_zeros = torch.zeros(num_zeros_needed, *self.video_frames[0].shape)\n",
    "          aud_zeros = torch.zeros(num_zeros_needed, *self.audio_frames[0].shape)\n",
    "          vid = torch.vstack((vid_zeros, self.video_frames[0:idx])).transpose(0,1)\n",
    "          aud = torch.vstack((aud_zeros, self.audio_frames[0:idx])).transpose(0,1).reshape(2,-1).transpose(0,1)\n",
    "          #print(\"aud_shape:\", aud.shape, \"reshaped:\", torch.vstack((aud_zeros, self.audio_frames[0:idx])).transpose(0,1).shape)\n",
    "          return (vid, aud)\n",
    "        #vid shape example torch.Size([32, 3, 10, 36, 64])\n",
    "        # aud shape example torch.Size([32, 2, 14710])\n",
    "        vid = self.video_frames[idx-self.num_frames:idx].transpose(0,1)\n",
    "        aud = self.audio_frames[idx-self.num_frames: (idx)].transpose(0,1).reshape(2,-1).transpose(0,1)\n",
    "        #print(\"aud_shape:\", aud.shape)\n",
    "        # print('idx = ', idx, ' aud.size = ', aud.shape)\n",
    "        return (vid, aud)"
   ]
  },
  {
   "cell_type": "markdown",
   "metadata": {
    "id": "qBlme3Oac8xI"
   },
   "source": [
    "https://github.com/antecessor/Wavenet << source!"
   ]
  },
  {
   "cell_type": "code",
   "execution_count": 17,
   "metadata": {
    "executionInfo": {
     "elapsed": 2,
     "status": "ok",
     "timestamp": 1683237484501,
     "user": {
      "displayName": "Jackson Wagner",
      "userId": "13678973550726092608"
     },
     "user_tz": 420
    },
    "id": "UfWN3pHBlP5V"
   },
   "outputs": [],
   "source": [
    "class AudConvEmbedding(nn.Module):\n",
    "  def __init__(self, in_channels, output_dim):\n",
    "    super(AudConvEmbedding, self).__init__()\n",
    "    self.conv_layers = nn.Sequential(\n",
    "        nn.Conv1d(in_channels = 2, out_channels = 2, kernel_size = 5, stride = 2),\n",
    "        nn.LayerNorm(7353),\n",
    "        nn.Conv1d(in_channels = 2, out_channels = 2, kernel_size = 5, stride = 2),\n",
    "        nn.LayerNorm(3675),\n",
    "        nn.Conv1d(in_channels = 2, out_channels = 2, kernel_size = 5, stride = 2),\n",
    "        nn.LayerNorm(1836),\n",
    "        nn.Conv1d(in_channels = 2, out_channels = 2, kernel_size = 5, stride = 2),\n",
    "        nn.LayerNorm(916),\n",
    "        nn.Conv1d(in_channels = 2, out_channels = 2, kernel_size = 5, stride = 2),\n",
    "        nn.LayerNorm(456),\n",
    "        nn.Linear(456, output_dim)\n",
    "    )\n",
    "  \n",
    "  def forward(self, x):\n",
    "    return self.conv_layers(x)"
   ]
  },
  {
   "cell_type": "code",
   "execution_count": 18,
   "metadata": {
    "executionInfo": {
     "elapsed": 1,
     "status": "ok",
     "timestamp": 1683237538333,
     "user": {
      "displayName": "Jackson Wagner",
      "userId": "13678973550726092608"
     },
     "user_tz": 420
    },
    "id": "HQcJkvjArLHd"
   },
   "outputs": [],
   "source": [
    "class MultiheadAttention(nn.Module):\n",
    "\n",
    "    def __init__(self, input_dim, embed_dim, num_heads, dropout):\n",
    "        super().__init__()\n",
    "        assert embed_dim % num_heads == 0, \"Embedding dimension must be 0 modulo number of heads.\"\n",
    "\n",
    "        self.embed_dim = embed_dim\n",
    "        self.num_heads = num_heads\n",
    "        self.head_dim = embed_dim // num_heads\n",
    "\n",
    "        self.dropout = nn.Dropout(dropout)\n",
    "\n",
    "        # Stack all weight matrices 1...h together for efficiency\n",
    "        # Note that in many implementations you see \"bias=False\" which is optional\n",
    "        self.qkv_proj = nn.Linear(input_dim, 3*embed_dim)\n",
    "        self.o_proj = nn.Linear(embed_dim, input_dim)\n",
    "\n",
    "        self._reset_parameters()\n",
    "\n",
    "    def _reset_parameters(self):\n",
    "        # Original Transformer initialization, see PyTorch documentation\n",
    "        nn.init.xavier_uniform_(self.qkv_proj.weight)\n",
    "        self.qkv_proj.bias.data.fill_(0)\n",
    "        nn.init.xavier_uniform_(self.o_proj.weight)\n",
    "        self.o_proj.bias.data.fill_(0)\n",
    "\n",
    "    def scaled_dot_product(self, q, k, v, mask=None):\n",
    "        d_k = q.size()[-1]\n",
    "        attn_logits = torch.matmul(q, k.transpose(-2, -1))\n",
    "        attn_logits = attn_logits / np.sqrt(d_k)\n",
    "        if mask is not None:\n",
    "            attn_logits = attn_logits.masked_fill(mask == 0, -9e15)\n",
    "        attention = F.softmax(attn_logits, dim=-1)\n",
    "        attention = self.dropout(attention)\n",
    "        values = torch.matmul(attention, v)\n",
    "        return values, attention\n",
    "\n",
    "    def forward(self, x, mask=None, return_attention=False):\n",
    "        batch_size, seq_length, _ = x.size()\n",
    "        qkv = self.qkv_proj(x)\n",
    "\n",
    "        # Separate Q, K, V from linear output\n",
    "        qkv = qkv.reshape(batch_size, seq_length, self.num_heads, 3*self.head_dim)\n",
    "        qkv = qkv.permute(0, 2, 1, 3) # [Batch, Head, SeqLen, Dims]\n",
    "        q, k, v = qkv.chunk(3, dim=-1)\n",
    "        #print(q.shape, k.shape, v.shape)\n",
    "        # Determine value outputs\n",
    "        values, attention = self.scaled_dot_product(q, k, v, mask=mask)\n",
    "        values = values.permute(0, 2, 1, 3) # [Batch, SeqLen, Head, Dims]\n",
    "        #print(values.shape)\n",
    "        values = values.reshape(batch_size, seq_length, self.embed_dim)\n",
    "        o = self.o_proj(values)\n",
    "\n",
    "        if return_attention:\n",
    "            return o, attention\n",
    "        else:\n",
    "            return o"
   ]
  },
  {
   "cell_type": "code",
   "execution_count": 19,
   "metadata": {
    "executionInfo": {
     "elapsed": 1,
     "status": "ok",
     "timestamp": 1683237538333,
     "user": {
      "displayName": "Jackson Wagner",
      "userId": "13678973550726092608"
     },
     "user_tz": 420
    },
    "id": "QYSe-ZnNdr9Y"
   },
   "outputs": [],
   "source": [
    "class AddPosEncoding(nn.Module):\n",
    "  def __init__(self, d_model = 256, input_dropout = 0.1, timing_dropout = 0.1, max_len = 512):\n",
    "    super(AddPosEncoding, self).__init__()\n",
    "    self.d_model = d_model\n",
    "    self.input_dropout = input_dropout\n",
    "    self.timing_dropout = timing_dropout\n",
    "    self.max_len = max_len\n",
    "\n",
    "    self.timing_table = nn.Parameter(torch.FloatTensor(max_len, d_model))\n",
    "    nn.init.normal_(self.timing_table)\n",
    "    self.input_dropout = nn.Dropout(input_dropout)\n",
    "    self.timing_dropout = nn.Dropout(self.timing_dropout)\n",
    "\n",
    "  \n",
    "  def forward(self,x):\n",
    "    x = self.input_dropout(x)\n",
    "    timing = self.timing_table[None, :x.shape[1], :]\n",
    "    timing = self.timing_dropout(timing)\n",
    "    return x + timing \n",
    "\n"
   ]
  },
  {
   "cell_type": "code",
   "execution_count": 20,
   "metadata": {},
   "outputs": [],
   "source": [
    "class GLUTanh(nn.Module):\n",
    "    def __init__(self, input_size, output_size):\n",
    "        super(GLUTanh, self).__init__()\n",
    "        self.glu = nn.GLU(dim=-1)\n",
    "        self.linear = nn.Linear(input_size // 2, output_size)\n",
    "\n",
    "    def forward(self, x):\n",
    "        x = self.glu(x)\n",
    "        x = self.linear(x)\n",
    "        x = torch.tanh(x)\n",
    "        return x"
   ]
  },
  {
   "cell_type": "code",
   "execution_count": 21,
   "metadata": {
    "executionInfo": {
     "elapsed": 1,
     "status": "ok",
     "timestamp": 1683237538935,
     "user": {
      "displayName": "Jackson Wagner",
      "userId": "13678973550726092608"
     },
     "user_tz": 420
    },
    "id": "0tYyj_yXc1mE"
   },
   "outputs": [],
   "source": [
    "class AudTransformer(nn.Module):\n",
    "  def __init__(self, in_channels, out_channels, hidden_dims = 256, seq_len = 100, dim_ff = 1024, n_layers = 3, n_head = 8, d_qkv = 64, dropout = 0.1):\n",
    "        super(AudTransformer, self).__init__()\n",
    "        self.in_channels = in_channels\n",
    "        self.out_channels = out_channels\n",
    "        self.hidden_dims = hidden_dims\n",
    "        self.dim_ff = dim_ff\n",
    "        self.n_layers = n_layers\n",
    "        self.n_head = n_head\n",
    "        self.d_qkv = d_qkv\n",
    "        self.dropout = dropout\n",
    "\n",
    "        self.mha_list = nn.ModuleList()\n",
    "        self.mha_norms = nn.ModuleList()\n",
    "        self.pff_list = nn.ModuleList()\n",
    "        self.pff_norms = nn.ModuleList()\n",
    "\n",
    "        #self.output_norm = nn.LayerNorm(hidden_dims)\n",
    "        #self.linear = nn.Linear(self.hidden_dims, 2)\n",
    "        #self.tanh = nn.Tanh()\n",
    "\n",
    "        self.add_timing = AddPosEncoding(hidden_dims, max_len = seq_len)\n",
    "\n",
    "        #self.embedding = AudConvEmbedding(2, self.hidden_dims)\n",
    "        self.embedding2 = nn.Linear(2, self.hidden_dims)\n",
    "        #self.output_proj = nn.Conv1d(in_channels = seq_len, out_channels = 1, kernel_size = 1, stride = 1)\n",
    "\n",
    "        self.output_proj = nn.Sequential(\n",
    "            nn.LayerNorm(hidden_dims),\n",
    "            nn.Conv1d(in_channels = seq_len, out_channels = 2, kernel_size = 1, stride = 1),\n",
    "            nn.Linear(self.hidden_dims, 1024),\n",
    "            nn.GLU(),\n",
    "            nn.Linear(512, 256),\n",
    "        )\n",
    "        \n",
    "\n",
    "        for _ in range(n_layers):\n",
    "          self.mha_list.append(MultiheadAttention(self.hidden_dims, self.d_qkv, self.n_head, self.dropout))\n",
    "          self.mha_norms.append(nn.LayerNorm(hidden_dims))\n",
    "          self.pff_list.append(nn.Sequential(\n",
    "                              nn.Linear(hidden_dims, dim_ff),\n",
    "                              nn.ReLU(),\n",
    "                              nn.Linear(dim_ff, hidden_dims),\n",
    "                              nn.Dropout(self.dropout)\n",
    "                              ))\n",
    "          self.pff_norms.append(nn.LayerNorm(hidden_dims))\n",
    "\n",
    "  def forward(self, x):\n",
    "    #print(\"tf:\", x.shape)\n",
    "    #x = self.embedding(x).transpose(2,1)\n",
    "    x = self.embedding2(x)\n",
    "    x = x + self.add_timing(x)\n",
    "    #print(\"tf emb:\", x.shape)\n",
    "    for i in range(self.n_layers):\n",
    "      x_norm = self.mha_norms[i](x)\n",
    "      #print('x_norm.shape', x_norm.shape)\n",
    "      att_out = self.mha_list[i](x)\n",
    "      #print(att_out.shape)\n",
    "      x = x_norm + att_out\n",
    "      x_norm = self.pff_norms[i](x)\n",
    "      ff_out = self.pff_list[i](x_norm)\n",
    "      x = x_norm + ff_out\n",
    "      #print(\"tf layer:\", i, x.shape)\n",
    "    \n",
    "    #x = self.output_norm(x)\n",
    "    #print(\"tf:\", x.shape)\n",
    "    #x = self.linear(x)\n",
    "    x = self.output_proj(x)\n",
    "    #print(\"tf:\", x.shape)\n",
    "    #print(\"tf:\", x.shape)\n",
    "    return x\n"
   ]
  },
  {
   "cell_type": "code",
   "execution_count": 22,
   "metadata": {
    "executionInfo": {
     "elapsed": 2,
     "status": "ok",
     "timestamp": 1683237539153,
     "user": {
      "displayName": "Jackson Wagner",
      "userId": "13678973550726092608"
     },
     "user_tz": 420
    },
    "id": "uHtt4x660lxE"
   },
   "outputs": [],
   "source": [
    "class VidToAudFusion(nn.Module):\n",
    "    def __init__(self, audio_dim, video_dims, audio_channels, vid_channels, dropout_prob=0.1, num_frames=10):\n",
    "        super(VidToAudFusion, self).__init__()\n",
    "        self.dim_proj1 = nn.Linear(video_dims[0] * video_dims[1], 200)\n",
    "        self.dim_proj2 = nn.Linear(200 * num_frames, (audio_dim) - 1)\n",
    "        self.audio_dim = audio_dim\n",
    "        self.video_dims = video_dims\n",
    "        self.vid_channels = vid_channels\n",
    "\n",
    "        if audio_channels == vid_channels:\n",
    "            self.channel_projection = nn.Identity()\n",
    "        else:\n",
    "            self.channel_projection = nn.Sequential(\n",
    "                nn.Conv2d(vid_channels, audio_channels, kernel_size=1, stride=1, bias=True),\n",
    "            )\n",
    "        self.channel_projection2 = nn.Sequential(\n",
    "                nn.Conv1d(num_frames, 2, kernel_size=1, stride=1, bias=True),\n",
    "            )\n",
    "            \n",
    "    def forward(self, x):\n",
    "      #x = x.reshape(x.shape[0], x.shape[1], x.shape[2], -1)\n",
    "      #print(\"vid to aud:\", x.shape)\n",
    "      audio_proj = torch.flatten(x, start_dim=3)\n",
    "      #print(\"vid to aud:\", x.shape)\n",
    "      #print(audio_proj.shape)  \n",
    "      audio_proj = self.dim_proj1(audio_proj)\n",
    "      #print(\"vid to aud:\", audio_proj.shape)\n",
    "      #print(audio_proj.shape)\n",
    "      audio_proj = self.channel_projection(audio_proj).squeeze(2)\n",
    "      #print(\"vid to aud:\", audio_proj.shape)\n",
    "      #audio_proj = self.channel_projection2(audio_proj)\n",
    "      audio_proj = audio_proj.reshape(audio_proj.shape[0], -1)\n",
    "      #print(\"vid to aud:\", audio_proj.shape)\n",
    "      audio_proj = self.dim_proj2(audio_proj)\n",
    "      #print(\"vid to aud:\", audio_proj.shape)\n",
    "      #print(audio_proj.shape)\n",
    "      return audio_proj"
   ]
  },
  {
   "cell_type": "code",
   "execution_count": 23,
   "metadata": {
    "executionInfo": {
     "elapsed": 2,
     "status": "ok",
     "timestamp": 1683237539153,
     "user": {
      "displayName": "Jackson Wagner",
      "userId": "13678973550726092608"
     },
     "user_tz": 420
    },
    "id": "zXf3OZlZyA8M"
   },
   "outputs": [],
   "source": [
    "class ConvResBlock3D(nn.Module):\n",
    "    def __init__(self, in_channels, out_channels, dropout_prob=0.1, stride=1, kernel_size=3, padding=1):\n",
    "        super(ConvResBlock3D, self).__init__()\n",
    "        self.conv1 = nn.Conv3d(in_channels, out_channels, kernel_size=kernel_size, stride=stride, padding=padding, bias=True)\n",
    "        self.norm1 = nn.BatchNorm3d(out_channels)\n",
    "        self.relu = nn.ReLU()\n",
    "        self.dropout = nn.Dropout(p=dropout_prob)\n",
    "        self.conv2 = nn.Conv3d(out_channels, out_channels, kernel_size=kernel_size, stride=1, padding=padding, bias=True)\n",
    "        self.norm2 = nn.BatchNorm3d(out_channels)\n",
    "        self.stride = stride\n",
    "        \n",
    "        if in_channels == out_channels:\n",
    "            self.skip_connection = nn.Identity()\n",
    "        else:\n",
    "            self.skip_connection = nn.Sequential(\n",
    "                nn.Conv3d(in_channels, out_channels, kernel_size=1, stride=stride, bias=True),\n",
    "                nn.BatchNorm3d(out_channels)\n",
    "            )\n",
    "            \n",
    "    def forward(self, x):\n",
    "        residual = self.skip_connection(x)\n",
    "        \n",
    "        out = self.conv1(x)\n",
    "        out = self.norm1(out)\n",
    "        out = self.relu(out)\n",
    "        out = self.dropout(out)\n",
    "        \n",
    "        out = self.conv2(out)\n",
    "        out = self.norm2(out)\n",
    "        out = self.dropout(out)\n",
    "        \n",
    "        out = self.relu(out)\n",
    "        out = out + residual\n",
    "\n",
    "        return out\n",
    "\n",
    "class ConvResBlock2D(nn.Module):\n",
    "    def __init__(self, in_channels, out_channels, dropout_prob=0.1, stride=1, kernel_size=3, padding=1):\n",
    "        super(ConvResBlock2D, self).__init__()\n",
    "        self.conv1 = nn.Conv2d(in_channels, out_channels, kernel_size=kernel_size, stride=stride, padding=padding, bias=True)\n",
    "        self.norm1 = nn.BatchNorm2d(out_channels)\n",
    "        self.relu = nn.ReLU()\n",
    "        self.dropout = nn.Dropout(p=dropout_prob)\n",
    "        self.conv2 = nn.Conv2d(out_channels, out_channels, kernel_size=kernel_size, stride=1, padding=padding, bias=True)\n",
    "        self.norm2 = nn.BatchNorm2d(out_channels)\n",
    "        self.stride = stride\n",
    "        \n",
    "        if in_channels == out_channels:\n",
    "            self.skip_connection = nn.Identity()\n",
    "        else:\n",
    "            self.skip_connection = nn.Sequential(\n",
    "                nn.Conv2d(in_channels, out_channels, kernel_size=1, stride=stride, bias=True),\n",
    "                nn.BatchNorm2d(out_channels)\n",
    "            )\n",
    "            \n",
    "    def forward(self, x):\n",
    "        residual = self.skip_connection(x)\n",
    "        \n",
    "        out = self.conv1(x)\n",
    "        out = self.norm1(out)\n",
    "        out = self.relu(out)\n",
    "        out = self.dropout(out)\n",
    "        \n",
    "        out = self.conv2(out)\n",
    "        out = self.norm2(out)\n",
    "        out = self.dropout(out)\n",
    "        \n",
    "        out = self.relu(out)\n",
    "        out = out + residual\n",
    "\n",
    "        return out"
   ]
  },
  {
   "cell_type": "code",
   "execution_count": 24,
   "metadata": {
    "executionInfo": {
     "elapsed": 2,
     "status": "ok",
     "timestamp": 1683237539153,
     "user": {
      "displayName": "Jackson Wagner",
      "userId": "13678973550726092608"
     },
     "user_tz": 420
    },
    "id": "Ue7zYZltyIe4"
   },
   "outputs": [],
   "source": [
    "### combines video into audio input vector and then passes through wavenet\n",
    "\n",
    "class AttAudVideoNet(nn.Module):\n",
    "    def __init__(self,audio_input_shape, video_input_shape,in_channels=2,out_channels=2, seq_len=1470, num_frames=5): ## NEED TO DEBUG THESE hyperperams 4.29\n",
    "        super().__init__()\n",
    "        self.transformer=AudTransformer(in_channels, out_channels, hidden_dims = 256, seq_len = seq_len, dim_ff = 1024, n_layers = 5, n_head = 8, d_qkv = 64, dropout = 0.1) \n",
    "        #self.activation = GLUTanh(4,2)\n",
    "        self.activation = nn.Softmax(dim=2)\n",
    "        self.vid_convs = nn.ModuleList([\n",
    "            ConvResBlock3D(3, 128),\n",
    "            ConvResBlock3D(128, 256),\n",
    "            ConvResBlock3D(256, 64),\n",
    "            ConvResBlock3D(64, 8)\n",
    "        ])\n",
    "        self.audio_input_shape = audio_input_shape\n",
    "        self.video_input_shape = video_input_shape\n",
    "        vid_dims_list = self.get_video_dims(video_input_shape)\n",
    "        self.vid_to_aud = VidToAudFusion(self.audio_input_shape[-1], vid_dims_list[2], 1, 8, num_frames=num_frames)\n",
    "        \n",
    "        #self.output_lin = nn.Linear(256*in_channels, out_channels)\n",
    "\n",
    "    def get_video_dims(self, video_input_shape):\n",
    "        shape_list = []\n",
    "        test_data = torch.ones(video_input_shape)\n",
    "        out = self.vid_convs[0](test_data)\n",
    "        shape_list.append((out.shape[-2],out.shape[-1]))\n",
    "        for layer in self.vid_convs[1:]:\n",
    "            out = layer(out)\n",
    "            shape_list.append((out.shape[-2],out.shape[-1]))\n",
    "        return shape_list\n",
    "\n",
    "    def forward(self,vid, aud):\n",
    "        #print(vid.shape, aud.shape)\n",
    "        for i in range(len(self.vid_convs)):\n",
    "          vid = self.vid_convs[i](vid)\n",
    "        #print(vid.shape)\n",
    "        vid_to_aud = self.vid_to_aud(vid)\n",
    "        #print(vid_to_aud.shape, aud.shape)\n",
    "        #print(vid_to_aud.shape, aud.shape)\n",
    "        aud = aud + vid_to_aud.unsqueeze(2)\n",
    "        aud=self.transformer(aud)\n",
    "        #print(aud.shape)\n",
    "        #aud=aud.reshape(aud.shape[0], -1)\n",
    "        #aud = self.output_lin(aud)\n",
    "        #print('output shape = ', aud.shape)\n",
    "        return self.activation(aud)\n",
    "\n"
   ]
  },
  {
   "cell_type": "code",
   "execution_count": 25,
   "metadata": {
    "colab": {
     "base_uri": "https://localhost:8080/"
    },
    "executionInfo": {
     "elapsed": 2,
     "status": "ok",
     "timestamp": 1683237539153,
     "user": {
      "displayName": "Jackson Wagner",
      "userId": "13678973550726092608"
     },
     "user_tz": 420
    },
    "id": "N8JUAOeGGFnG",
    "outputId": "28b9d3b9-3c55-43f1-b32a-85f540449425"
   },
   "outputs": [
    {
     "name": "stdout",
     "output_type": "stream",
     "text": [
      "(18547, 64, 36, 3) 128196864\n",
      "11139480\n"
     ]
    }
   ],
   "source": [
    "print(resized_vid_arr.shape, resized_vid_arr.size)\n",
    "print(audio_array.size)"
   ]
  },
  {
   "cell_type": "code",
   "execution_count": 26,
   "metadata": {
    "colab": {
     "base_uri": "https://localhost:8080/"
    },
    "executionInfo": {
     "elapsed": 297,
     "status": "ok",
     "timestamp": 1683237539810,
     "user": {
      "displayName": "Jackson Wagner",
      "userId": "13678973550726092608"
     },
     "user_tz": 420
    },
    "id": "Bs_v_OsGl5gC",
    "outputId": "29520eaa-b87e-4f16-bffd-ca0d3ce666f7"
   },
   "outputs": [
    {
     "name": "stdout",
     "output_type": "stream",
     "text": [
      "torch.Size([14852, 2, 300])\n",
      "torch.Size([3713, 2, 300])\n"
     ]
    }
   ],
   "source": [
    "num_frames = 5\n",
    "train_data = VideoAudioDataset(resized_vid_arr[:int(len(resized_vid_arr)*0.8)], audio_array[:int(len(audio_array)*0.8)], num_frames = num_frames)\n",
    "valid_data = VideoAudioDataset(resized_vid_arr[int(len(resized_vid_arr)*0.8):], audio_array[int(len(audio_array)*0.8):], num_frames = num_frames)\n",
    "train_loader = DataLoader(train_data, batch_size=16, shuffle=True)\n",
    "valid_loader = DataLoader(valid_data, batch_size=32, shuffle=True)"
   ]
  },
  {
   "cell_type": "code",
   "execution_count": 27,
   "metadata": {
    "colab": {
     "base_uri": "https://localhost:8080/"
    },
    "executionInfo": {
     "elapsed": 5,
     "status": "ok",
     "timestamp": 1683237541414,
     "user": {
      "displayName": "Jackson Wagner",
      "userId": "13678973550726092608"
     },
     "user_tz": 420
    },
    "id": "3flVTs2Q0n2e",
    "outputId": "74a7d44f-010c-4644-b20f-ff5fdbcc8fdb"
   },
   "outputs": [
    {
     "name": "stdout",
     "output_type": "stream",
     "text": [
      "torch.Size([16, 3, 5, 36, 64])\n",
      "torch.Size([16, 1500, 2])\n"
     ]
    }
   ],
   "source": [
    "for x in train_loader:\n",
    "  print(x[0].shape)\n",
    "  print(x[1].shape)\n",
    "  break\n",
    "  \n",
    "count = 0\n",
    "# for x in valid_loader:\n",
    "#   count += 1\n",
    "#   if count == 10:\n",
    "#     print(x[0].shape)\n",
    "#     print(x[1].shape)\n",
    "#     break"
   ]
  },
  {
   "cell_type": "code",
   "execution_count": 28,
   "metadata": {},
   "outputs": [
    {
     "name": "stdout",
     "output_type": "stream",
     "text": [
      "(256,)\n",
      "[-0.9921875 -0.984375  -0.9765625 -0.96875   -0.9609375 -0.953125\n",
      " -0.9453125 -0.9375    -0.9296875 -0.921875  -0.9140625 -0.90625\n",
      " -0.8984375 -0.890625  -0.8828125 -0.875     -0.8671875 -0.859375\n",
      " -0.8515625 -0.84375   -0.8359375 -0.828125  -0.8203125 -0.8125\n",
      " -0.8046875 -0.796875  -0.7890625 -0.78125   -0.7734375 -0.765625\n",
      " -0.7578125 -0.75      -0.7421875 -0.734375  -0.7265625 -0.71875\n",
      " -0.7109375 -0.703125  -0.6953125 -0.6875    -0.6796875 -0.671875\n",
      " -0.6640625 -0.65625   -0.6484375 -0.640625  -0.6328125 -0.625\n",
      " -0.6171875 -0.609375  -0.6015625 -0.59375   -0.5859375 -0.578125\n",
      " -0.5703125 -0.5625    -0.5546875 -0.546875  -0.5390625 -0.53125\n",
      " -0.5234375 -0.515625  -0.5078125 -0.5       -0.4921875 -0.484375\n",
      " -0.4765625 -0.46875   -0.4609375 -0.453125  -0.4453125 -0.4375\n",
      " -0.4296875 -0.421875  -0.4140625 -0.40625   -0.3984375 -0.390625\n",
      " -0.3828125 -0.375     -0.3671875 -0.359375  -0.3515625 -0.34375\n",
      " -0.3359375 -0.328125  -0.3203125 -0.3125    -0.3046875 -0.296875\n",
      " -0.2890625 -0.28125   -0.2734375 -0.265625  -0.2578125 -0.25\n",
      " -0.2421875 -0.234375  -0.2265625 -0.21875   -0.2109375 -0.203125\n",
      " -0.1953125 -0.1875    -0.1796875 -0.171875  -0.1640625 -0.15625\n",
      " -0.1484375 -0.140625  -0.1328125 -0.125     -0.1171875 -0.109375\n",
      " -0.1015625 -0.09375   -0.0859375 -0.078125  -0.0703125 -0.0625\n",
      " -0.0546875 -0.046875  -0.0390625 -0.03125   -0.0234375 -0.015625\n",
      " -0.0078125  0.         0.0078125  0.015625   0.0234375  0.03125\n",
      "  0.0390625  0.046875   0.0546875  0.0625     0.0703125  0.078125\n",
      "  0.0859375  0.09375    0.1015625  0.109375   0.1171875  0.125\n",
      "  0.1328125  0.140625   0.1484375  0.15625    0.1640625  0.171875\n",
      "  0.1796875  0.1875     0.1953125  0.203125   0.2109375  0.21875\n",
      "  0.2265625  0.234375   0.2421875  0.25       0.2578125  0.265625\n",
      "  0.2734375  0.28125    0.2890625  0.296875   0.3046875  0.3125\n",
      "  0.3203125  0.328125   0.3359375  0.34375    0.3515625  0.359375\n",
      "  0.3671875  0.375      0.3828125  0.390625   0.3984375  0.40625\n",
      "  0.4140625  0.421875   0.4296875  0.4375     0.4453125  0.453125\n",
      "  0.4609375  0.46875    0.4765625  0.484375   0.4921875  0.5\n",
      "  0.5078125  0.515625   0.5234375  0.53125    0.5390625  0.546875\n",
      "  0.5546875  0.5625     0.5703125  0.578125   0.5859375  0.59375\n",
      "  0.6015625  0.609375   0.6171875  0.625      0.6328125  0.640625\n",
      "  0.6484375  0.65625    0.6640625  0.671875   0.6796875  0.6875\n",
      "  0.6953125  0.703125   0.7109375  0.71875    0.7265625  0.734375\n",
      "  0.7421875  0.75       0.7578125  0.765625   0.7734375  0.78125\n",
      "  0.7890625  0.796875   0.8046875  0.8125     0.8203125  0.828125\n",
      "  0.8359375  0.84375    0.8515625  0.859375   0.8671875  0.875\n",
      "  0.8828125  0.890625   0.8984375  0.90625    0.9140625  0.921875\n",
      "  0.9296875  0.9375     0.9453125  0.953125   0.9609375  0.96875\n",
      "  0.9765625  0.984375   0.9921875  1.       ]\n"
     ]
    }
   ],
   "source": [
    "step_size = 2/256\n",
    "test = np.arange(-1,1,step_size) + step_size\n",
    "print(test.shape)\n",
    "print(test)"
   ]
  },
  {
   "cell_type": "code",
   "execution_count": 29,
   "metadata": {},
   "outputs": [
    {
     "name": "stdout",
     "output_type": "stream",
     "text": [
      "[[ 0.61538247]\n",
      " [-0.55269147]\n",
      " [ 0.70479517]\n",
      " [ 0.96814845]\n",
      " [ 0.04396678]\n",
      " [ 0.42740758]\n",
      " [-0.53049681]\n",
      " [-0.52506866]\n",
      " [ 0.0415665 ]\n",
      " [-0.45119573]] (10, 1)\n"
     ]
    }
   ],
   "source": [
    "rand = np.random.uniform(-1,1, size=10).reshape(-1,1)\n",
    "print(rand, rand.shape)"
   ]
  },
  {
   "cell_type": "code",
   "execution_count": 30,
   "metadata": {},
   "outputs": [],
   "source": [
    "# In order to be assigned bucket [i], the value must be geq than i -1 and less than i\n",
    "tttt = np.array([-1.0001, -1, -.999, -.99, -.98, .99, .999, 1, 1.00001])"
   ]
  },
  {
   "cell_type": "code",
   "execution_count": 31,
   "metadata": {},
   "outputs": [
    {
     "data": {
      "text/plain": [
       "array([  0,   0,   0,   1,   2, 254, 255, 256, 256])"
      ]
     },
     "execution_count": 31,
     "metadata": {},
     "output_type": "execute_result"
    }
   ],
   "source": [
    "np.digitize(tttt, test)"
   ]
  },
  {
   "cell_type": "code",
   "execution_count": 32,
   "metadata": {},
   "outputs": [
    {
     "data": {
      "text/plain": [
       "array([[206],\n",
       "       [ 57],\n",
       "       [218],\n",
       "       [251],\n",
       "       [133],\n",
       "       [182],\n",
       "       [ 60],\n",
       "       [ 60],\n",
       "       [133],\n",
       "       [ 70]])"
      ]
     },
     "execution_count": 32,
     "metadata": {},
     "output_type": "execute_result"
    }
   ],
   "source": [
    "np.digitize(rand, test)"
   ]
  },
  {
   "cell_type": "code",
   "execution_count": 33,
   "metadata": {},
   "outputs": [
    {
     "name": "stdout",
     "output_type": "stream",
     "text": [
      "[  0   0   1   1   2   2   3   3   4   4   5   5   6   6   7   7   8   8\n",
      "   9   9  10  10  11  11  12  12  13  13  14  14  15  15  16  16  17  17\n",
      "  18  18  19  19  20  20  21  21  22  22  23  23  24  24  25  25  26  26\n",
      "  27  27  28  28  29  29  30  30  31  31  32  32  33  33  34  34  35  35\n",
      "  36  36  37  37  38  38  39  39  40  40  41  41  42  42  43  43  44  44\n",
      "  45  45  46  46  47  47  48  48  49  49  50  50  51  51  52  52  53  53\n",
      "  54  54  55  55  56  56  57  57  58  58  59  59  60  60  61  61  62  62\n",
      "  63  63  64  64  65  65  66  66  67  67  68  68  69  69  70  70  71  71\n",
      "  72  72  73  73  74  74  75  75  76  76  77  77  78  78  79  79  80  80\n",
      "  81  81  82  82  83  83  84  84  85  85  86  86  87  87  88  88  89  89\n",
      "  90  90  91  91  92  92  93  93  94  94  95  95  96  96  97  97  98  98\n",
      "  99  99 100 100 101 101 102 102 103 103 104 104 105 105 106 106 107 107\n",
      " 108 108 109 109 110 110 111 111 112 112 113 113 114 114 115 115 116 116\n",
      " 117 117 118 118 119 119 120 120 121 121 122 122 123 123 124 124 125 125\n",
      " 126 126 127 127 128 128 129 129 130 130 131 131 132 132 133 133 134 134\n",
      " 135 135 136 136 137 137 138 138 139 139 140 140 141 141 142 142 143 143\n",
      " 144 144 145 145 146 146 147 147 148 148 149 149 150 150 151 151 152 152\n",
      " 153 153 154 154 155 155 156 156 157 157 158 158 159 159 160 160 161 161\n",
      " 162 162 163 163 164 164 165 165 166 166 167 167 168 168 169 169 170 170\n",
      " 171 171 172 172 173 173 174 174 175 175 176 176 177 177 178 178 179 179\n",
      " 180 180 181 181 182 182 183 183 184 184 185 185 186 186 187 187 188 188\n",
      " 189 189 190 190 191 191 192 192 193 193 194 194 195 195 196 196 197 197\n",
      " 198 198 199 199 200 200 201 201 202 202 203 203 204 204 205 205 206 206\n",
      " 207 207 208 208 209 209 210 210 211 211 212 212 213 213 214 214 215 215\n",
      " 216 216 217 217 218 218 219 219 220 220 221 221 222 222 223 223 224 224\n",
      " 225 225 226 226 227 227 228 228 229 229 230 230 231 231 232 232 233 233\n",
      " 234 234 235 235 236 236 237 237 238 238 239 239 240 240 241 241 242 242\n",
      " 243 243 244 244 245 245 246 246 247 247 248 248 249 249 250 250 251 251\n",
      " 252 252 253 253 254 254 255 255]\n"
     ]
    }
   ],
   "source": [
    "# Quantization test\n",
    "test2 = np.arange(-1,1,1/256)\n",
    "print(np.digitize(test2, test))"
   ]
  },
  {
   "cell_type": "code",
   "execution_count": null,
   "metadata": {
    "colab": {
     "base_uri": "https://localhost:8080/",
     "height": 81,
     "referenced_widgets": [
      "73273624d3ec46539047695496cef11b",
      "bbada1e125ff429eae418bf609e3ea4c",
      "9f611faec9f24d7fb136eae0dcaf71cf",
      "9c643f04c1b741d1b57fa7b6b209c102",
      "fdbb2926241c4891885ef8a36ce7a130",
      "46105105d11e435dbc0db488c43fdf47",
      "675868afca70457aacba30a626a61b35",
      "cdfb1461201943b183377eefdb6772d6",
      "3b20e87dd300401b82d747d27ecbc039",
      "d226292202f1430cbdc602085458ad03",
      "acadf0fed9184df98a87485271518fdc",
      "bda87b78f0cd420bb99623ea2fa2759f",
      "66028dc242a24a6bbe5aae7d5aac4ee0",
      "b23a60ed465e45beb5cd4bad947d1270",
      "1599d35bd6844badaeedd1fef5d86877",
      "85c3ed4a97f2464e834d340cf7d43006",
      "a646b672a12442fab793b40b5f019547",
      "fad159c751df456285bc240fd603ff37",
      "919ddb8d374b4e92b57f750c0d019859",
      "1bf569533ba648e08eedf0b0a2a9cdf9",
      "347b450562614c51b1295c8bddd69ade",
      "2f60c766deac41baa3e771dc24800dd1"
     ]
    },
    "id": "cz9cYVhaa0vj",
    "outputId": "e081301b-d979-4824-de7a-0b4008a8aa27"
   },
   "outputs": [
    {
     "data": {
      "application/vnd.jupyter.widget-view+json": {
       "model_id": "d139374ea34441748ae9f129924ddf22",
       "version_major": 2,
       "version_minor": 0
      },
      "text/plain": [
       "Training: 0it [00:00, ?it/s]"
      ]
     },
     "metadata": {},
     "output_type": "display_data"
    },
    {
     "data": {
      "application/vnd.jupyter.widget-view+json": {
       "model_id": "6727b770253e41ff8da9499d98f6afea",
       "version_major": 2,
       "version_minor": 0
      },
      "text/plain": [
       "Validation: 0it [00:00, ?it/s]"
      ]
     },
     "metadata": {},
     "output_type": "display_data"
    },
    {
     "name": "stdout",
     "output_type": "stream",
     "text": [
      "[[ 0.28152466 -0.21252441]\n",
      " [-0.19137573 -0.24133301]\n",
      " [ 0.09222412 -0.04415894]]\n",
      "tensor([[[0.0030, 0.0050, 0.0060,  ..., 0.0037, 0.0039, 0.0054],\n",
      "         [0.0037, 0.0035, 0.0035,  ..., 0.0035, 0.0037, 0.0031]],\n",
      "\n",
      "        [[0.0031, 0.0052, 0.0057,  ..., 0.0036, 0.0041, 0.0053],\n",
      "         [0.0037, 0.0034, 0.0034,  ..., 0.0036, 0.0036, 0.0030]],\n",
      "\n",
      "        [[0.0033, 0.0051, 0.0058,  ..., 0.0034, 0.0040, 0.0054],\n",
      "         [0.0037, 0.0035, 0.0036,  ..., 0.0035, 0.0036, 0.0031]]],\n",
      "       device='cuda:0')\n",
      "tensor([[164, 100],\n",
      "        [103,  97],\n",
      "        [139, 122]], device='cuda:0')\n",
      "tensor([[197,  47],\n",
      "        [  2,  23],\n",
      "        [ 52,  47]], device='cuda:0')\n",
      "loss for step 0 : 5.593390369415284\n",
      "epoch 0\n"
     ]
    },
    {
     "data": {
      "application/vnd.jupyter.widget-view+json": {
       "model_id": "98b85c032aa142c4941f712978fa9f6f",
       "version_major": 2,
       "version_minor": 0
      },
      "text/plain": [
       "Training: 0it [00:00, ?it/s]"
      ]
     },
     "metadata": {},
     "output_type": "display_data"
    },
    {
     "data": {
      "application/vnd.jupyter.widget-view+json": {
       "model_id": "170e4763288d4254a37fb12c53d80243",
       "version_major": 2,
       "version_minor": 0
      },
      "text/plain": [
       "Validation: 0it [00:00, ?it/s]"
      ]
     },
     "metadata": {},
     "output_type": "display_data"
    },
    {
     "name": "stdout",
     "output_type": "stream",
     "text": [
      "[[-0.01123047 -0.02890015]\n",
      " [-0.0473938   0.00872803]\n",
      " [ 0.07843018  0.00585938]]\n",
      "tensor([[[3.0696e-07, 3.9486e-08, 1.3495e-07,  ..., 2.5805e-07,\n",
      "          1.6711e-07, 1.2001e-07],\n",
      "         [7.7865e-07, 1.3181e-07, 4.8899e-07,  ..., 8.1642e-07,\n",
      "          4.9567e-07, 4.0263e-07]],\n",
      "\n",
      "        [[4.2931e-07, 4.6601e-08, 1.6808e-07,  ..., 3.1452e-07,\n",
      "          3.0135e-07, 2.0298e-07],\n",
      "         [2.1241e-06, 3.2970e-07, 1.1183e-06,  ..., 1.6424e-06,\n",
      "          1.5886e-06, 1.0434e-06]],\n",
      "\n",
      "        [[2.7968e-07, 2.8337e-08, 1.0839e-07,  ..., 1.8592e-07,\n",
      "          1.6921e-07, 1.2872e-07],\n",
      "         [1.3115e-06, 1.8564e-07, 7.4493e-07,  ..., 9.8978e-07,\n",
      "          8.7907e-07, 6.3237e-07]]], device='cuda:0')\n",
      "tensor([[126, 124],\n",
      "        [121, 129],\n",
      "        [138, 128]], device='cuda:0')\n",
      "tensor([[127, 127],\n",
      "        [127, 127],\n",
      "        [127, 127]], device='cuda:0')\n",
      "loss for step 0 : 5.585195412843124\n",
      "epoch 1\n"
     ]
    },
    {
     "data": {
      "application/vnd.jupyter.widget-view+json": {
       "model_id": "cd3672508ea145558d46ebd7806fb470",
       "version_major": 2,
       "version_minor": 0
      },
      "text/plain": [
       "Training: 0it [00:00, ?it/s]"
      ]
     },
     "metadata": {},
     "output_type": "display_data"
    },
    {
     "data": {
      "application/vnd.jupyter.widget-view+json": {
       "model_id": "d47a15db456540f4bd0189e494a23c1e",
       "version_major": 2,
       "version_minor": 0
      },
      "text/plain": [
       "Validation: 0it [00:00, ?it/s]"
      ]
     },
     "metadata": {},
     "output_type": "display_data"
    },
    {
     "name": "stdout",
     "output_type": "stream",
     "text": [
      "[[-0.0189209   0.09683228]\n",
      " [-0.10626221 -0.20648193]\n",
      " [ 0.24554443  0.36428833]]\n",
      "tensor([[[8.7275e-08, 1.2836e-08, 4.4038e-08,  ..., 9.9992e-08,\n",
      "          1.3364e-07, 4.3337e-08],\n",
      "         [2.4346e-09, 2.6963e-10, 1.0814e-09,  ..., 2.9435e-09,\n",
      "          4.0816e-09, 1.1238e-09]],\n",
      "\n",
      "        [[7.4520e-08, 1.0844e-08, 4.5206e-08,  ..., 1.0185e-07,\n",
      "          1.3111e-07, 4.3665e-08],\n",
      "         [2.7919e-09, 3.1908e-10, 1.5396e-09,  ..., 3.9264e-09,\n",
      "          5.2600e-09, 1.5251e-09]],\n",
      "\n",
      "        [[8.7083e-08, 1.2640e-08, 4.9594e-08,  ..., 1.1533e-07,\n",
      "          1.6316e-07, 4.9404e-08],\n",
      "         [5.5265e-10, 3.5605e-11, 2.8364e-10,  ..., 8.0539e-10,\n",
      "          1.2055e-09, 2.8994e-10]]], device='cuda:0')\n",
      "tensor([[125, 140],\n",
      "        [114, 101],\n",
      "        [159, 174]], device='cuda:0')\n",
      "tensor([[129, 129],\n",
      "        [129, 129],\n",
      "        [129, 129]], device='cuda:0')\n",
      "loss for step 0 : 5.586148577151091\n",
      "epoch 2\n"
     ]
    },
    {
     "data": {
      "application/vnd.jupyter.widget-view+json": {
       "model_id": "b961cb761215425ca52ae461bb55bc3f",
       "version_major": 2,
       "version_minor": 0
      },
      "text/plain": [
       "Training: 0it [00:00, ?it/s]"
      ]
     },
     "metadata": {},
     "output_type": "display_data"
    },
    {
     "data": {
      "application/vnd.jupyter.widget-view+json": {
       "model_id": "062ccc11849f414fb94a22c1b4c7db29",
       "version_major": 2,
       "version_minor": 0
      },
      "text/plain": [
       "Validation: 0it [00:00, ?it/s]"
      ]
     },
     "metadata": {},
     "output_type": "display_data"
    },
    {
     "name": "stdout",
     "output_type": "stream",
     "text": [
      "[[ 0.1741333   0.0960083 ]\n",
      " [ 0.05996704 -0.16375732]\n",
      " [ 0.2135315   0.04318237]]\n",
      "tensor([[[3.7463e-09, 2.5870e-10, 1.6059e-09,  ..., 4.3825e-09,\n",
      "          6.9203e-09, 1.5915e-09],\n",
      "         [8.3214e-11, 3.9634e-12, 3.0924e-11,  ..., 1.0252e-10,\n",
      "          1.5653e-10, 3.1698e-11]],\n",
      "\n",
      "        [[7.4392e-09, 4.4267e-10, 2.8625e-09,  ..., 6.5435e-09,\n",
      "          1.0440e-08, 2.4291e-09],\n",
      "         [1.0941e-10, 3.2503e-12, 3.3834e-11,  ..., 9.2670e-11,\n",
      "          1.5591e-10, 3.0258e-11]],\n",
      "\n",
      "        [[5.4328e-09, 3.8230e-10, 2.2304e-09,  ..., 5.6219e-09,\n",
      "          8.5277e-09, 2.1620e-09],\n",
      "         [8.0904e-11, 3.1897e-12, 2.6436e-11,  ..., 8.7576e-11,\n",
      "          1.3959e-10, 2.7533e-11]]], device='cuda:0')\n",
      "tensor([[150, 140],\n",
      "        [135, 107],\n",
      "        [155, 133]], device='cuda:0')\n",
      "tensor([[129, 129],\n",
      "        [129, 129],\n",
      "        [129, 129]], device='cuda:0')\n",
      "loss for step 0 : 5.586130341239597\n",
      "epoch 3\n"
     ]
    },
    {
     "data": {
      "application/vnd.jupyter.widget-view+json": {
       "model_id": "7e97f73410c9459297226115587be940",
       "version_major": 2,
       "version_minor": 0
      },
      "text/plain": [
       "Training: 0it [00:00, ?it/s]"
      ]
     },
     "metadata": {},
     "output_type": "display_data"
    },
    {
     "data": {
      "application/vnd.jupyter.widget-view+json": {
       "model_id": "f7505b34971b4c16af52ff9f06798c51",
       "version_major": 2,
       "version_minor": 0
      },
      "text/plain": [
       "Validation: 0it [00:00, ?it/s]"
      ]
     },
     "metadata": {},
     "output_type": "display_data"
    },
    {
     "name": "stdout",
     "output_type": "stream",
     "text": [
      "[[ 0.22195435  0.36376953]\n",
      " [-0.24035645  0.13388062]\n",
      " [ 0.5795288   0.32125854]]\n",
      "tensor([[[4.0407e-09, 2.4693e-10, 1.5725e-09,  ..., 3.8307e-09,\n",
      "          5.9221e-09, 1.4144e-09],\n",
      "         [5.3488e-11, 1.7873e-12, 1.6309e-11,  ..., 4.9854e-11,\n",
      "          7.8207e-11, 1.6120e-11]],\n",
      "\n",
      "        [[4.5462e-09, 2.8289e-10, 2.0664e-09,  ..., 4.6103e-09,\n",
      "          6.7020e-09, 1.7417e-09],\n",
      "         [4.8564e-11, 1.4355e-12, 1.7393e-11,  ..., 4.4707e-11,\n",
      "          7.2615e-11, 1.5693e-11]],\n",
      "\n",
      "        [[2.7142e-09, 1.4131e-10, 1.0608e-09,  ..., 2.7058e-09,\n",
      "          4.0478e-09, 9.6176e-10],\n",
      "         [1.1116e-10, 5.1384e-12, 3.6460e-11,  ..., 1.0729e-10,\n",
      "          1.8012e-10, 3.7649e-11]]], device='cuda:0')\n",
      "tensor([[156, 174],\n",
      "        [ 97, 145],\n",
      "        [202, 169]], device='cuda:0')\n",
      "tensor([[129, 129],\n",
      "        [129, 129],\n",
      "        [129, 129]], device='cuda:0')\n",
      "loss for step 0 : 5.586148465198019\n",
      "epoch 4\n"
     ]
    },
    {
     "data": {
      "application/vnd.jupyter.widget-view+json": {
       "model_id": "45bf3e85f4da4f28b1484957f8e198dc",
       "version_major": 2,
       "version_minor": 0
      },
      "text/plain": [
       "Training: 0it [00:00, ?it/s]"
      ]
     },
     "metadata": {},
     "output_type": "display_data"
    },
    {
     "data": {
      "application/vnd.jupyter.widget-view+json": {
       "model_id": "973137e1b881455fa21ca7073273fde8",
       "version_major": 2,
       "version_minor": 0
      },
      "text/plain": [
       "Validation: 0it [00:00, ?it/s]"
      ]
     },
     "metadata": {},
     "output_type": "display_data"
    },
    {
     "name": "stdout",
     "output_type": "stream",
     "text": [
      "[[0.3355713  0.22140503]\n",
      " [0.00915527 0.30325317]\n",
      " [0.02871704 0.28811646]]\n",
      "tensor([[[1.9412e-09, 9.5312e-11, 7.5549e-10,  ..., 1.7858e-09,\n",
      "          3.0409e-09, 6.9596e-10],\n",
      "         [1.6051e-11, 3.0977e-13, 4.8954e-12,  ..., 1.4830e-11,\n",
      "          2.2697e-11, 3.9818e-12]],\n",
      "\n",
      "        [[1.9731e-09, 1.1418e-10, 8.5009e-10,  ..., 1.9267e-09,\n",
      "          3.0943e-09, 7.9169e-10],\n",
      "         [1.2761e-11, 3.0897e-13, 4.3403e-12,  ..., 1.2579e-11,\n",
      "          2.1484e-11, 4.2964e-12]],\n",
      "\n",
      "        [[3.0615e-09, 1.7940e-10, 1.3131e-09,  ..., 2.5727e-09,\n",
      "          4.1845e-09, 1.1182e-09],\n",
      "         [1.2727e-10, 5.9893e-12, 4.3444e-11,  ..., 1.0121e-10,\n",
      "          1.6558e-10, 3.9880e-11]]], device='cuda:0')\n",
      "tensor([[170, 156],\n",
      "        [129, 166],\n",
      "        [131, 164]], device='cuda:0')\n",
      "tensor([[129, 129],\n",
      "        [129, 129],\n",
      "        [129, 129]], device='cuda:0')\n",
      "loss for step 0 : 5.586139455048934\n",
      "epoch 5\n"
     ]
    },
    {
     "data": {
      "application/vnd.jupyter.widget-view+json": {
       "model_id": "01f6039e7cf041d4b2f3c03e6abcf993",
       "version_major": 2,
       "version_minor": 0
      },
      "text/plain": [
       "Training: 0it [00:00, ?it/s]"
      ]
     },
     "metadata": {},
     "output_type": "display_data"
    },
    {
     "data": {
      "application/vnd.jupyter.widget-view+json": {
       "model_id": "0e92f20dda3b4fc4810c4d3fe048bb69",
       "version_major": 2,
       "version_minor": 0
      },
      "text/plain": [
       "Validation: 0it [00:00, ?it/s]"
      ]
     },
     "metadata": {},
     "output_type": "display_data"
    },
    {
     "name": "stdout",
     "output_type": "stream",
     "text": [
      "[[ 0.11004639  0.21054077]\n",
      " [ 0.11578369 -0.19717407]\n",
      " [-0.19326782 -0.17941284]]\n",
      "tensor([[[1.1235e-09, 4.9339e-11, 4.6049e-10,  ..., 1.0525e-09,\n",
      "          1.6159e-09, 3.7092e-10],\n",
      "         [1.3888e-11, 3.2586e-13, 4.2521e-12,  ..., 1.2430e-11,\n",
      "          2.0743e-11, 3.9534e-12]],\n",
      "\n",
      "        [[1.4063e-09, 6.0409e-11, 5.3648e-10,  ..., 1.1744e-09,\n",
      "          2.0012e-09, 4.3604e-10],\n",
      "         [1.7708e-11, 4.3641e-13, 4.9330e-12,  ..., 1.4967e-11,\n",
      "          2.6163e-11, 4.6438e-12]],\n",
      "\n",
      "        [[1.5077e-09, 6.4697e-11, 5.3797e-10,  ..., 1.2658e-09,\n",
      "          2.0097e-09, 4.7594e-10],\n",
      "         [1.5527e-11, 3.1158e-13, 3.9614e-12,  ..., 1.3330e-11,\n",
      "          2.1235e-11, 4.0770e-12]]], device='cuda:0')\n",
      "tensor([[142, 154],\n",
      "        [142, 102],\n",
      "        [103, 105]], device='cuda:0')\n",
      "tensor([[129, 129],\n",
      "        [129, 129],\n",
      "        [129, 129]], device='cuda:0')\n",
      "loss for step 0 : 5.586139372120733\n",
      "epoch 6\n"
     ]
    },
    {
     "data": {
      "application/vnd.jupyter.widget-view+json": {
       "model_id": "1d20f8ae1c964ecdad9c69e1747e46f3",
       "version_major": 2,
       "version_minor": 0
      },
      "text/plain": [
       "Training: 0it [00:00, ?it/s]"
      ]
     },
     "metadata": {},
     "output_type": "display_data"
    },
    {
     "data": {
      "application/vnd.jupyter.widget-view+json": {
       "model_id": "5ae3d6b2a83c4e57946a54d1b88f29ff",
       "version_major": 2,
       "version_minor": 0
      },
      "text/plain": [
       "Validation: 0it [00:00, ?it/s]"
      ]
     },
     "metadata": {},
     "output_type": "display_data"
    },
    {
     "name": "stdout",
     "output_type": "stream",
     "text": [
      "[[-0.05337524 -0.11514282]\n",
      " [-0.1789856   0.08416748]\n",
      " [-0.33010864 -0.29556274]]\n",
      "tensor([[[2.3891e-09, 1.3121e-10, 8.2999e-10,  ..., 2.4062e-09,\n",
      "          3.2647e-09, 7.3472e-10],\n",
      "         [4.3776e-11, 1.1145e-12, 1.1458e-11,  ..., 3.9192e-11,\n",
      "          5.4281e-11, 9.6577e-12]],\n",
      "\n",
      "        [[9.8749e-10, 4.0824e-11, 3.5179e-10,  ..., 9.3560e-10,\n",
      "          1.5502e-09, 3.5403e-10],\n",
      "         [2.4946e-11, 7.4953e-13, 7.3714e-12,  ..., 2.3442e-11,\n",
      "          3.7590e-11, 7.4215e-12]],\n",
      "\n",
      "        [[5.3917e-10, 1.9389e-11, 2.0193e-10,  ..., 6.1361e-10,\n",
      "          8.1550e-10, 1.7633e-10],\n",
      "         [7.6331e-12, 1.4285e-13, 2.0157e-12,  ..., 8.6193e-12,\n",
      "          1.0836e-11, 2.0614e-12]]], device='cuda:0')\n",
      "tensor([[121, 113],\n",
      "        [105, 138],\n",
      "        [ 85,  90]], device='cuda:0')\n",
      "tensor([[129, 129],\n",
      "        [129, 129],\n",
      "        [129, 129]], device='cuda:0')\n",
      "loss for step 0 : 5.586148448612379\n",
      "epoch 7\n"
     ]
    },
    {
     "data": {
      "application/vnd.jupyter.widget-view+json": {
       "model_id": "648c83966c684eab90bcac35dac29e67",
       "version_major": 2,
       "version_minor": 0
      },
      "text/plain": [
       "Training: 0it [00:00, ?it/s]"
      ]
     },
     "metadata": {},
     "output_type": "display_data"
    },
    {
     "data": {
      "application/vnd.jupyter.widget-view+json": {
       "model_id": "cb28765f9cbe47889fb44a7dda3e8ee5",
       "version_major": 2,
       "version_minor": 0
      },
      "text/plain": [
       "Validation: 0it [00:00, ?it/s]"
      ]
     },
     "metadata": {},
     "output_type": "display_data"
    },
    {
     "name": "stdout",
     "output_type": "stream",
     "text": [
      "[[-0.02706909 -0.03820801]\n",
      " [ 0.31582642  0.44128418]\n",
      " [-0.18600464 -0.14804077]]\n",
      "tensor([[[4.1385e-10, 9.5618e-12, 1.2249e-10,  ..., 2.9932e-10,\n",
      "          4.8518e-10, 8.1592e-11],\n",
      "         [4.0465e-12, 4.1100e-14, 9.3093e-13,  ..., 2.6907e-12,\n",
      "          4.6771e-12, 5.8230e-13]],\n",
      "\n",
      "        [[8.7997e-10, 2.5609e-11, 2.4138e-10,  ..., 5.5256e-10,\n",
      "          8.3404e-10, 1.9035e-10],\n",
      "         [4.2523e-12, 3.8066e-14, 7.2503e-13,  ..., 2.1785e-12,\n",
      "          3.8774e-12, 5.5697e-13]],\n",
      "\n",
      "        [[7.5116e-10, 2.3294e-11, 2.1135e-10,  ..., 4.7895e-10,\n",
      "          8.2988e-10, 1.7089e-10],\n",
      "         [3.2560e-12, 3.1268e-14, 6.2007e-13,  ..., 1.9392e-12,\n",
      "          3.5528e-12, 4.7322e-13]]], device='cuda:0')\n",
      "tensor([[124, 123],\n",
      "        [168, 184],\n",
      "        [104, 109]], device='cuda:0')\n",
      "tensor([[129, 129],\n",
      "        [129, 129],\n",
      "        [129, 129]], device='cuda:0')\n",
      "loss for step 0 : 5.586139268460481\n",
      "epoch 8\n"
     ]
    },
    {
     "data": {
      "application/vnd.jupyter.widget-view+json": {
       "model_id": "605f33c9226341e5bfc532029f81fa12",
       "version_major": 2,
       "version_minor": 0
      },
      "text/plain": [
       "Training: 0it [00:00, ?it/s]"
      ]
     },
     "metadata": {},
     "output_type": "display_data"
    },
    {
     "data": {
      "application/vnd.jupyter.widget-view+json": {
       "model_id": "8a39dec8b5024c7b98b6609044b90fa5",
       "version_major": 2,
       "version_minor": 0
      },
      "text/plain": [
       "Validation: 0it [00:00, ?it/s]"
      ]
     },
     "metadata": {},
     "output_type": "display_data"
    },
    {
     "name": "stdout",
     "output_type": "stream",
     "text": [
      "[[ 0.08731079 -0.18167114]\n",
      " [-0.18060303 -0.19528198]\n",
      " [-0.04034424 -0.11978149]]\n",
      "tensor([[[4.9175e-10, 1.1795e-11, 1.4210e-10,  ..., 3.3174e-10,\n",
      "          5.1133e-10, 1.0876e-10],\n",
      "         [3.7960e-12, 3.6384e-14, 8.8957e-13,  ..., 2.3664e-12,\n",
      "          3.8216e-12, 6.3020e-13]],\n",
      "\n",
      "        [[5.4440e-10, 1.3466e-11, 1.5850e-10,  ..., 3.5530e-10,\n",
      "          5.5591e-10, 1.1793e-10],\n",
      "         [5.8324e-12, 6.3224e-14, 1.3165e-12,  ..., 3.4767e-12,\n",
      "          6.0491e-12, 9.7788e-13]],\n",
      "\n",
      "        [[1.0799e-09, 4.2953e-11, 3.4055e-10,  ..., 7.2937e-10,\n",
      "          1.1610e-09, 2.8098e-10],\n",
      "         [7.5525e-12, 1.1017e-13, 1.8247e-12,  ..., 4.7113e-12,\n",
      "          7.9686e-12, 1.3729e-12]]], device='cuda:0')\n",
      "tensor([[139, 104],\n",
      "        [104, 103],\n",
      "        [122, 112]], device='cuda:0')\n",
      "tensor([[129, 129],\n",
      "        [129, 129],\n",
      "        [129, 129]], device='cuda:0')\n",
      "loss for step 0 : 5.586148365684178\n",
      "epoch 9\n"
     ]
    },
    {
     "data": {
      "application/vnd.jupyter.widget-view+json": {
       "model_id": "81122297697340a99a979d598956c0d5",
       "version_major": 2,
       "version_minor": 0
      },
      "text/plain": [
       "Training: 0it [00:00, ?it/s]"
      ]
     },
     "metadata": {},
     "output_type": "display_data"
    },
    {
     "data": {
      "application/vnd.jupyter.widget-view+json": {
       "model_id": "15d14d02609640adaa21eb3036d00d8a",
       "version_major": 2,
       "version_minor": 0
      },
      "text/plain": [
       "Validation: 0it [00:00, ?it/s]"
      ]
     },
     "metadata": {},
     "output_type": "display_data"
    },
    {
     "name": "stdout",
     "output_type": "stream",
     "text": [
      "[[ 0.04129028 -0.3564148 ]\n",
      " [-0.37277222 -0.37979126]\n",
      " [ 0.29840088  0.26623535]]\n",
      "tensor([[[2.9099e-10, 5.8189e-12, 7.7133e-11,  ..., 1.7529e-10,\n",
      "          3.0324e-10, 5.8031e-11],\n",
      "         [1.3676e-12, 1.0332e-14, 2.6156e-13,  ..., 8.0127e-13,\n",
      "          1.4999e-12, 1.9505e-13]],\n",
      "\n",
      "        [[5.4033e-10, 1.4252e-11, 1.3689e-10,  ..., 3.1718e-10,\n",
      "          6.0064e-10, 1.1483e-10],\n",
      "         [2.5822e-12, 2.2071e-14, 4.5707e-13,  ..., 1.4156e-12,\n",
      "          2.9210e-12, 3.8773e-13]],\n",
      "\n",
      "        [[2.8880e-10, 7.2969e-12, 8.7937e-11,  ..., 2.3392e-10,\n",
      "          3.4342e-10, 7.4261e-11],\n",
      "         [1.5627e-12, 1.3474e-14, 3.6930e-13,  ..., 1.2732e-12,\n",
      "          1.8832e-12, 2.8878e-13]]], device='cuda:0')\n",
      "tensor([[133,  82],\n",
      "        [ 80,  79],\n",
      "        [166, 162]], device='cuda:0')\n",
      "tensor([[129, 129],\n",
      "        [129, 129],\n",
      "        [129, 129]], device='cuda:0')\n",
      "loss for step 0 : 5.586139467488165\n",
      "epoch 10\n"
     ]
    },
    {
     "data": {
      "application/vnd.jupyter.widget-view+json": {
       "model_id": "8d0db38f807547489561340c1f416f9e",
       "version_major": 2,
       "version_minor": 0
      },
      "text/plain": [
       "Training: 0it [00:00, ?it/s]"
      ]
     },
     "metadata": {},
     "output_type": "display_data"
    },
    {
     "data": {
      "application/vnd.jupyter.widget-view+json": {
       "model_id": "9bd42f709c1c457aaeb4ceecf769e8bf",
       "version_major": 2,
       "version_minor": 0
      },
      "text/plain": [
       "Validation: 0it [00:00, ?it/s]"
      ]
     },
     "metadata": {},
     "output_type": "display_data"
    },
    {
     "name": "stdout",
     "output_type": "stream",
     "text": [
      "[[-0.23110962 -0.24975586]\n",
      " [-0.03390503 -0.28915405]\n",
      " [ 0.07885742  0.10482788]]\n",
      "tensor([[[9.6968e-10, 3.5044e-11, 2.7987e-10,  ..., 6.3144e-10,\n",
      "          9.7737e-10, 2.4737e-10],\n",
      "         [3.4461e-12, 4.0495e-14, 7.3380e-13,  ..., 2.1207e-12,\n",
      "          3.6112e-12, 5.9283e-13]],\n",
      "\n",
      "        [[4.2670e-10, 1.0733e-11, 1.1557e-10,  ..., 2.5403e-10,\n",
      "          3.9424e-10, 8.3964e-11],\n",
      "         [3.2180e-12, 2.7372e-14, 5.8189e-13,  ..., 1.5501e-12,\n",
      "          2.6241e-12, 4.1253e-13]],\n",
      "\n",
      "        [[2.3071e-10, 5.6479e-12, 6.5608e-11,  ..., 1.6420e-10,\n",
      "          2.5899e-10, 4.8990e-11],\n",
      "         [1.2245e-12, 1.1173e-14, 2.4760e-13,  ..., 8.8905e-13,\n",
      "          1.3956e-12, 1.7879e-13]]], device='cuda:0')\n",
      "tensor([[ 98,  96],\n",
      "        [123,  90],\n",
      "        [138, 141]], device='cuda:0')\n",
      "tensor([[129, 129],\n",
      "        [129, 129],\n",
      "        [129, 129]], device='cuda:0')\n",
      "loss for step 0 : 5.586130453192669\n",
      "epoch 11\n"
     ]
    },
    {
     "data": {
      "application/vnd.jupyter.widget-view+json": {
       "model_id": "bca733e8d56042fb9d05f81c9be62a36",
       "version_major": 2,
       "version_minor": 0
      },
      "text/plain": [
       "Training: 0it [00:00, ?it/s]"
      ]
     },
     "metadata": {},
     "output_type": "display_data"
    },
    {
     "data": {
      "application/vnd.jupyter.widget-view+json": {
       "model_id": "5baceaa29f0e4f719e90e95210dafc1f",
       "version_major": 2,
       "version_minor": 0
      },
      "text/plain": [
       "Validation: 0it [00:00, ?it/s]"
      ]
     },
     "metadata": {},
     "output_type": "display_data"
    },
    {
     "name": "stdout",
     "output_type": "stream",
     "text": [
      "[[ 0.41290283  0.41540527]\n",
      " [-0.06396484 -0.00579834]\n",
      " [ 0.02078247 -0.0100708 ]]\n",
      "tensor([[[1.1541e-10, 2.7218e-12, 3.1747e-11,  ..., 9.4504e-11,\n",
      "          1.4066e-10, 2.7384e-11],\n",
      "         [1.5393e-12, 1.7428e-14, 3.1962e-13,  ..., 1.2210e-12,\n",
      "          1.7235e-12, 2.8941e-13]],\n",
      "\n",
      "        [[5.0116e-10, 1.7252e-11, 1.3590e-10,  ..., 3.6344e-10,\n",
      "          5.3057e-10, 1.2054e-10],\n",
      "         [1.9827e-12, 2.1476e-14, 4.3157e-13,  ..., 1.4634e-12,\n",
      "          2.3318e-12, 3.7192e-13]],\n",
      "\n",
      "        [[1.8710e-10, 3.3534e-12, 5.0413e-11,  ..., 1.1557e-10,\n",
      "          1.8432e-10, 3.2258e-11],\n",
      "         [2.6186e-12, 2.1964e-14, 5.2347e-13,  ..., 1.4414e-12,\n",
      "          2.3108e-12, 3.4243e-13]]], device='cuda:0')\n",
      "tensor([[180, 181],\n",
      "        [119, 127],\n",
      "        [130, 126]], device='cuda:0')\n",
      "tensor([[129, 129],\n",
      "        [129, 129],\n",
      "        [129, 129]], device='cuda:0')\n",
      "loss for step 0 : 5.586148577151091\n",
      "epoch 12\n"
     ]
    },
    {
     "data": {
      "application/vnd.jupyter.widget-view+json": {
       "model_id": "4589476d66e9449bb138e69044a4eb96",
       "version_major": 2,
       "version_minor": 0
      },
      "text/plain": [
       "Training: 0it [00:00, ?it/s]"
      ]
     },
     "metadata": {},
     "output_type": "display_data"
    },
    {
     "data": {
      "application/vnd.jupyter.widget-view+json": {
       "model_id": "89d4a0eb45db48a58f501f8cac1d35b7",
       "version_major": 2,
       "version_minor": 0
      },
      "text/plain": [
       "Validation: 0it [00:00, ?it/s]"
      ]
     },
     "metadata": {},
     "output_type": "display_data"
    },
    {
     "name": "stdout",
     "output_type": "stream",
     "text": [
      "[[-0.0987854   0.21414185]\n",
      " [ 0.08963013  0.10476685]\n",
      " [-0.03094482 -0.04537964]]\n",
      "tensor([[[9.1678e-10, 3.4807e-11, 2.9274e-10,  ..., 5.7021e-10,\n",
      "          8.2603e-10, 2.1612e-10],\n",
      "         [5.2328e-12, 6.1073e-14, 1.1531e-12,  ..., 2.8432e-12,\n",
      "          4.2241e-12, 8.1207e-13]],\n",
      "\n",
      "        [[3.4119e-10, 9.2398e-12, 1.0832e-10,  ..., 2.5536e-10,\n",
      "          3.6368e-10, 7.8776e-11],\n",
      "         [2.2386e-12, 1.9260e-14, 5.6725e-13,  ..., 1.5247e-12,\n",
      "          2.2878e-12, 3.6979e-13]],\n",
      "\n",
      "        [[2.0559e-10, 4.6924e-12, 6.2569e-11,  ..., 1.4259e-10,\n",
      "          2.3681e-10, 4.6842e-11],\n",
      "         [1.8904e-12, 1.7754e-14, 4.4719e-13,  ..., 1.1948e-12,\n",
      "          2.0302e-12, 3.2117e-13]]], device='cuda:0')\n",
      "tensor([[115, 155],\n",
      "        [139, 141],\n",
      "        [124, 122]], device='cuda:0')\n",
      "tensor([[129, 129],\n",
      "        [129, 129],\n",
      "        [129, 129]], device='cuda:0')\n",
      "loss for step 0 : 5.586148577151091\n",
      "epoch 13\n"
     ]
    },
    {
     "data": {
      "application/vnd.jupyter.widget-view+json": {
       "model_id": "3711b53163cb497580c226e9ddc9d259",
       "version_major": 2,
       "version_minor": 0
      },
      "text/plain": [
       "Training: 0it [00:00, ?it/s]"
      ]
     },
     "metadata": {},
     "output_type": "display_data"
    },
    {
     "data": {
      "application/vnd.jupyter.widget-view+json": {
       "model_id": "4500252cc84c4a4dbe239eaeeb425663",
       "version_major": 2,
       "version_minor": 0
      },
      "text/plain": [
       "Validation: 0it [00:00, ?it/s]"
      ]
     },
     "metadata": {},
     "output_type": "display_data"
    },
    {
     "name": "stdout",
     "output_type": "stream",
     "text": [
      "[[-0.21951294  0.6246338 ]\n",
      " [ 0.06604004  0.30316162]\n",
      " [-0.01754761  0.00741577]]\n",
      "tensor([[[2.1042e-10, 3.5414e-12, 4.8464e-11,  ..., 1.2383e-10,\n",
      "          1.6528e-10, 3.6483e-11],\n",
      "         [1.4970e-12, 9.3877e-15, 2.2948e-13,  ..., 8.3815e-13,\n",
      "          1.0946e-12, 1.7443e-13]],\n",
      "\n",
      "        [[4.6484e-10, 1.3095e-11, 1.3637e-10,  ..., 3.0384e-10,\n",
      "          4.2727e-10, 1.0811e-10],\n",
      "         [2.1369e-12, 1.6687e-14, 4.2313e-13,  ..., 1.2732e-12,\n",
      "          1.8474e-12, 3.3714e-13]],\n",
      "\n",
      "        [[1.1952e-10, 2.1010e-12, 3.0999e-11,  ..., 8.3362e-11,\n",
      "          1.3234e-10, 2.4886e-11],\n",
      "         [1.7888e-12, 1.6949e-14, 3.8651e-13,  ..., 1.2771e-12,\n",
      "          1.8040e-12, 3.0337e-13]]], device='cuda:0')\n",
      "tensor([[ 99, 207],\n",
      "        [136, 166],\n",
      "        [125, 128]], device='cuda:0')\n",
      "tensor([[129, 129],\n",
      "        [129, 129],\n",
      "        [129, 129]], device='cuda:0')\n",
      "loss for step 0 : 5.586139513098675\n",
      "epoch 14\n"
     ]
    },
    {
     "data": {
      "application/vnd.jupyter.widget-view+json": {
       "model_id": "30e054ef2a3f4ee49d0f5e3de146eb73",
       "version_major": 2,
       "version_minor": 0
      },
      "text/plain": [
       "Training: 0it [00:00, ?it/s]"
      ]
     },
     "metadata": {},
     "output_type": "display_data"
    },
    {
     "data": {
      "application/vnd.jupyter.widget-view+json": {
       "model_id": "507d6afbebf5408998d365e955a73839",
       "version_major": 2,
       "version_minor": 0
      },
      "text/plain": [
       "Validation: 0it [00:00, ?it/s]"
      ]
     },
     "metadata": {},
     "output_type": "display_data"
    },
    {
     "name": "stdout",
     "output_type": "stream",
     "text": [
      "[[ 0.16845703  0.07034302]\n",
      " [ 0.1399231   0.42370605]\n",
      " [-0.00747681  0.07336426]]\n",
      "tensor([[[1.9930e-10, 5.3593e-12, 6.0103e-11,  ..., 1.6606e-10,\n",
      "          2.2874e-10, 4.9855e-11],\n",
      "         [2.7236e-12, 3.4139e-14, 6.7966e-13,  ..., 1.9514e-12,\n",
      "          2.7466e-12, 5.2295e-13]],\n",
      "\n",
      "        [[1.8804e-10, 4.3811e-12, 5.5491e-11,  ..., 1.4289e-10,\n",
      "          1.9159e-10, 4.4389e-11],\n",
      "         [1.8116e-12, 1.8337e-14, 4.1022e-13,  ..., 1.4032e-12,\n",
      "          1.7023e-12, 3.2448e-13]],\n",
      "\n",
      "        [[2.3396e-10, 5.4094e-12, 6.5128e-11,  ..., 1.5511e-10,\n",
      "          2.0751e-10, 5.1758e-11],\n",
      "         [1.5844e-12, 1.3153e-14, 3.1467e-13,  ..., 9.8231e-13,\n",
      "          1.3731e-12, 2.5331e-13]]], device='cuda:0')\n",
      "tensor([[149, 137],\n",
      "        [145, 182],\n",
      "        [127, 137]], device='cuda:0')\n",
      "tensor([[129, 129],\n",
      "        [129, 129],\n",
      "        [129, 129]], device='cuda:0')\n",
      "loss for step 0 : 5.5861213974330735\n",
      "epoch 15\n"
     ]
    },
    {
     "data": {
      "application/vnd.jupyter.widget-view+json": {
       "model_id": "7690d94d2d3a44d2b07a5cba111272ac",
       "version_major": 2,
       "version_minor": 0
      },
      "text/plain": [
       "Training: 0it [00:00, ?it/s]"
      ]
     },
     "metadata": {},
     "output_type": "display_data"
    },
    {
     "data": {
      "application/vnd.jupyter.widget-view+json": {
       "model_id": "f3aba3c5520f4570b75f9241b14ad167",
       "version_major": 2,
       "version_minor": 0
      },
      "text/plain": [
       "Validation: 0it [00:00, ?it/s]"
      ]
     },
     "metadata": {},
     "output_type": "display_data"
    },
    {
     "name": "stdout",
     "output_type": "stream",
     "text": [
      "[[-0.22128296 -0.14950562]\n",
      " [-0.10498047 -0.04989624]\n",
      " [-0.6607971  -0.58410645]]\n",
      "tensor([[[2.4709e-11, 4.2368e-13, 6.6282e-12,  ..., 1.2262e-11,\n",
      "          1.7624e-11, 4.0724e-12],\n",
      "         [1.5545e-12, 1.5467e-14, 3.7002e-13,  ..., 7.2980e-13,\n",
      "          1.1016e-12, 2.1538e-13]],\n",
      "\n",
      "        [[2.2512e-11, 4.5180e-13, 6.3692e-12,  ..., 1.3198e-11,\n",
      "          1.8518e-11, 4.4984e-12],\n",
      "         [2.1499e-12, 2.8341e-14, 5.1407e-13,  ..., 1.1932e-12,\n",
      "          1.7047e-12, 3.8768e-13]],\n",
      "\n",
      "        [[7.2608e-11, 3.1996e-12, 2.6656e-11,  ..., 4.0628e-11,\n",
      "          6.4030e-11, 1.9869e-11],\n",
      "         [1.3361e-11, 5.7595e-13, 4.5810e-12,  ..., 6.8138e-12,\n",
      "          1.0547e-11, 3.4780e-12]]], device='cuda:0')\n",
      "tensor([[ 99, 108],\n",
      "        [114, 121],\n",
      "        [ 43,  53]], device='cuda:0')\n",
      "tensor([[129, 129],\n",
      "        [129, 129],\n",
      "        [129, 129]], device='cuda:0')\n",
      "loss for step 0 : 5.5861485937367314\n",
      "epoch 16\n"
     ]
    },
    {
     "data": {
      "application/vnd.jupyter.widget-view+json": {
       "model_id": "08334ea493f542e38d4e68c4b556169b",
       "version_major": 2,
       "version_minor": 0
      },
      "text/plain": [
       "Training: 0it [00:00, ?it/s]"
      ]
     },
     "metadata": {},
     "output_type": "display_data"
    },
    {
     "data": {
      "application/vnd.jupyter.widget-view+json": {
       "model_id": "c86c6111b01a4087a468ce4a51ad86c3",
       "version_major": 2,
       "version_minor": 0
      },
      "text/plain": [
       "Validation: 0it [00:00, ?it/s]"
      ]
     },
     "metadata": {},
     "output_type": "display_data"
    },
    {
     "name": "stdout",
     "output_type": "stream",
     "text": [
      "[[-0.12786865  0.02157593]\n",
      " [-0.3451538  -0.7141113 ]\n",
      " [ 0.42874146  0.03952026]]\n",
      "tensor([[[1.2221e-10, 3.3970e-12, 4.1739e-11,  ..., 7.2147e-11,\n",
      "          9.5787e-11, 2.7454e-11],\n",
      "         [6.6884e-12, 1.2142e-13, 2.0343e-12,  ..., 3.8310e-12,\n",
      "          4.9734e-12, 1.2544e-12]],\n",
      "\n",
      "        [[1.6895e-10, 6.1836e-12, 5.6188e-11,  ..., 1.0618e-10,\n",
      "          1.3280e-10, 4.5272e-11],\n",
      "         [6.3577e-12, 1.2696e-13, 1.8329e-12,  ..., 4.0964e-12,\n",
      "          5.1348e-12, 1.4286e-12]],\n",
      "\n",
      "        [[1.4868e-10, 4.4808e-12, 4.8903e-11,  ..., 8.9281e-11,\n",
      "          1.2053e-10, 3.7702e-11],\n",
      "         [6.8363e-12, 1.0549e-13, 1.9069e-12,  ..., 3.6687e-12,\n",
      "          4.7248e-12, 1.2493e-12]]], device='cuda:0')\n",
      "tensor([[111, 130],\n",
      "        [ 83,  36],\n",
      "        [182, 133]], device='cuda:0')\n",
      "tensor([[129, 129],\n",
      "        [129, 129],\n",
      "        [129, 129]], device='cuda:0')\n",
      "loss for step 0 : 5.586130175383195\n",
      "epoch 17\n"
     ]
    },
    {
     "data": {
      "application/vnd.jupyter.widget-view+json": {
       "model_id": "1937fa5b570a4956914c4ecad341454a",
       "version_major": 2,
       "version_minor": 0
      },
      "text/plain": [
       "Training: 0it [00:00, ?it/s]"
      ]
     },
     "metadata": {},
     "output_type": "display_data"
    },
    {
     "data": {
      "application/vnd.jupyter.widget-view+json": {
       "model_id": "449daa099cf24af3b2ca4883359b8736",
       "version_major": 2,
       "version_minor": 0
      },
      "text/plain": [
       "Validation: 0it [00:00, ?it/s]"
      ]
     },
     "metadata": {},
     "output_type": "display_data"
    },
    {
     "name": "stdout",
     "output_type": "stream",
     "text": [
      "[[ 0.08331299 -0.29275513]\n",
      " [-0.16522217 -0.10839844]\n",
      " [-0.07107544  0.11535645]]\n",
      "tensor([[[5.7071e-12, 1.6323e-13, 1.2524e-12,  ..., 2.3925e-12,\n",
      "          3.9309e-12, 1.0047e-12],\n",
      "         [3.1659e-12, 6.3227e-14, 6.7623e-13,  ..., 1.3680e-12,\n",
      "          2.4622e-12, 5.1586e-13]],\n",
      "\n",
      "        [[7.7817e-12, 2.4761e-13, 1.6970e-12,  ..., 3.3093e-12,\n",
      "          5.3374e-12, 1.4765e-12],\n",
      "         [6.9431e-12, 1.6409e-13, 1.4688e-12,  ..., 2.9588e-12,\n",
      "          4.8121e-12, 1.1404e-12]],\n",
      "\n",
      "        [[3.0669e-12, 7.0405e-14, 6.8440e-13,  ..., 1.1286e-12,\n",
      "          1.8773e-12, 4.3335e-13],\n",
      "         [2.7540e-12, 4.8759e-14, 5.8082e-13,  ..., 9.8077e-13,\n",
      "          1.7441e-12, 3.2913e-13]]], device='cuda:0')\n",
      "tensor([[138,  90],\n",
      "        [106, 114],\n",
      "        [118, 142]], device='cuda:0')\n",
      "tensor([[129, 129],\n",
      "        [129, 129],\n",
      "        [129, 129]], device='cuda:0')\n",
      "loss for step 0 : 5.5861485937367314\n",
      "epoch 18\n"
     ]
    },
    {
     "data": {
      "application/vnd.jupyter.widget-view+json": {
       "model_id": "255d491dd55241f38b96df7304656b46",
       "version_major": 2,
       "version_minor": 0
      },
      "text/plain": [
       "Training: 0it [00:00, ?it/s]"
      ]
     },
     "metadata": {},
     "output_type": "display_data"
    },
    {
     "data": {
      "application/vnd.jupyter.widget-view+json": {
       "model_id": "b37dc88801964660a8a541adeb9f43cf",
       "version_major": 2,
       "version_minor": 0
      },
      "text/plain": [
       "Validation: 0it [00:00, ?it/s]"
      ]
     },
     "metadata": {},
     "output_type": "display_data"
    },
    {
     "name": "stdout",
     "output_type": "stream",
     "text": [
      "[[ 0.05450439  0.34146118]\n",
      " [-0.17877197 -0.34765625]\n",
      " [ 0.08673096  0.02978516]]\n",
      "tensor([[[3.1640e-11, 1.5397e-12, 9.1289e-12,  ..., 1.3579e-11,\n",
      "          2.3613e-11, 7.4325e-12],\n",
      "         [2.2236e-11, 7.4712e-13, 5.7396e-12,  ..., 9.0099e-12,\n",
      "          1.5707e-11, 4.2406e-12]],\n",
      "\n",
      "        [[1.1879e-11, 2.9544e-13, 2.4906e-12,  ..., 4.3035e-12,\n",
      "          6.7868e-12, 1.7036e-12],\n",
      "         [7.0386e-12, 1.2564e-13, 1.3005e-12,  ..., 2.5043e-12,\n",
      "          4.3351e-12, 8.9723e-13]],\n",
      "\n",
      "        [[9.9028e-12, 2.6067e-13, 2.0561e-12,  ..., 3.9886e-12,\n",
      "          6.8490e-12, 1.7011e-12],\n",
      "         [6.5316e-12, 1.2549e-13, 1.2411e-12,  ..., 2.5840e-12,\n",
      "          4.9353e-12, 1.0362e-12]]], device='cuda:0')\n",
      "tensor([[134, 171],\n",
      "        [105,  83],\n",
      "        [139, 131]], device='cuda:0')\n",
      "tensor([[129, 129],\n",
      "        [129, 129],\n",
      "        [129, 129]], device='cuda:0')\n",
      "loss for step 0 : 5.586148585443912\n",
      "epoch 19\n"
     ]
    },
    {
     "data": {
      "application/vnd.jupyter.widget-view+json": {
       "model_id": "0f3d75c9aceb470f9d9d481196370b89",
       "version_major": 2,
       "version_minor": 0
      },
      "text/plain": [
       "Training: 0it [00:00, ?it/s]"
      ]
     },
     "metadata": {},
     "output_type": "display_data"
    },
    {
     "data": {
      "application/vnd.jupyter.widget-view+json": {
       "model_id": "736b5b7152c849548d853de2680cd676",
       "version_major": 2,
       "version_minor": 0
      },
      "text/plain": [
       "Validation: 0it [00:00, ?it/s]"
      ]
     },
     "metadata": {},
     "output_type": "display_data"
    },
    {
     "name": "stdout",
     "output_type": "stream",
     "text": [
      "[[-0.00427246  0.09274292]\n",
      " [ 0.09790039 -0.09713745]\n",
      " [ 0.00643921  0.037323  ]]\n",
      "tensor([[[1.1336e-10, 4.4846e-12, 2.9656e-11,  ..., 5.0024e-11,\n",
      "          6.6144e-11, 2.3139e-11],\n",
      "         [8.6100e-11, 3.3523e-12, 2.2654e-11,  ..., 4.0988e-11,\n",
      "          5.4298e-11, 1.8358e-11]],\n",
      "\n",
      "        [[2.7638e-10, 1.9060e-11, 7.3857e-11,  ..., 1.3651e-10,\n",
      "          1.8403e-10, 6.8545e-11],\n",
      "         [1.2249e-10, 5.4877e-12, 3.2285e-11,  ..., 5.8199e-11,\n",
      "          8.0153e-11, 2.6508e-11]],\n",
      "\n",
      "        [[1.0871e-10, 4.7051e-12, 2.6755e-11,  ..., 4.6809e-11,\n",
      "          6.7930e-11, 2.2558e-11],\n",
      "         [1.0109e-10, 4.1794e-12, 2.3289e-11,  ..., 4.2124e-11,\n",
      "          5.8608e-11, 2.0026e-11]]], device='cuda:0')\n",
      "tensor([[127, 139],\n",
      "        [140, 115],\n",
      "        [128, 132]], device='cuda:0')\n",
      "tensor([[129, 129],\n",
      "        [129, 129],\n",
      "        [129, 129]], device='cuda:0')\n",
      "loss for step 0 : 5.586139537977136\n",
      "epoch 20\n"
     ]
    },
    {
     "data": {
      "application/vnd.jupyter.widget-view+json": {
       "model_id": "45e016b035f64492964ff82f3b10305d",
       "version_major": 2,
       "version_minor": 0
      },
      "text/plain": [
       "Training: 0it [00:00, ?it/s]"
      ]
     },
     "metadata": {},
     "output_type": "display_data"
    },
    {
     "data": {
      "application/vnd.jupyter.widget-view+json": {
       "model_id": "e0fe8e2bf0c24830a5e0a35d8ca3c159",
       "version_major": 2,
       "version_minor": 0
      },
      "text/plain": [
       "Validation: 0it [00:00, ?it/s]"
      ]
     },
     "metadata": {},
     "output_type": "display_data"
    },
    {
     "name": "stdout",
     "output_type": "stream",
     "text": [
      "[[ 0.25842285 -0.14764404]\n",
      " [-0.6793213   0.0163269 ]\n",
      " [ 0.08544922  0.19766235]]\n",
      "tensor([[[1.8205e-08, 3.9075e-09, 9.8065e-09,  ..., 1.4250e-08,\n",
      "          2.0147e-08, 9.9522e-09],\n",
      "         [2.3489e-15, 1.0342e-16, 7.3559e-16,  ..., 1.1294e-15,\n",
      "          1.8914e-15, 7.3310e-16]],\n",
      "\n",
      "        [[1.6895e-08, 3.5146e-09, 8.7427e-09,  ..., 1.2333e-08,\n",
      "          1.7676e-08, 8.9513e-09],\n",
      "         [2.2330e-15, 1.0138e-16, 6.6517e-16,  ..., 1.1278e-15,\n",
      "          1.8394e-15, 6.9283e-16]],\n",
      "\n",
      "        [[1.6817e-08, 3.2365e-09, 8.4054e-09,  ..., 1.1513e-08,\n",
      "          1.7329e-08, 8.2284e-09],\n",
      "         [2.2078e-15, 9.3336e-17, 6.4885e-16,  ..., 1.0407e-15,\n",
      "          1.7743e-15, 6.9123e-16]]], device='cuda:0')\n",
      "tensor([[161, 109],\n",
      "        [ 41, 130],\n",
      "        [138, 153]], device='cuda:0')\n",
      "tensor([[129, 129],\n",
      "        [129, 129],\n",
      "        [129, 129]], device='cuda:0')\n",
      "loss for step 0 : 5.586148353244948\n",
      "epoch 21\n"
     ]
    },
    {
     "data": {
      "application/vnd.jupyter.widget-view+json": {
       "model_id": "2884899dca3c40e7a037800bf6204828",
       "version_major": 2,
       "version_minor": 0
      },
      "text/plain": [
       "Training: 0it [00:00, ?it/s]"
      ]
     },
     "metadata": {},
     "output_type": "display_data"
    },
    {
     "data": {
      "application/vnd.jupyter.widget-view+json": {
       "model_id": "aea5b12ee4bf4d8ebbe4142e1e198a99",
       "version_major": 2,
       "version_minor": 0
      },
      "text/plain": [
       "Validation: 0it [00:00, ?it/s]"
      ]
     },
     "metadata": {},
     "output_type": "display_data"
    },
    {
     "name": "stdout",
     "output_type": "stream",
     "text": [
      "[[-0.32998657 -0.4463501 ]\n",
      " [ 0.33047485  0.55526733]\n",
      " [-0.36849976 -0.5513916 ]]\n",
      "tensor([[[1.5662e-08, 2.9065e-09, 8.2944e-09,  ..., 1.1074e-08,\n",
      "          1.5754e-08, 7.2567e-09],\n",
      "         [1.7713e-15, 6.3845e-17, 5.7641e-16,  ..., 8.5322e-16,\n",
      "          1.4841e-15, 5.0324e-16]],\n",
      "\n",
      "        [[1.5709e-08, 3.0017e-09, 8.0729e-09,  ..., 1.1184e-08,\n",
      "          1.6591e-08, 7.6101e-09],\n",
      "         [1.6541e-15, 6.4350e-17, 5.5872e-16,  ..., 8.2877e-16,\n",
      "          1.3645e-15, 5.3612e-16]],\n",
      "\n",
      "        [[1.6480e-08, 2.8709e-09, 8.4818e-09,  ..., 1.1414e-08,\n",
      "          1.6662e-08, 7.8564e-09],\n",
      "         [1.8661e-15, 6.8732e-17, 6.0183e-16,  ..., 8.8031e-16,\n",
      "          1.4669e-15, 5.4129e-16]]], device='cuda:0')\n",
      "tensor([[ 85,  70],\n",
      "        [170, 199],\n",
      "        [ 80,  57]], device='cuda:0')\n",
      "tensor([[129, 129],\n",
      "        [129, 129],\n",
      "        [129, 129]], device='cuda:0')\n",
      "loss for step 0 : 5.586130162943965\n",
      "epoch 22\n"
     ]
    },
    {
     "data": {
      "application/vnd.jupyter.widget-view+json": {
       "model_id": "f94655849af74a749a3e7376e1c52680",
       "version_major": 2,
       "version_minor": 0
      },
      "text/plain": [
       "Training: 0it [00:00, ?it/s]"
      ]
     },
     "metadata": {},
     "output_type": "display_data"
    },
    {
     "data": {
      "application/vnd.jupyter.widget-view+json": {
       "model_id": "b8425cd2e3674612826892cd01d0e1ca",
       "version_major": 2,
       "version_minor": 0
      },
      "text/plain": [
       "Validation: 0it [00:00, ?it/s]"
      ]
     },
     "metadata": {},
     "output_type": "display_data"
    },
    {
     "name": "stdout",
     "output_type": "stream",
     "text": [
      "[[-0.04360962  0.19934082]\n",
      " [ 0.19662476  0.5199585 ]\n",
      " [-0.50772095 -0.36923218]]\n",
      "tensor([[[2.4378e-09, 4.5053e-10, 8.1594e-10,  ..., 1.7923e-09,\n",
      "          2.4118e-09, 9.5237e-10],\n",
      "         [1.2151e-14, 5.1823e-16, 2.0647e-15,  ..., 7.0830e-15,\n",
      "          9.1210e-15, 2.8601e-15]],\n",
      "\n",
      "        [[2.4834e-09, 4.3365e-10, 8.2931e-10,  ..., 1.7680e-09,\n",
      "          2.5467e-09, 9.8794e-10],\n",
      "         [1.1305e-14, 5.2000e-16, 2.0185e-15,  ..., 6.4671e-15,\n",
      "          8.5028e-15, 2.7800e-15]],\n",
      "\n",
      "        [[2.5714e-09, 4.4895e-10, 8.5581e-10,  ..., 1.8916e-09,\n",
      "          2.5281e-09, 1.0685e-09],\n",
      "         [1.1568e-14, 5.2886e-16, 2.1451e-15,  ..., 6.8073e-15,\n",
      "          9.0723e-15, 2.9988e-15]]], device='cuda:0')\n",
      "tensor([[122, 153],\n",
      "        [153, 194],\n",
      "        [ 63,  80]], device='cuda:0')\n",
      "tensor([[129, 129],\n",
      "        [129, 129],\n",
      "        [129, 129]], device='cuda:0')\n",
      "loss for step 0 : 5.586139256021251\n",
      "epoch 23\n"
     ]
    },
    {
     "data": {
      "application/vnd.jupyter.widget-view+json": {
       "model_id": "33dd412b557b4755845d9d6347f8034c",
       "version_major": 2,
       "version_minor": 0
      },
      "text/plain": [
       "Training: 0it [00:00, ?it/s]"
      ]
     },
     "metadata": {},
     "output_type": "display_data"
    },
    {
     "data": {
      "application/vnd.jupyter.widget-view+json": {
       "model_id": "be631146593a4b8685409bea46abcb41",
       "version_major": 2,
       "version_minor": 0
      },
      "text/plain": [
       "Validation: 0it [00:00, ?it/s]"
      ]
     },
     "metadata": {},
     "output_type": "display_data"
    },
    {
     "name": "stdout",
     "output_type": "stream",
     "text": [
      "[[ 0.3932495   0.04443359]\n",
      " [-0.20062256  0.3748474 ]\n",
      " [ 0.6699219   0.41397095]]\n",
      "tensor([[[3.4642e-09, 6.1789e-10, 1.2049e-09,  ..., 2.5627e-09,\n",
      "          3.5189e-09, 1.4727e-09],\n",
      "         [1.4505e-14, 6.8440e-16, 2.8352e-15,  ..., 9.3119e-15,\n",
      "          1.1397e-14, 3.8026e-15]],\n",
      "\n",
      "        [[3.6110e-09, 6.3983e-10, 1.2436e-09,  ..., 2.7068e-09,\n",
      "          3.3995e-09, 1.4775e-09],\n",
      "         [1.4717e-14, 6.4692e-16, 2.6219e-15,  ..., 8.5331e-15,\n",
      "          1.0211e-14, 3.5171e-15]],\n",
      "\n",
      "        [[3.7009e-09, 6.5439e-10, 1.3301e-09,  ..., 2.7583e-09,\n",
      "          3.5330e-09, 1.4505e-09],\n",
      "         [1.5585e-14, 6.9848e-16, 2.9228e-15,  ..., 8.8723e-15,\n",
      "          1.1839e-14, 3.9025e-15]]], device='cuda:0')\n",
      "tensor([[178, 133],\n",
      "        [102, 175],\n",
      "        [213, 180]], device='cuda:0')\n",
      "tensor([[129, 129],\n",
      "        [129, 129],\n",
      "        [129, 129]], device='cuda:0')\n",
      "loss for step 0 : 5.5861482827559765\n",
      "epoch 24\n"
     ]
    },
    {
     "data": {
      "application/vnd.jupyter.widget-view+json": {
       "model_id": "e396e47a182c42b7b4290e66d9fe215f",
       "version_major": 2,
       "version_minor": 0
      },
      "text/plain": [
       "Training: 0it [00:00, ?it/s]"
      ]
     },
     "metadata": {},
     "output_type": "display_data"
    },
    {
     "data": {
      "application/vnd.jupyter.widget-view+json": {
       "model_id": "de41e01b53744262a3d99f43f0325049",
       "version_major": 2,
       "version_minor": 0
      },
      "text/plain": [
       "Validation: 0it [00:00, ?it/s]"
      ]
     },
     "metadata": {},
     "output_type": "display_data"
    },
    {
     "name": "stdout",
     "output_type": "stream",
     "text": [
      "[[-0.09008789  0.1777649 ]\n",
      " [ 0.11062622 -0.3357544 ]\n",
      " [-0.25967407 -0.17453003]]\n",
      "tensor([[[8.1896e-09, 1.6360e-09, 3.4500e-09,  ..., 7.0216e-09,\n",
      "          8.4473e-09, 4.0165e-09],\n",
      "         [3.3447e-14, 1.6974e-15, 7.2819e-15,  ..., 2.5655e-14,\n",
      "          2.6590e-14, 1.0860e-14]],\n",
      "\n",
      "        [[8.6484e-09, 1.7186e-09, 3.5140e-09,  ..., 7.3682e-09,\n",
      "          9.0354e-09, 4.1558e-09],\n",
      "         [3.2351e-14, 1.7202e-15, 7.2035e-15,  ..., 2.3281e-14,\n",
      "          2.6894e-14, 1.0216e-14]],\n",
      "\n",
      "        [[8.7015e-09, 1.6771e-09, 3.3720e-09,  ..., 7.3806e-09,\n",
      "          8.4881e-09, 4.1039e-09],\n",
      "         [3.2966e-14, 1.6562e-15, 7.5187e-15,  ..., 2.4129e-14,\n",
      "          2.6300e-14, 1.0233e-14]]], device='cuda:0')\n",
      "tensor([[116, 150],\n",
      "        [142,  85],\n",
      "        [ 94, 105]], device='cuda:0')\n",
      "tensor([[129, 129],\n",
      "        [129, 129],\n",
      "        [129, 129]], device='cuda:0')\n",
      "loss for step 0 : 5.586129599032195\n",
      "epoch 25\n"
     ]
    },
    {
     "data": {
      "application/vnd.jupyter.widget-view+json": {
       "model_id": "70499ee593b045d69908730f2f670bc1",
       "version_major": 2,
       "version_minor": 0
      },
      "text/plain": [
       "Training: 0it [00:00, ?it/s]"
      ]
     },
     "metadata": {},
     "output_type": "display_data"
    },
    {
     "data": {
      "application/vnd.jupyter.widget-view+json": {
       "model_id": "72fee0459dc54db9b2823fe4f0d907f9",
       "version_major": 2,
       "version_minor": 0
      },
      "text/plain": [
       "Validation: 0it [00:00, ?it/s]"
      ]
     },
     "metadata": {},
     "output_type": "display_data"
    },
    {
     "name": "stdout",
     "output_type": "stream",
     "text": [
      "[[ 0.103302   -0.19018555]\n",
      " [-0.01809692 -0.53411865]\n",
      " [-0.0300293  -0.13287354]]\n",
      "tensor([[[2.3906e-07, 1.1836e-07, 1.5040e-07,  ..., 2.7584e-07,\n",
      "          2.5608e-07, 1.6534e-07],\n",
      "         [5.3965e-20, 4.4268e-21, 1.4318e-20,  ..., 9.1777e-20,\n",
      "          4.2941e-20, 2.0495e-20]],\n",
      "\n",
      "        [[2.3080e-07, 1.1842e-07, 1.4937e-07,  ..., 2.5453e-07,\n",
      "          2.5274e-07, 1.5879e-07],\n",
      "         [4.6833e-20, 4.0860e-21, 1.2409e-20,  ..., 8.2432e-20,\n",
      "          3.9184e-20, 1.8561e-20]],\n",
      "\n",
      "        [[2.4914e-07, 1.2258e-07, 1.5102e-07,  ..., 2.8167e-07,\n",
      "          2.7888e-07, 1.6877e-07],\n",
      "         [5.3641e-20, 4.1993e-21, 1.2879e-20,  ..., 8.7469e-20,\n",
      "          4.2068e-20, 1.9366e-20]]], device='cuda:0')\n",
      "tensor([[141, 103],\n",
      "        [125,  59],\n",
      "        [124, 110]], device='cuda:0')\n",
      "tensor([[129, 129],\n",
      "        [129, 129],\n",
      "        [129, 129]], device='cuda:0')\n",
      "loss for step 0 : 5.586064508686895\n",
      "epoch 26\n"
     ]
    },
    {
     "data": {
      "application/vnd.jupyter.widget-view+json": {
       "model_id": "60329f3343f148a58864340176e275f1",
       "version_major": 2,
       "version_minor": 0
      },
      "text/plain": [
       "Training: 0it [00:00, ?it/s]"
      ]
     },
     "metadata": {},
     "output_type": "display_data"
    },
    {
     "data": {
      "application/vnd.jupyter.widget-view+json": {
       "model_id": "00b63bac838147a7823a2efa839ef538",
       "version_major": 2,
       "version_minor": 0
      },
      "text/plain": [
       "Validation: 0it [00:00, ?it/s]"
      ]
     },
     "metadata": {},
     "output_type": "display_data"
    },
    {
     "name": "stdout",
     "output_type": "stream",
     "text": [
      "[[ 0.03082275 -0.24685669]\n",
      " [-0.08218384  0.28363037]\n",
      " [-0.02377319 -0.1378479 ]]\n",
      "tensor([[[1.2254e-04, 9.1994e-05, 1.0566e-04,  ..., 1.2856e-04,\n",
      "          1.2145e-04, 1.0963e-04],\n",
      "         [3.1304e-23, 5.9546e-24, 8.0978e-24,  ..., 4.6725e-23,\n",
      "          1.3126e-23, 1.8871e-23]],\n",
      "\n",
      "        [[1.2856e-04, 9.6215e-05, 1.0866e-04,  ..., 1.3878e-04,\n",
      "          1.3034e-04, 1.1471e-04],\n",
      "         [2.7247e-23, 5.2934e-24, 7.4459e-24,  ..., 4.7384e-23,\n",
      "          1.3053e-23, 1.8001e-23]],\n",
      "\n",
      "        [[1.2593e-04, 9.6792e-05, 1.1286e-04,  ..., 1.3405e-04,\n",
      "          1.2904e-04, 1.1631e-04],\n",
      "         [2.6967e-23, 4.8160e-24, 6.9790e-24,  ..., 4.0915e-23,\n",
      "          1.1959e-23, 1.6727e-23]]], device='cuda:0')\n",
      "tensor([[131,  96],\n",
      "        [117, 164],\n",
      "        [124, 110]], device='cuda:0')\n",
      "tensor([[128, 128],\n",
      "        [128, 128],\n",
      "        [128, 128]], device='cuda:0')\n",
      "loss for step 0 : 5.584008639791738\n",
      "epoch 27\n"
     ]
    },
    {
     "data": {
      "application/vnd.jupyter.widget-view+json": {
       "model_id": "a23286404b0f4ce3ad883192c30fbc6c",
       "version_major": 2,
       "version_minor": 0
      },
      "text/plain": [
       "Training: 0it [00:00, ?it/s]"
      ]
     },
     "metadata": {},
     "output_type": "display_data"
    },
    {
     "data": {
      "application/vnd.jupyter.widget-view+json": {
       "model_id": "dabd8ef4907c410c9f2ffb1d8b350660",
       "version_major": 2,
       "version_minor": 0
      },
      "text/plain": [
       "Validation: 0it [00:00, ?it/s]"
      ]
     },
     "metadata": {},
     "output_type": "display_data"
    },
    {
     "name": "stdout",
     "output_type": "stream",
     "text": [
      "[[ 0.0435791   0.07873535]\n",
      " [ 0.21472168  0.46810913]\n",
      " [-0.10675049  0.05996704]]\n",
      "tensor([[[4.7456e-06, 2.8882e-06, 3.5769e-06,  ..., 4.8475e-06,\n",
      "          4.0879e-06, 3.7112e-06],\n",
      "         [1.5435e-14, 4.5104e-15, 7.3897e-15,  ..., 2.0429e-14,\n",
      "          1.1762e-14, 9.7321e-15]],\n",
      "\n",
      "        [[5.5440e-06, 3.1599e-06, 4.1068e-06,  ..., 5.6395e-06,\n",
      "          5.2206e-06, 4.1538e-06],\n",
      "         [1.6451e-14, 4.9408e-15, 7.4663e-15,  ..., 1.9767e-14,\n",
      "          1.2209e-14, 1.0494e-14]],\n",
      "\n",
      "        [[5.2380e-06, 3.2871e-06, 3.9067e-06,  ..., 5.3010e-06,\n",
      "          4.6381e-06, 4.2017e-06],\n",
      "         [1.7292e-14, 5.2003e-15, 8.1431e-15,  ..., 2.1862e-14,\n",
      "          1.4125e-14, 1.1218e-14]]], device='cuda:0')\n",
      "tensor([[133, 138],\n",
      "        [155, 187],\n",
      "        [114, 135]], device='cuda:0')\n",
      "tensor([[129, 129],\n",
      "        [129, 129],\n",
      "        [129, 129]], device='cuda:0')\n",
      "loss for step 0 : 5.584788144153097\n",
      "epoch 28\n"
     ]
    },
    {
     "data": {
      "application/vnd.jupyter.widget-view+json": {
       "model_id": "437c9f7f37ae4168b503f7bf48eec329",
       "version_major": 2,
       "version_minor": 0
      },
      "text/plain": [
       "Training: 0it [00:00, ?it/s]"
      ]
     },
     "metadata": {},
     "output_type": "display_data"
    },
    {
     "data": {
      "application/vnd.jupyter.widget-view+json": {
       "model_id": "c7fef8c1cb3a46d7839dfdf255a63d2d",
       "version_major": 2,
       "version_minor": 0
      },
      "text/plain": [
       "Validation: 0it [00:00, ?it/s]"
      ]
     },
     "metadata": {},
     "output_type": "display_data"
    },
    {
     "name": "stdout",
     "output_type": "stream",
     "text": [
      "[[-0.11672974 -0.18936157]\n",
      " [-0.03182983 -0.09634399]\n",
      " [-0.7131958  -0.64663696]]\n",
      "tensor([[[9.5306e-06, 5.8825e-06, 7.0652e-06,  ..., 8.3440e-06,\n",
      "          8.1509e-06, 7.4111e-06],\n",
      "         [1.4659e-14, 5.4324e-15, 8.2447e-15,  ..., 2.5005e-14,\n",
      "          1.6873e-14, 1.0749e-14]],\n",
      "\n",
      "        [[1.0622e-05, 7.0592e-06, 8.1331e-06,  ..., 1.0993e-05,\n",
      "          9.9487e-06, 8.8781e-06],\n",
      "         [1.3733e-14, 5.4677e-15, 7.6795e-15,  ..., 2.3589e-14,\n",
      "          1.4530e-14, 1.0083e-14]],\n",
      "\n",
      "        [[1.0835e-05, 7.0656e-06, 8.3329e-06,  ..., 1.1022e-05,\n",
      "          9.6756e-06, 8.8738e-06],\n",
      "         [1.2212e-14, 4.9512e-15, 7.1834e-15,  ..., 2.2999e-14,\n",
      "          1.5496e-14, 9.2692e-15]]], device='cuda:0')\n",
      "tensor([[113, 103],\n",
      "        [123, 115],\n",
      "        [ 36,  45]], device='cuda:0')\n",
      "tensor([[128, 129],\n",
      "        [129, 129],\n",
      "        [129, 129]], device='cuda:0')\n",
      "loss for step 0 : 5.584299137281335\n",
      "epoch 29\n"
     ]
    },
    {
     "data": {
      "application/vnd.jupyter.widget-view+json": {
       "model_id": "e440ab5ceb1543b5844fdfc33e4b0a14",
       "version_major": 2,
       "version_minor": 0
      },
      "text/plain": [
       "Training: 0it [00:00, ?it/s]"
      ]
     },
     "metadata": {},
     "output_type": "display_data"
    },
    {
     "data": {
      "application/vnd.jupyter.widget-view+json": {
       "model_id": "88cc0f92154447a7b09bd80ab178a101",
       "version_major": 2,
       "version_minor": 0
      },
      "text/plain": [
       "Validation: 0it [00:00, ?it/s]"
      ]
     },
     "metadata": {},
     "output_type": "display_data"
    },
    {
     "name": "stdout",
     "output_type": "stream",
     "text": [
      "[[ 0.19378662  0.638916  ]\n",
      " [-0.07131958 -0.22805786]\n",
      " [-0.00152588  0.25543213]]\n",
      "tensor([[[6.0019e-09, 3.2150e-09, 4.2252e-09,  ..., 6.4580e-09,\n",
      "          5.5168e-09, 4.3353e-09],\n",
      "         [2.1464e-13, 9.4221e-14, 1.3301e-13,  ..., 3.7633e-13,\n",
      "          3.0976e-13, 1.4607e-13]],\n",
      "\n",
      "        [[3.9188e-09, 1.9588e-09, 2.4773e-09,  ..., 3.3642e-09,\n",
      "          2.9614e-09, 2.7641e-09],\n",
      "         [1.8650e-13, 8.7054e-14, 1.1898e-13,  ..., 2.9198e-13,\n",
      "          2.2935e-13, 1.2990e-13]],\n",
      "\n",
      "        [[1.0859e-08, 6.0424e-09, 7.9421e-09,  ..., 1.5112e-08,\n",
      "          1.3935e-08, 8.0340e-09],\n",
      "         [2.0108e-13, 8.4947e-14, 1.2426e-13,  ..., 3.2020e-13,\n",
      "          2.5949e-13, 1.3520e-13]]], device='cuda:0')\n",
      "tensor([[152, 209],\n",
      "        [118,  98],\n",
      "        [127, 160]], device='cuda:0')\n",
      "tensor([[129, 129],\n",
      "        [129, 129],\n",
      "        [129, 129]], device='cuda:0')\n",
      "loss for step 0 : 5.585287711931311\n",
      "epoch 30\n"
     ]
    },
    {
     "data": {
      "application/vnd.jupyter.widget-view+json": {
       "model_id": "abd10b959c504d248047f473ae54ee96",
       "version_major": 2,
       "version_minor": 0
      },
      "text/plain": [
       "Training: 0it [00:00, ?it/s]"
      ]
     },
     "metadata": {},
     "output_type": "display_data"
    },
    {
     "data": {
      "application/vnd.jupyter.widget-view+json": {
       "model_id": "9b1b929e9b224f63b8d0db8e5de79e1b",
       "version_major": 2,
       "version_minor": 0
      },
      "text/plain": [
       "Validation: 0it [00:00, ?it/s]"
      ]
     },
     "metadata": {},
     "output_type": "display_data"
    },
    {
     "name": "stdout",
     "output_type": "stream",
     "text": [
      "[[ 0.49346924  0.3227539 ]\n",
      " [-0.02279663 -0.07421875]\n",
      " [ 0.07711792 -0.02871704]]\n",
      "tensor([[[1.5959e-07, 9.2923e-08, 1.1590e-07,  ..., 1.4693e-07,\n",
      "          1.2430e-07, 1.2255e-07],\n",
      "         [6.9083e-11, 4.0018e-11, 5.9211e-11,  ..., 1.6421e-10,\n",
      "          1.7000e-10, 6.2301e-11]],\n",
      "\n",
      "        [[1.2867e-07, 8.2805e-08, 1.0019e-07,  ..., 1.5941e-07,\n",
      "          1.4645e-07, 1.0546e-07],\n",
      "         [6.7134e-11, 2.8799e-11, 3.8552e-11,  ..., 5.0434e-11,\n",
      "          3.7812e-11, 4.6424e-11]],\n",
      "\n",
      "        [[1.8286e-07, 1.1758e-07, 1.4287e-07,  ..., 2.1727e-07,\n",
      "          1.9642e-07, 1.4526e-07],\n",
      "         [6.8690e-11, 3.7345e-11, 5.8208e-11,  ..., 1.6856e-10,\n",
      "          1.9397e-10, 6.4079e-11]]], device='cuda:0')\n",
      "tensor([[191, 169],\n",
      "        [125, 118],\n",
      "        [137, 124]], device='cuda:0')\n",
      "tensor([[128, 129],\n",
      "        [129, 128],\n",
      "        [129, 129]], device='cuda:0')\n",
      "loss for step 0 : 5.585227294590162\n",
      "epoch 31\n"
     ]
    },
    {
     "data": {
      "application/vnd.jupyter.widget-view+json": {
       "model_id": "8e77ebe645874de8a9a74ea89fdf8486",
       "version_major": 2,
       "version_minor": 0
      },
      "text/plain": [
       "Training: 0it [00:00, ?it/s]"
      ]
     },
     "metadata": {},
     "output_type": "display_data"
    },
    {
     "data": {
      "application/vnd.jupyter.widget-view+json": {
       "model_id": "7ef939ab2c9c42e1ae15f4ce9f1f675b",
       "version_major": 2,
       "version_minor": 0
      },
      "text/plain": [
       "Validation: 0it [00:00, ?it/s]"
      ]
     },
     "metadata": {},
     "output_type": "display_data"
    },
    {
     "name": "stdout",
     "output_type": "stream",
     "text": [
      "[[-0.58740234 -0.49490356]\n",
      " [ 0.42410278  0.29690552]\n",
      " [-0.03955078 -0.09347534]]\n",
      "tensor([[[8.6663e-09, 4.2529e-09, 5.2662e-09,  ..., 5.6850e-09,\n",
      "          4.6740e-09, 5.4493e-09],\n",
      "         [1.1768e-11, 6.5145e-12, 8.3344e-12,  ..., 1.9266e-11,\n",
      "          1.7158e-11, 8.3231e-12]],\n",
      "\n",
      "        [[1.4718e-08, 8.0328e-09, 9.2108e-09,  ..., 1.1269e-08,\n",
      "          9.7314e-09, 9.4781e-09],\n",
      "         [8.6435e-12, 4.5047e-12, 6.3945e-12,  ..., 1.7859e-11,\n",
      "          1.8213e-11, 6.8793e-12]],\n",
      "\n",
      "        [[8.7604e-09, 4.1136e-09, 5.3562e-09,  ..., 5.3355e-09,\n",
      "          4.2735e-09, 5.3470e-09],\n",
      "         [9.4796e-12, 4.9879e-12, 6.9307e-12,  ..., 1.9704e-11,\n",
      "          2.0986e-11, 7.1513e-12]]], device='cuda:0')\n",
      "tensor([[ 52,  64],\n",
      "        [182, 166],\n",
      "        [122, 116]], device='cuda:0')\n",
      "tensor([[128, 129],\n",
      "        [128, 129],\n",
      "        [128, 129]], device='cuda:0')\n",
      "loss for step 0 : 5.585837683470353\n",
      "epoch 32\n"
     ]
    },
    {
     "data": {
      "application/vnd.jupyter.widget-view+json": {
       "model_id": "147b0b61906f419591e1875eb6629b1a",
       "version_major": 2,
       "version_minor": 0
      },
      "text/plain": [
       "Training: 0it [00:00, ?it/s]"
      ]
     },
     "metadata": {},
     "output_type": "display_data"
    },
    {
     "data": {
      "application/vnd.jupyter.widget-view+json": {
       "model_id": "d8c81c0fb637432193247447e8798296",
       "version_major": 2,
       "version_minor": 0
      },
      "text/plain": [
       "Validation: 0it [00:00, ?it/s]"
      ]
     },
     "metadata": {},
     "output_type": "display_data"
    },
    {
     "name": "stdout",
     "output_type": "stream",
     "text": [
      "[[ 0.29309082  0.1383667 ]\n",
      " [ 0.10903931  0.70910645]\n",
      " [-0.22268677  0.12072754]]\n",
      "tensor([[[7.4362e-06, 5.5169e-06, 5.5301e-06,  ..., 8.7558e-06,\n",
      "          9.9769e-06, 5.5697e-06],\n",
      "         [3.7236e-09, 2.4417e-09, 2.4981e-09,  ..., 3.3780e-09,\n",
      "          2.9088e-09, 2.8784e-09]],\n",
      "\n",
      "        [[5.3543e-09, 3.7957e-09, 3.1495e-09,  ..., 2.8350e-09,\n",
      "          3.6892e-09, 6.3570e-09],\n",
      "         [2.2473e-08, 1.2506e-08, 1.3453e-08,  ..., 3.0340e-08,\n",
      "          3.5479e-08, 1.3296e-08]],\n",
      "\n",
      "        [[9.6919e-06, 6.5601e-06, 6.3321e-06,  ..., 1.1040e-05,\n",
      "          1.3256e-05, 5.7515e-06],\n",
      "         [2.0467e-08, 1.1218e-08, 1.1706e-08,  ..., 2.5992e-08,\n",
      "          3.1085e-08, 1.0968e-08]]], device='cuda:0')\n",
      "tensor([[165, 145],\n",
      "        [141, 218],\n",
      "        [ 99, 143]], device='cuda:0')\n",
      "tensor([[129, 128],\n",
      "        [128, 129],\n",
      "        [129, 129]], device='cuda:0')\n",
      "loss for step 0 : 5.58573866305144\n",
      "epoch 33\n"
     ]
    },
    {
     "data": {
      "application/vnd.jupyter.widget-view+json": {
       "model_id": "f1b713c9c1b14f6f885cc7398effc2b7",
       "version_major": 2,
       "version_minor": 0
      },
      "text/plain": [
       "Training: 0it [00:00, ?it/s]"
      ]
     },
     "metadata": {},
     "output_type": "display_data"
    },
    {
     "data": {
      "application/vnd.jupyter.widget-view+json": {
       "model_id": "98f6dd6739fc44648ae9ef9627b4fb2a",
       "version_major": 2,
       "version_minor": 0
      },
      "text/plain": [
       "Validation: 0it [00:00, ?it/s]"
      ]
     },
     "metadata": {},
     "output_type": "display_data"
    },
    {
     "name": "stdout",
     "output_type": "stream",
     "text": [
      "[[ 0.08569336  0.2013855 ]\n",
      " [-0.3776245   0.07043457]\n",
      " [ 0.32928467 -0.01519775]]\n",
      "tensor([[[2.3533e-07, 1.3616e-07, 1.4648e-07,  ..., 2.5398e-07,\n",
      "          3.4745e-07, 1.2787e-07],\n",
      "         [3.7188e-07, 3.0893e-07, 2.5381e-07,  ..., 3.4365e-07,\n",
      "          3.1724e-07, 3.1090e-07]],\n",
      "\n",
      "        [[1.7122e-07, 1.4110e-07, 1.1377e-07,  ..., 1.2599e-07,\n",
      "          1.2350e-07, 1.6005e-07],\n",
      "         [1.3875e-07, 8.0465e-08, 8.8092e-08,  ..., 1.5574e-07,\n",
      "          1.9789e-07, 8.5596e-08]],\n",
      "\n",
      "        [[4.5731e-07, 2.6945e-07, 2.7653e-07,  ..., 4.7152e-07,\n",
      "          6.5328e-07, 2.4026e-07],\n",
      "         [1.5574e-07, 1.3677e-07, 1.0847e-07,  ..., 1.3783e-07,\n",
      "          1.3406e-07, 1.5453e-07]]], device='cuda:0')\n",
      "tensor([[138, 153],\n",
      "        [ 79, 137],\n",
      "        [170, 126]], device='cuda:0')\n",
      "tensor([[129, 128],\n",
      "        [128, 129],\n",
      "        [129, 128]], device='cuda:0')\n",
      "loss for step 0 : 5.58535501231318\n",
      "epoch 34\n"
     ]
    },
    {
     "data": {
      "application/vnd.jupyter.widget-view+json": {
       "model_id": "cbb3328dd190430aa10ce98d91d18813",
       "version_major": 2,
       "version_minor": 0
      },
      "text/plain": [
       "Training: 0it [00:00, ?it/s]"
      ]
     },
     "metadata": {},
     "output_type": "display_data"
    },
    {
     "data": {
      "application/vnd.jupyter.widget-view+json": {
       "model_id": "1f61781a20d4424aaa435ed042d468b1",
       "version_major": 2,
       "version_minor": 0
      },
      "text/plain": [
       "Validation: 0it [00:00, ?it/s]"
      ]
     },
     "metadata": {},
     "output_type": "display_data"
    },
    {
     "name": "stdout",
     "output_type": "stream",
     "text": [
      "[[ 0.11645508  0.38427734]\n",
      " [-0.17419434 -0.09985352]\n",
      " [-0.27539062 -0.38656616]]\n",
      "tensor([[[9.0288e-08, 5.3007e-08, 5.6737e-08,  ..., 1.1306e-07,\n",
      "          1.4947e-07, 5.4478e-08],\n",
      "         [3.2542e-10, 1.5973e-10, 1.5944e-10,  ..., 5.0303e-10,\n",
      "          1.6252e-09, 2.1923e-10]],\n",
      "\n",
      "        [[3.7665e-07, 2.6989e-07, 2.7252e-07,  ..., 4.0666e-07,\n",
      "          3.6751e-07, 2.9134e-07],\n",
      "         [9.1136e-09, 4.5933e-09, 5.1358e-09,  ..., 1.1616e-08,\n",
      "          2.6812e-08, 5.5960e-09]],\n",
      "\n",
      "        [[2.5796e-08, 1.4580e-08, 1.6484e-08,  ..., 3.7302e-08,\n",
      "          5.6208e-08, 1.7199e-08],\n",
      "         [9.2781e-08, 8.1621e-08, 6.4067e-08,  ..., 8.4204e-08,\n",
      "          7.6823e-08, 9.0427e-08]]], device='cuda:0')\n",
      "tensor([[142, 177],\n",
      "        [105, 115],\n",
      "        [ 92,  78]], device='cuda:0')\n",
      "tensor([[129, 129],\n",
      "        [127, 129],\n",
      "        [129, 128]], device='cuda:0')\n",
      "loss for step 0 : 5.585051644366721\n",
      "epoch 35\n"
     ]
    },
    {
     "data": {
      "application/vnd.jupyter.widget-view+json": {
       "model_id": "d2be52258c8c4aadac4a3567c62ef7a8",
       "version_major": 2,
       "version_minor": 0
      },
      "text/plain": [
       "Training: 0it [00:00, ?it/s]"
      ]
     },
     "metadata": {},
     "output_type": "display_data"
    },
    {
     "data": {
      "application/vnd.jupyter.widget-view+json": {
       "model_id": "51c9d3e254d64e378f5bb2ade342b93c",
       "version_major": 2,
       "version_minor": 0
      },
      "text/plain": [
       "Validation: 0it [00:00, ?it/s]"
      ]
     },
     "metadata": {},
     "output_type": "display_data"
    },
    {
     "name": "stdout",
     "output_type": "stream",
     "text": [
      "[[-0.3923645  -0.8734436 ]\n",
      " [-0.01446533  0.5761719 ]\n",
      " [ 0.08300781 -0.02087402]]\n",
      "tensor([[[3.3938e-07, 2.3026e-07, 2.7001e-07,  ..., 3.7767e-07,\n",
      "          3.9070e-07, 2.8973e-07],\n",
      "         [1.0558e-06, 8.0034e-07, 8.4331e-07,  ..., 1.0403e-06,\n",
      "          9.7403e-07, 9.6260e-07]],\n",
      "\n",
      "        [[3.3950e-06, 2.7651e-06, 2.5677e-06,  ..., 3.0684e-06,\n",
      "          3.0588e-06, 3.0285e-06],\n",
      "         [4.9544e-10, 3.0667e-10, 2.7759e-10,  ..., 5.3335e-10,\n",
      "          1.3868e-09, 4.4502e-10]],\n",
      "\n",
      "        [[5.5118e-08, 3.6803e-08, 3.5471e-08,  ..., 6.4456e-08,\n",
      "          1.0513e-07, 4.5401e-08],\n",
      "         [1.7940e-12, 1.0487e-12, 8.1258e-13,  ..., 2.0981e-12,\n",
      "          1.0411e-11, 1.6570e-12]]], device='cuda:0')\n",
      "tensor([[ 77,  16],\n",
      "        [126, 201],\n",
      "        [138, 125]], device='cuda:0')\n",
      "tensor([[127, 127],\n",
      "        [127, 129],\n",
      "        [129, 129]], device='cuda:0')\n",
      "loss for step 0 : 5.585367795695429\n",
      "epoch 36\n"
     ]
    },
    {
     "data": {
      "application/vnd.jupyter.widget-view+json": {
       "model_id": "c6b1174d88634fddb3742b9d7095a21a",
       "version_major": 2,
       "version_minor": 0
      },
      "text/plain": [
       "Training: 0it [00:00, ?it/s]"
      ]
     },
     "metadata": {},
     "output_type": "display_data"
    },
    {
     "data": {
      "application/vnd.jupyter.widget-view+json": {
       "model_id": "4f2e7558ed5141e9a87c576627802c58",
       "version_major": 2,
       "version_minor": 0
      },
      "text/plain": [
       "Validation: 0it [00:00, ?it/s]"
      ]
     },
     "metadata": {},
     "output_type": "display_data"
    },
    {
     "name": "stdout",
     "output_type": "stream",
     "text": [
      "[[ 0.22079468  0.5149231 ]\n",
      " [-0.0383606  -0.14193726]\n",
      " [ 0.18127441 -0.19769287]]\n",
      "tensor([[[2.0866e-19, 1.9003e-18, 1.1140e-19,  ..., 2.2167e-19,\n",
      "          1.5968e-18, 1.8434e-18],\n",
      "         [7.2202e-07, 6.8315e-07, 5.3883e-07,  ..., 6.5426e-07,\n",
      "          5.8963e-07, 7.5161e-07]],\n",
      "\n",
      "        [[2.0636e-07, 1.3354e-07, 1.5531e-07,  ..., 2.3255e-07,\n",
      "          2.7191e-07, 1.9184e-07],\n",
      "         [1.5890e-11, 1.0166e-11, 8.6103e-12,  ..., 1.9635e-11,\n",
      "          1.4007e-10, 2.1578e-11]],\n",
      "\n",
      "        [[3.6138e-07, 2.4009e-07, 2.6109e-07,  ..., 3.6332e-07,\n",
      "          3.4978e-07, 2.8716e-07],\n",
      "         [9.2092e-07, 8.4515e-07, 6.9728e-07,  ..., 8.6413e-07,\n",
      "          8.2810e-07, 9.2674e-07]]], device='cuda:0')\n",
      "tensor([[156, 193],\n",
      "        [123, 109],\n",
      "        [151, 102]], device='cuda:0')\n",
      "tensor([[128, 128],\n",
      "        [129, 129],\n",
      "        [127, 127]], device='cuda:0')\n",
      "loss for step 0 : 5.585076419166897\n",
      "epoch 37\n"
     ]
    },
    {
     "data": {
      "application/vnd.jupyter.widget-view+json": {
       "model_id": "f6422e436ba04b38a27a084475a23d1b",
       "version_major": 2,
       "version_minor": 0
      },
      "text/plain": [
       "Training: 0it [00:00, ?it/s]"
      ]
     },
     "metadata": {},
     "output_type": "display_data"
    },
    {
     "data": {
      "application/vnd.jupyter.widget-view+json": {
       "model_id": "371d0eeaf6fb499fb3ac64b4a82cdfa6",
       "version_major": 2,
       "version_minor": 0
      },
      "text/plain": [
       "Validation: 0it [00:00, ?it/s]"
      ]
     },
     "metadata": {},
     "output_type": "display_data"
    },
    {
     "name": "stdout",
     "output_type": "stream",
     "text": [
      "[[-0.13223267  0.42388916]\n",
      " [ 0.40679932  0.35263062]\n",
      " [ 0.19015503 -0.03887939]]\n",
      "tensor([[[7.2105e-08, 4.3808e-08, 4.9397e-08,  ..., 6.8833e-08,\n",
      "          7.3105e-08, 6.2042e-08],\n",
      "         [8.0819e-09, 4.7883e-09, 4.9661e-09,  ..., 7.7027e-09,\n",
      "          1.5401e-08, 6.8812e-09]],\n",
      "\n",
      "        [[6.8331e-08, 5.0669e-08, 5.2575e-08,  ..., 6.6609e-08,\n",
      "          5.3337e-08, 6.4776e-08],\n",
      "         [1.5610e-09, 9.4666e-10, 9.3788e-10,  ..., 1.5606e-09,\n",
      "          3.3733e-09, 1.3829e-09]],\n",
      "\n",
      "        [[2.4202e-07, 2.1435e-07, 1.8221e-07,  ..., 2.4282e-07,\n",
      "          2.1432e-07, 2.4288e-07],\n",
      "         [4.6198e-07, 3.1967e-07, 3.3311e-07,  ..., 4.3651e-07,\n",
      "          3.9513e-07, 4.0600e-07]]], device='cuda:0')\n",
      "tensor([[111, 182],\n",
      "        [180, 173],\n",
      "        [152, 123]], device='cuda:0')\n",
      "tensor([[127, 129],\n",
      "        [127, 129],\n",
      "        [127, 127]], device='cuda:0')\n",
      "loss for step 0 : 5.585780110566512\n",
      "epoch 38\n"
     ]
    },
    {
     "data": {
      "application/vnd.jupyter.widget-view+json": {
       "model_id": "8ece4f42ba134f9a9444310ef59f9620",
       "version_major": 2,
       "version_minor": 0
      },
      "text/plain": [
       "Training: 0it [00:00, ?it/s]"
      ]
     },
     "metadata": {},
     "output_type": "display_data"
    },
    {
     "data": {
      "application/vnd.jupyter.widget-view+json": {
       "model_id": "8f8555b1329c4f9891cf7cbecd48f13d",
       "version_major": 2,
       "version_minor": 0
      },
      "text/plain": [
       "Validation: 0it [00:00, ?it/s]"
      ]
     },
     "metadata": {},
     "output_type": "display_data"
    },
    {
     "name": "stdout",
     "output_type": "stream",
     "text": [
      "[[ 0.11956787 -0.34005737]\n",
      " [-0.01873779  0.13815308]\n",
      " [ 0.21948242 -0.1437378 ]]\n",
      "tensor([[[8.2920e-08, 5.4275e-08, 5.5769e-08,  ..., 7.7484e-08,\n",
      "          6.3945e-08, 7.1333e-08],\n",
      "         [1.3153e-12, 8.1297e-13, 6.0257e-13,  ..., 9.7979e-13,\n",
      "          5.8768e-12, 1.4628e-12]],\n",
      "\n",
      "        [[1.2214e-07, 8.7852e-08, 8.3885e-08,  ..., 1.1126e-07,\n",
      "          9.4910e-08, 1.0999e-07],\n",
      "         [1.5936e-10, 1.0271e-10, 8.5561e-11,  ..., 1.3659e-10,\n",
      "          4.6879e-10, 1.8236e-10]],\n",
      "\n",
      "        [[1.1311e-07, 8.4684e-08, 8.0693e-08,  ..., 1.1477e-07,\n",
      "          8.9645e-08, 1.0429e-07],\n",
      "         [2.7347e-14, 1.9297e-14, 1.2275e-14,  ..., 1.8492e-14,\n",
      "          2.2323e-13, 3.1110e-14]]], device='cuda:0')\n",
      "tensor([[143,  84],\n",
      "        [125, 145],\n",
      "        [156, 109]], device='cuda:0')\n",
      "tensor([[127, 129],\n",
      "        [127, 129],\n",
      "        [127, 129]], device='cuda:0')\n",
      "loss for step 0 : 5.585544291786525\n",
      "epoch 39\n"
     ]
    },
    {
     "data": {
      "application/vnd.jupyter.widget-view+json": {
       "model_id": "1cfd7c1e796a47b19b4e534aa8db44b4",
       "version_major": 2,
       "version_minor": 0
      },
      "text/plain": [
       "Training: 0it [00:00, ?it/s]"
      ]
     },
     "metadata": {},
     "output_type": "display_data"
    },
    {
     "data": {
      "application/vnd.jupyter.widget-view+json": {
       "model_id": "2aecae93f22e4474a1a5febf332ff4a7",
       "version_major": 2,
       "version_minor": 0
      },
      "text/plain": [
       "Validation: 0it [00:00, ?it/s]"
      ]
     },
     "metadata": {},
     "output_type": "display_data"
    },
    {
     "name": "stdout",
     "output_type": "stream",
     "text": [
      "[[ 0.28463745 -0.45074463]\n",
      " [-0.36386108  0.06484985]\n",
      " [ 0.0954895   0.02990723]]\n",
      "tensor([[[1.2465e-07, 7.6027e-08, 7.3899e-08,  ..., 1.1192e-07,\n",
      "          1.2727e-07, 1.0327e-07],\n",
      "         [2.0887e-09, 4.7635e-09, 1.5806e-09,  ..., 2.0594e-09,\n",
      "          3.9973e-09, 3.5461e-09]],\n",
      "\n",
      "        [[2.2255e-09, 1.4200e-09, 1.1900e-09,  ..., 1.8010e-09,\n",
      "          4.0996e-09, 2.1951e-09],\n",
      "         [1.1996e-17, 1.2818e-17, 5.1533e-18,  ..., 9.7781e-18,\n",
      "          2.7086e-16, 2.0209e-17]],\n",
      "\n",
      "        [[1.3796e-07, 1.6744e-07, 1.0101e-07,  ..., 1.4408e-07,\n",
      "          1.4057e-07, 1.6072e-07],\n",
      "         [3.4018e-06, 2.8116e-06, 2.5798e-06,  ..., 3.4377e-06,\n",
      "          2.9109e-06, 2.9750e-06]]], device='cuda:0')\n",
      "tensor([[164,  70],\n",
      "        [ 81, 136],\n",
      "        [140, 131]], device='cuda:0')\n",
      "tensor([[127, 128],\n",
      "        [129, 129],\n",
      "        [128, 127]], device='cuda:0')\n",
      "loss for step 0 : 5.585866384920867\n",
      "epoch 40\n"
     ]
    },
    {
     "data": {
      "application/vnd.jupyter.widget-view+json": {
       "model_id": "b97b94e10019412e92352489e6516acf",
       "version_major": 2,
       "version_minor": 0
      },
      "text/plain": [
       "Training: 0it [00:00, ?it/s]"
      ]
     },
     "metadata": {},
     "output_type": "display_data"
    },
    {
     "data": {
      "application/vnd.jupyter.widget-view+json": {
       "model_id": "50494c9e7f134ffe9a52e61a87b99b93",
       "version_major": 2,
       "version_minor": 0
      },
      "text/plain": [
       "Validation: 0it [00:00, ?it/s]"
      ]
     },
     "metadata": {},
     "output_type": "display_data"
    },
    {
     "name": "stdout",
     "output_type": "stream",
     "text": [
      "[[ 0.04489136  0.24035645]\n",
      " [-0.04360962  0.19934082]\n",
      " [-0.2144165  -0.46746826]]\n",
      "tensor([[[1.6548e-07, 1.7414e-07, 1.2079e-07,  ..., 1.7889e-07,\n",
      "          1.5596e-07, 1.8643e-07],\n",
      "         [8.4073e-10, 5.6672e-10, 4.8291e-10,  ..., 7.1078e-10,\n",
      "          2.0529e-09, 8.9870e-10]],\n",
      "\n",
      "        [[1.6252e-07, 1.2113e-07, 1.0944e-07,  ..., 1.6301e-07,\n",
      "          1.3480e-07, 1.3682e-07],\n",
      "         [3.8437e-07, 2.6560e-07, 2.4431e-07,  ..., 3.3533e-07,\n",
      "          3.1422e-07, 3.0903e-07]],\n",
      "\n",
      "        [[3.2538e-07, 3.2833e-07, 2.5156e-07,  ..., 3.5730e-07,\n",
      "          2.9476e-07, 3.5370e-07],\n",
      "         [5.1649e-07, 3.6073e-07, 3.4514e-07,  ..., 4.6376e-07,\n",
      "          3.9532e-07, 4.2165e-07]]], device='cuda:0')\n",
      "tensor([[133, 158],\n",
      "        [122, 153],\n",
      "        [100,  68]], device='cuda:0')\n",
      "tensor([[128, 129],\n",
      "        [127, 127],\n",
      "        [127, 127]], device='cuda:0')\n",
      "loss for step 0 : 5.58448600769043\n",
      "epoch 41\n"
     ]
    },
    {
     "data": {
      "application/vnd.jupyter.widget-view+json": {
       "model_id": "8e4390a5ca3744799c3ea211a72d5f52",
       "version_major": 2,
       "version_minor": 0
      },
      "text/plain": [
       "Training: 0it [00:00, ?it/s]"
      ]
     },
     "metadata": {},
     "output_type": "display_data"
    },
    {
     "data": {
      "application/vnd.jupyter.widget-view+json": {
       "model_id": "d9d0b5fb2f764861825536350ee9ec3a",
       "version_major": 2,
       "version_minor": 0
      },
      "text/plain": [
       "Validation: 0it [00:00, ?it/s]"
      ]
     },
     "metadata": {},
     "output_type": "display_data"
    },
    {
     "name": "stdout",
     "output_type": "stream",
     "text": [
      "[[-0.09161377 -0.17907715]\n",
      " [-0.31472778 -0.21292114]\n",
      " [ 0.3781128  -0.09909058]]\n",
      "tensor([[[4.7077e-16, 4.4241e-16, 2.5188e-16,  ..., 3.4994e-16,\n",
      "          7.2695e-15, 9.1428e-16],\n",
      "         [1.9975e-07, 1.4020e-07, 1.2064e-07,  ..., 1.7456e-07,\n",
      "          2.7695e-07, 1.8437e-07]],\n",
      "\n",
      "        [[2.1803e-07, 1.6966e-07, 1.5540e-07,  ..., 2.1290e-07,\n",
      "          1.7637e-07, 1.8969e-07],\n",
      "         [7.2239e-07, 6.9020e-07, 5.1964e-07,  ..., 6.9428e-07,\n",
      "          6.2488e-07, 6.4608e-07]],\n",
      "\n",
      "        [[2.1312e-07, 2.3997e-07, 1.6507e-07,  ..., 2.3793e-07,\n",
      "          2.0336e-07, 2.0544e-07],\n",
      "         [8.9381e-12, 7.5495e-12, 5.2153e-12,  ..., 8.2237e-12,\n",
      "          4.2786e-11, 1.2771e-11]]], device='cuda:0')\n",
      "tensor([[116, 105],\n",
      "        [ 87, 100],\n",
      "        [176, 115]], device='cuda:0')\n",
      "tensor([[129, 129],\n",
      "        [127, 127],\n",
      "        [128, 129]], device='cuda:0')\n",
      "loss for step 0 : 5.585546821096669\n",
      "epoch 42\n"
     ]
    },
    {
     "data": {
      "application/vnd.jupyter.widget-view+json": {
       "model_id": "8f18357b0d434081b8ecfed5bfb87a73",
       "version_major": 2,
       "version_minor": 0
      },
      "text/plain": [
       "Training: 0it [00:00, ?it/s]"
      ]
     },
     "metadata": {},
     "output_type": "display_data"
    },
    {
     "data": {
      "application/vnd.jupyter.widget-view+json": {
       "model_id": "19a57a79816f401a9a4aca3dd26cc578",
       "version_major": 2,
       "version_minor": 0
      },
      "text/plain": [
       "Validation: 0it [00:00, ?it/s]"
      ]
     },
     "metadata": {},
     "output_type": "display_data"
    },
    {
     "name": "stdout",
     "output_type": "stream",
     "text": [
      "[[-0.13711548 -0.034729  ]\n",
      " [ 0.04910278 -0.21429443]\n",
      " [-0.23828125 -0.28027344]]\n",
      "tensor([[[1.2359e-07, 8.8677e-08, 8.3381e-08,  ..., 1.2321e-07,\n",
      "          9.3255e-08, 9.7917e-08],\n",
      "         [2.2123e-12, 2.1434e-12, 1.4617e-12,  ..., 2.0343e-12,\n",
      "          1.2818e-11, 3.5703e-12]],\n",
      "\n",
      "        [[2.9798e-09, 2.2989e-09, 1.8352e-09,  ..., 2.7617e-09,\n",
      "          5.4575e-09, 3.4357e-09],\n",
      "         [3.5192e-07, 3.2462e-07, 2.8835e-07,  ..., 4.0643e-07,\n",
      "          2.9785e-07, 3.2862e-07]],\n",
      "\n",
      "        [[2.0101e-10, 1.5974e-10, 1.0902e-10,  ..., 1.7469e-10,\n",
      "          5.2984e-10, 2.3165e-10],\n",
      "         [1.6433e-08, 1.2152e-08, 9.4154e-09,  ..., 1.4436e-08,\n",
      "          2.7103e-08, 1.7206e-08]]], device='cuda:0')\n",
      "tensor([[110, 123],\n",
      "        [134, 100],\n",
      "        [ 97,  92]], device='cuda:0')\n",
      "tensor([[127, 129],\n",
      "        [129, 127],\n",
      "        [129, 129]], device='cuda:0')\n",
      "loss for step 0 : 5.585750741543977\n",
      "epoch 43\n"
     ]
    },
    {
     "data": {
      "application/vnd.jupyter.widget-view+json": {
       "model_id": "1900be3db4fc485da5d2499a2e17b470",
       "version_major": 2,
       "version_minor": 0
      },
      "text/plain": [
       "Training: 0it [00:00, ?it/s]"
      ]
     },
     "metadata": {},
     "output_type": "display_data"
    },
    {
     "data": {
      "application/vnd.jupyter.widget-view+json": {
       "model_id": "51f75c0761e3449c9536944669463c6c",
       "version_major": 2,
       "version_minor": 0
      },
      "text/plain": [
       "Validation: 0it [00:00, ?it/s]"
      ]
     },
     "metadata": {},
     "output_type": "display_data"
    },
    {
     "name": "stdout",
     "output_type": "stream",
     "text": [
      "[[ 0.03863525  0.5727844 ]\n",
      " [ 0.09814453  0.34472656]\n",
      " [ 0.00668335 -0.23291016]]\n",
      "tensor([[[1.3628e-11, 1.0414e-11, 7.7307e-12,  ..., 1.0929e-11,\n",
      "          4.5469e-11, 1.7119e-11],\n",
      "         [6.6770e-16, 7.6757e-16, 4.0270e-16,  ..., 5.4250e-16,\n",
      "          9.5215e-15, 1.3189e-15]],\n",
      "\n",
      "        [[5.4668e-11, 1.4779e-10, 4.9534e-11,  ..., 7.3626e-11,\n",
      "          1.1699e-10, 9.7811e-11],\n",
      "         [9.1364e-20, 1.3806e-19, 6.0824e-20,  ..., 7.0382e-20,\n",
      "          3.5881e-18, 2.3573e-19]],\n",
      "\n",
      "        [[1.8082e-07, 2.0919e-07, 1.5303e-07,  ..., 2.2416e-07,\n",
      "          1.8444e-07, 1.9738e-07],\n",
      "         [2.0324e-07, 1.3159e-07, 1.2239e-07,  ..., 1.8456e-07,\n",
      "          2.4261e-07, 1.8731e-07]]], device='cuda:0')\n",
      "tensor([[132, 201],\n",
      "        [140, 172],\n",
      "        [128,  98]], device='cuda:0')\n",
      "tensor([[129, 129],\n",
      "        [128, 129],\n",
      "        [127, 127]], device='cuda:0')\n",
      "loss for step 0 : 5.585569771476414\n",
      "epoch 44\n"
     ]
    },
    {
     "data": {
      "application/vnd.jupyter.widget-view+json": {
       "model_id": "810af2c30c45424ba65fac5fe3579674",
       "version_major": 2,
       "version_minor": 0
      },
      "text/plain": [
       "Training: 0it [00:00, ?it/s]"
      ]
     },
     "metadata": {},
     "output_type": "display_data"
    },
    {
     "data": {
      "application/vnd.jupyter.widget-view+json": {
       "model_id": "a7519bb194f741f4acb7b40801a59efe",
       "version_major": 2,
       "version_minor": 0
      },
      "text/plain": [
       "Validation: 0it [00:00, ?it/s]"
      ]
     },
     "metadata": {},
     "output_type": "display_data"
    },
    {
     "name": "stdout",
     "output_type": "stream",
     "text": [
      "[[ 0.25204468  0.00115967]\n",
      " [ 0.12454224  0.08319092]\n",
      " [-0.01428223  0.04608154]]\n",
      "tensor([[[7.0851e-08, 7.8290e-08, 5.8049e-08,  ..., 8.3857e-08,\n",
      "          6.7557e-08, 8.1993e-08],\n",
      "         [8.7031e-09, 1.6262e-08, 7.8465e-09,  ..., 1.0923e-08,\n",
      "          1.3246e-08, 1.3171e-08]],\n",
      "\n",
      "        [[5.8880e-08, 5.2573e-08, 4.5486e-08,  ..., 6.3498e-08,\n",
      "          4.8383e-08, 5.3869e-08],\n",
      "         [5.9372e-07, 5.1633e-07, 4.3536e-07,  ..., 6.0473e-07,\n",
      "          4.7693e-07, 5.7016e-07]],\n",
      "\n",
      "        [[6.4167e-08, 7.9637e-08, 5.1687e-08,  ..., 7.9314e-08,\n",
      "          7.2992e-08, 7.2576e-08],\n",
      "         [1.8320e-07, 1.2719e-07, 1.2657e-07,  ..., 1.8175e-07,\n",
      "          1.6393e-07, 1.5906e-07]]], device='cuda:0')\n",
      "tensor([[160, 128],\n",
      "        [143, 138],\n",
      "        [126, 133]], device='cuda:0')\n",
      "tensor([[127, 128],\n",
      "        [127, 127],\n",
      "        [128, 127]], device='cuda:0')\n",
      "loss for step 0 : 5.585446958956511\n",
      "epoch 45\n"
     ]
    },
    {
     "data": {
      "application/vnd.jupyter.widget-view+json": {
       "model_id": "63edc9774a83457b8697e0891cb3e0a7",
       "version_major": 2,
       "version_minor": 0
      },
      "text/plain": [
       "Training: 0it [00:00, ?it/s]"
      ]
     },
     "metadata": {},
     "output_type": "display_data"
    },
    {
     "data": {
      "application/vnd.jupyter.widget-view+json": {
       "model_id": "01f73df0a37b4fba92da1adbbc14772e",
       "version_major": 2,
       "version_minor": 0
      },
      "text/plain": [
       "Validation: 0it [00:00, ?it/s]"
      ]
     },
     "metadata": {},
     "output_type": "display_data"
    },
    {
     "name": "stdout",
     "output_type": "stream",
     "text": [
      "[[ 0.19830322  0.29833984]\n",
      " [ 0.04602051 -0.20251465]\n",
      " [-0.01074219 -0.07440186]]\n",
      "tensor([[[4.4221e-08, 2.8369e-08, 2.5658e-08,  ..., 3.9929e-08,\n",
      "          4.3572e-08, 3.8082e-08],\n",
      "         [2.7716e-07, 1.9669e-07, 1.7303e-07,  ..., 2.6141e-07,\n",
      "          3.1532e-07, 2.4930e-07]],\n",
      "\n",
      "        [[1.0987e-08, 1.4900e-08, 8.5144e-09,  ..., 1.2754e-08,\n",
      "          1.2681e-08, 1.2717e-08],\n",
      "         [1.6191e-07, 1.0920e-07, 9.7510e-08,  ..., 1.4226e-07,\n",
      "          1.8636e-07, 1.5902e-07]],\n",
      "\n",
      "        [[1.6932e-13, 6.8952e-13, 1.7373e-13,  ..., 2.4952e-13,\n",
      "          5.8219e-13, 3.4664e-13],\n",
      "         [3.2039e-08, 2.2062e-08, 1.9575e-08,  ..., 2.7507e-08,\n",
      "          4.5369e-08, 3.0651e-08]]], device='cuda:0')\n",
      "tensor([[153, 166],\n",
      "        [133, 102],\n",
      "        [126, 118]], device='cuda:0')\n",
      "tensor([[127, 127],\n",
      "        [128, 127],\n",
      "        [128, 129]], device='cuda:0')\n",
      "loss for step 0 : 5.5856859248617425\n",
      "epoch 46\n"
     ]
    },
    {
     "data": {
      "application/vnd.jupyter.widget-view+json": {
       "model_id": "736bf8ac1c094267b62c61bf42da19fa",
       "version_major": 2,
       "version_minor": 0
      },
      "text/plain": [
       "Training: 0it [00:00, ?it/s]"
      ]
     },
     "metadata": {},
     "output_type": "display_data"
    },
    {
     "data": {
      "application/vnd.jupyter.widget-view+json": {
       "model_id": "4532f5311cb24aacbb9cae21af9a27b5",
       "version_major": 2,
       "version_minor": 0
      },
      "text/plain": [
       "Validation: 0it [00:00, ?it/s]"
      ]
     },
     "metadata": {},
     "output_type": "display_data"
    },
    {
     "name": "stdout",
     "output_type": "stream",
     "text": [
      "[[ 0.19589233  0.06411743]\n",
      " [-0.1506958  -0.40930176]\n",
      " [ 0.02752686 -0.4562378 ]]\n",
      "tensor([[[1.5819e-07, 1.5456e-07, 1.1379e-07,  ..., 1.8070e-07,\n",
      "          1.4493e-07, 1.5398e-07],\n",
      "         [4.8121e-07, 3.7163e-07, 3.4187e-07,  ..., 4.5275e-07,\n",
      "          3.6463e-07, 4.0611e-07]],\n",
      "\n",
      "        [[4.9140e-09, 8.6973e-09, 4.1223e-09,  ..., 6.1311e-09,\n",
      "          7.1671e-09, 6.4823e-09],\n",
      "         [4.0336e-07, 4.0508e-07, 3.2801e-07,  ..., 4.2981e-07,\n",
      "          3.8449e-07, 4.1569e-07]],\n",
      "\n",
      "        [[9.4223e-08, 6.5380e-08, 5.9684e-08,  ..., 8.7026e-08,\n",
      "          6.9157e-08, 7.5918e-08],\n",
      "         [2.4783e-11, 2.2555e-11, 1.5609e-11,  ..., 2.1390e-11,\n",
      "          9.7243e-11, 3.5669e-11]]], device='cuda:0')\n",
      "tensor([[153, 136],\n",
      "        [108,  75],\n",
      "        [131,  69]], device='cuda:0')\n",
      "tensor([[127, 127],\n",
      "        [128, 127],\n",
      "        [127, 129]], device='cuda:0')\n",
      "loss for step 0 : 5.5846552226854405\n",
      "epoch 47\n"
     ]
    },
    {
     "data": {
      "application/vnd.jupyter.widget-view+json": {
       "model_id": "b59ad6f8f2554c93b336f53626295561",
       "version_major": 2,
       "version_minor": 0
      },
      "text/plain": [
       "Training: 0it [00:00, ?it/s]"
      ]
     },
     "metadata": {},
     "output_type": "display_data"
    },
    {
     "data": {
      "application/vnd.jupyter.widget-view+json": {
       "model_id": "d2a693a6001643419676b866788c7b68",
       "version_major": 2,
       "version_minor": 0
      },
      "text/plain": [
       "Validation: 0it [00:00, ?it/s]"
      ]
     },
     "metadata": {},
     "output_type": "display_data"
    },
    {
     "name": "stdout",
     "output_type": "stream",
     "text": [
      "[[-0.12319946 -0.60165405]\n",
      " [ 0.33605957  0.33059692]\n",
      " [-0.23852539 -0.31167603]]\n",
      "tensor([[[7.8978e-08, 8.8216e-08, 5.9467e-08,  ..., 8.9845e-08,\n",
      "          8.0078e-08, 8.5551e-08],\n",
      "         [1.2881e-07, 8.6190e-08, 7.5646e-08,  ..., 1.0981e-07,\n",
      "          1.4791e-07, 1.1450e-07]],\n",
      "\n",
      "        [[7.4099e-12, 2.5421e-11, 7.1717e-12,  ..., 1.0296e-11,\n",
      "          2.0659e-11, 1.3655e-11],\n",
      "         [3.5813e-07, 3.6121e-07, 2.9434e-07,  ..., 3.8118e-07,\n",
      "          3.2899e-07, 3.5778e-07]],\n",
      "\n",
      "        [[1.2142e-08, 8.2394e-09, 6.8347e-09,  ..., 1.0759e-08,\n",
      "          1.5692e-08, 1.1228e-08],\n",
      "         [1.1693e-12, 1.0993e-12, 8.1471e-13,  ..., 9.9223e-13,\n",
      "          6.2307e-12, 1.7411e-12]]], device='cuda:0')\n",
      "tensor([[112,  50],\n",
      "        [171, 170],\n",
      "        [ 97,  88]], device='cuda:0')\n",
      "tensor([[127, 129],\n",
      "        [128, 127],\n",
      "        [129, 129]], device='cuda:0')\n",
      "loss for step 0 : 5.584916309688403\n",
      "epoch 48\n"
     ]
    },
    {
     "data": {
      "application/vnd.jupyter.widget-view+json": {
       "model_id": "bb887c4022954074ac89c1b395238fbf",
       "version_major": 2,
       "version_minor": 0
      },
      "text/plain": [
       "Training: 0it [00:00, ?it/s]"
      ]
     },
     "metadata": {},
     "output_type": "display_data"
    },
    {
     "data": {
      "application/vnd.jupyter.widget-view+json": {
       "model_id": "4e9b346db75c4d2fb81ffd6a0525f100",
       "version_major": 2,
       "version_minor": 0
      },
      "text/plain": [
       "Validation: 0it [00:00, ?it/s]"
      ]
     },
     "metadata": {},
     "output_type": "display_data"
    },
    {
     "name": "stdout",
     "output_type": "stream",
     "text": [
      "[[ 0.00384521  0.07012939]\n",
      " [-0.04272461 -0.15814209]\n",
      " [ 0.37145996  0.25125122]]\n",
      "tensor([[[1.8632e-15, 1.1938e-14, 1.9866e-15,  ..., 2.7863e-15,\n",
      "          9.6954e-15, 4.2470e-15],\n",
      "         [1.0733e-09, 8.2469e-10, 6.6830e-10,  ..., 9.0312e-10,\n",
      "          2.4593e-09, 1.2604e-09]],\n",
      "\n",
      "        [[2.6124e-15, 1.7473e-14, 2.8186e-15,  ..., 3.6668e-15,\n",
      "          1.3893e-14, 6.0187e-15],\n",
      "         [7.1296e-08, 5.0433e-08, 4.2611e-08,  ..., 5.8967e-08,\n",
      "          9.8135e-08, 6.6967e-08]],\n",
      "\n",
      "        [[9.3968e-11, 7.4003e-11, 5.5198e-11,  ..., 7.6271e-11,\n",
      "          2.4134e-10, 1.1901e-10],\n",
      "         [1.8187e-07, 1.2793e-07, 1.1562e-07,  ..., 1.6746e-07,\n",
      "          1.6983e-07, 1.4967e-07]]], device='cuda:0')\n",
      "tensor([[128, 136],\n",
      "        [122, 107],\n",
      "        [175, 160]], device='cuda:0')\n",
      "tensor([[128, 129],\n",
      "        [128, 129],\n",
      "        [129, 127]], device='cuda:0')\n",
      "loss for step 0 : 5.585597602180813\n"
     ]
    }
   ],
   "source": [
    "from tqdm.notebook import tqdm, trange\n",
    "\n",
    "# wavenet = WaveNet(in_channels=2,out_channels=2,kernel_size=2,stack_size=23,layer_size=6).cuda().train()\n",
    "#audio_test_data = torch.ones((1,2,1471))\n",
    "seq_len = 300 * num_frames\n",
    "audio_test_data = torch.ones((1,2,seq_len))\n",
    "vid_test_data = torch.ones((1,3,num_frames,36,64))\n",
    "\n",
    "wavenet = AttAudVideoNet(audio_input_shape=audio_test_data.shape, video_input_shape=vid_test_data.shape,in_channels=2,out_channels=2, seq_len=seq_len-1, num_frames=num_frames).cuda().train()\n",
    "#load_path = 'transformer_vid_model3_5.7.pt'\n",
    "#wavenet.load_state_dict(torch.load(load_path))\n",
    "\n",
    "lr = 4e-5\n",
    "epochs= 50\n",
    "globalStep=1000\n",
    "aud_quantization_factor=256\n",
    "\n",
    "quant_step_size = 2/aud_quantization_factor\n",
    "quant_bins = np.arange(-1,1,quant_step_size) + quant_step_size\n",
    "\n",
    "optimizer=torch.optim.AdamW(wavenet.parameters(), lr=lr)\n",
    "scheduler = torch.optim.lr_scheduler.OneCycleLR(\n",
    "  optimizer,\n",
    "  lr,\n",
    "  epochs=epochs,\n",
    "  steps_per_epoch=len(train_loader),\n",
    "  pct_start=0.03,  # Warm up for 3% of the total training time\n",
    "  )\n",
    "lossFunction = torch.nn.CrossEntropyLoss()\n",
    "\n",
    "def calc_accuracy(Out,Y):\n",
    "    max_vals, max_indices = torch.max(Out,1)\n",
    "    train_acc = (max_indices == Y).sum().item()/max_indices.size()[0]\n",
    "    return train_acc\n",
    "  \n",
    "\n",
    "\n",
    "for epoch in range(epochs):\n",
    "    for step, (vid_frames,aud_frames) in tqdm(enumerate(train_loader),desc=\"Training\"):\n",
    "         #vid_frames = vid_frames.cuda()\n",
    "         target = aud_frames[:,-1,].cpu().numpy()\n",
    "         aud_frames = aud_frames[:,:-1,:].cuda()\n",
    "         vid_frames = vid_frames.cuda()\n",
    "         #print(target.shape)\n",
    "         #print(aud_frames.shape)\n",
    "         output = wavenet(vid_frames, aud_frames).squeeze()\n",
    "         #print('ttt', output.shape, target.shape)\n",
    "         #print(output[0].detach().cpu().numpy(), target[0].cpu().numpy())\n",
    "         #print(output.shape)\n",
    "         #print(output)\n",
    "         #print(output.dtype, target.dtype)\n",
    "         quant_target = np.digitize(target, quant_bins)\n",
    "         quant_target = torch.tensor(quant_target).cuda()\n",
    "         #print(quant_target.shape, output.shape)\n",
    "         #print(quant_target)\n",
    "         #print(output.reshape(-1, aud_quantization_factor).shape)\n",
    "         #print(quant_target.reshape(-1).shape)\n",
    "         loss = lossFunction(output.reshape(-1, aud_quantization_factor), quant_target.reshape(-1))\n",
    "         optimizer.zero_grad()\n",
    "         loss.backward()\n",
    "         optimizer.step()\n",
    "         scheduler.step()\n",
    "         if step%globalStep==0:\n",
    "            # scheduler.step()\n",
    "            # print(output.detach().numpy())\n",
    "            # print(y_train.numpy())\n",
    "            with torch.no_grad():\n",
    "                accuracy=0\n",
    "                val_loss=0\n",
    "                for stepTest, (vid_frames,aud_frames) in tqdm(enumerate(valid_loader),desc=\"Validation\"):\n",
    "                    vid_frames = vid_frames.cuda()\n",
    "                    target = aud_frames[:,-1,].cpu().numpy()\n",
    "                    aud_frames = aud_frames[:,:-1,:].cuda()\n",
    "                    output = wavenet(vid_frames, aud_frames).squeeze()\n",
    "                    quant_target = np.digitize(target, quant_bins)\n",
    "                    quant_target = torch.tensor(quant_target).cuda()\n",
    "                    if stepTest==0:\n",
    "                        print(target[:3])\n",
    "                        print(output[:3])\n",
    "                        print(quant_target[:3])\n",
    "                        print(output.argmax(dim=2)[:3])\n",
    "                        #print(lossFunction(output[0],target[0]).item())\n",
    "                    #accuracy+=calc_accuracy(output,target)*100\n",
    "                    val_loss+= lossFunction(output.reshape(-1, aud_quantization_factor), quant_target.reshape(-1)).item()\n",
    "                    if stepTest>200:\n",
    "                        print(output)\n",
    "                        break\n",
    "            print(f\"loss for step {step} : {val_loss/stepTest}\")\n",
    "\n",
    "         \n",
    "    print(f\"epoch {epoch}\")\n",
    "\n",
    "    save_path = 'transformer_vid_model3_5.10.pt'\n",
    "    torch.save(wavenet.state_dict(), save_path)"
   ]
  },
  {
   "cell_type": "code",
   "execution_count": null,
   "metadata": {
    "executionInfo": {
     "elapsed": 268,
     "status": "aborted",
     "timestamp": 1683237494989,
     "user": {
      "displayName": "Jackson Wagner",
      "userId": "13678973550726092608"
     },
     "user_tz": 420
    },
    "id": "JvGcaaiR_1wg"
   },
   "outputs": [],
   "source": [
    "#save_path = 'transformer_vid_model2_5.7.pt'\n",
    "#torch.save(wavenet.state_dict(), save_path)\n",
    "load_path = 'transformer_vid_model3_5.10.pt'\n",
    "wavenet.load_state_dict(torch.load(load_path))"
   ]
  },
  {
   "cell_type": "code",
   "execution_count": null,
   "metadata": {
    "executionInfo": {
     "elapsed": 3,
     "status": "aborted",
     "timestamp": 1683237494989,
     "user": {
      "displayName": "Jackson Wagner",
      "userId": "13678973550726092608"
     },
     "user_tz": 420
    },
    "id": "AV772MGPyhZa"
   },
   "outputs": [],
   "source": [
    "class VideoOnlyDataset(Dataset):\n",
    "    def __init__(self, video_frames, num_frames):\n",
    "        self.video_frames = torch.tensor(video_frames, dtype=torch.float32).permute(0,3,2,1) # Permute to (N, C, H, W)\n",
    "        self.num_frames = num_frames\n",
    "\n",
    "    def __len__(self):\n",
    "        return len(self.video_frames)\n",
    "\n",
    "    def __getitem__(self, idx):\n",
    "        idx += 1\n",
    "        if idx < self.num_frames:\n",
    "          num_zeros_needed = self.num_frames - idx\n",
    "          vid_zeros = torch.zeros(num_zeros_needed, *self.video_frames[0].shape)\n",
    "          vid = torch.vstack((vid_zeros, self.video_frames[0:idx])).transpose(0,1)\n",
    "          return vid\n",
    "        #vid shape example torch.Size([32, 3, 10, 36, 64])\n",
    "        # aud shape example torch.Size([32, 2, 14710])\n",
    "        vid = self.video_frames[idx-self.num_frames:idx].transpose(0,1)\n",
    "        # print('idx = ', idx, ' aud.size = ', aud.shape)\n",
    "        return vid"
   ]
  },
  {
   "cell_type": "code",
   "execution_count": null,
   "metadata": {
    "executionInfo": {
     "elapsed": 4,
     "status": "aborted",
     "timestamp": 1683237494990,
     "user": {
      "displayName": "Jackson Wagner",
      "userId": "13678973550726092608"
     },
     "user_tz": 420
    },
    "id": "hTH9qnTGtkYk"
   },
   "outputs": [],
   "source": [
    "### generate audio for video from model\n",
    "num_frames = 1\n",
    "\n",
    "start_index = int(len(resized_vid_arr)*0.8) + num_frames\n",
    "audio_list = []\n",
    "vid_test_shape = (1,3,10,36,64)\n",
    "zero_frame = torch.zeros((vid_test_shape[3], vid_test_shape[4]))\n",
    "\n",
    "aud_per_vid_frame = 1500\n",
    "audio_start_index = int(len(audio_array)*0.8)\n",
    "print(audio_start_index)\n",
    "aud_input_arr = torch.tensor(audio_array[audio_start_index:audio_start_index+(num_frames * aud_per_vid_frame) - 1], dtype=torch.float32).cuda().unsqueeze(0)\n",
    "print(aud_input_arr.shape)\n",
    "\n",
    "#aud_input_arr = torch.zeros((1,2,(num_frames * aud_per_vid_frame) - 1)).cuda()\n",
    "print(aud_input_arr.shape)\n",
    "\n",
    "input_vid = resized_vid_arr[start_index:]\n",
    "gen_data = VideoOnlyDataset(input_vid, num_frames = num_frames)\n",
    "gen_loader = DataLoader(gen_data, batch_size=1, shuffle=False)\n",
    "\n",
    "\n",
    "#NOTE: GEN NEEDS TO BE FIXED TO ACCOUNT FOR MULTIPLE AUDIO RUNS PER FRAME\n",
    "wavenet.eval()\n",
    "for i,vid in enumerate(gen_loader):\n",
    "    vid = vid.cuda()\n",
    "    print(vid.shape)\n",
    "    for j in trange(aud_per_vid_frame):\n",
    "        with torch.no_grad():\n",
    "            #print(aud_input_arr.shape)\n",
    "            audio_output = wavenet(vid.cuda(), aud_input_arr.cuda()).cpu()\n",
    "            #print(audio_output, audio_output.shape)\n",
    "            audio_list.append(audio_output.squeeze().cpu().numpy())\n",
    "            #print(aud_input_arr)\n",
    "            aud_input_arr = aud_input_arr[:, 1:, :]\n",
    "            #print(aud_input_arr.shape, audio_output.shape)\n",
    "            #print(aud_input_arr)\n",
    "            \n",
    "            aud_input_arr = torch.cat((aud_input_arr, audio_output.cuda()), 1)\n",
    "            #print(aud_input_arr)\n",
    "    if i > 15:\n",
    "        break\n",
    "np.array(audio_list).shape"
   ]
  },
  {
   "cell_type": "code",
   "execution_count": null,
   "metadata": {
    "executionInfo": {
     "elapsed": 4,
     "status": "aborted",
     "timestamp": 1683237494990,
     "user": {
      "displayName": "Jackson Wagner",
      "userId": "13678973550726092608"
     },
     "user_tz": 420
    },
    "id": "MOPq8NXlCUlm"
   },
   "outputs": [],
   "source": [
    "print(len(audio_list))"
   ]
  },
  {
   "cell_type": "code",
   "execution_count": null,
   "metadata": {
    "executionInfo": {
     "elapsed": 4,
     "status": "aborted",
     "timestamp": 1683237494990,
     "user": {
      "displayName": "Jackson Wagner",
      "userId": "13678973550726092608"
     },
     "user_tz": 420
    },
    "id": "gnU6a3aV5Pa4"
   },
   "outputs": [],
   "source": [
    "print(np.array(audio_list).shape)\n",
    "audio_np = np.array(audio_list).transpose(1,0)\n",
    "audio_np.shape"
   ]
  },
  {
   "cell_type": "code",
   "execution_count": null,
   "metadata": {
    "executionInfo": {
     "elapsed": 4,
     "status": "aborted",
     "timestamp": 1683237494990,
     "user": {
      "displayName": "Jackson Wagner",
      "userId": "13678973550726092608"
     },
     "user_tz": 420
    },
    "id": "dHmMWv_fVdSp"
   },
   "outputs": [],
   "source": [
    "'''\n",
    "audio_cpu = audio_output.cpu()\n",
    "audio_np = audio_cpu.detach().numpy()\n",
    "audio_np.shape\n",
    "'''"
   ]
  },
  {
   "cell_type": "code",
   "execution_count": null,
   "metadata": {},
   "outputs": [],
   "source": [
    "path = 'test_transformer_model3_out_5.10_1.raw'\n",
    "np.save(path, audio_np)"
   ]
  },
  {
   "cell_type": "code",
   "execution_count": null,
   "metadata": {},
   "outputs": [],
   "source": [
    "#print(sr)"
   ]
  },
  {
   "cell_type": "code",
   "execution_count": null,
   "metadata": {
    "executionInfo": {
     "elapsed": 4,
     "status": "aborted",
     "timestamp": 1683237494990,
     "user": {
      "displayName": "Jackson Wagner",
      "userId": "13678973550726092608"
     },
     "user_tz": 420
    },
    "id": "3zx_uQAZPKek"
   },
   "outputs": [],
   "source": [
    "fps = 30\n",
    "sr = (audio_array.shape[0]// resized_vid_arr.shape[0])*fps\n",
    "write('test_transformer_model3_out_5.10_1.mp3', sr, audio_np)"
   ]
  },
  {
   "cell_type": "code",
   "execution_count": null,
   "metadata": {
    "executionInfo": {
     "elapsed": 4,
     "status": "aborted",
     "timestamp": 1683237494991,
     "user": {
      "displayName": "Jackson Wagner",
      "userId": "13678973550726092608"
     },
     "user_tz": 420
    },
    "id": "f62amSXe_6Ur"
   },
   "outputs": [],
   "source": []
  }
 ],
 "metadata": {
  "accelerator": "GPU",
  "colab": {
   "machine_shape": "hm",
   "provenance": [
    {
     "file_id": "1hLH14IPIjmhukYwuIVkWH0KAWopjnaIe",
     "timestamp": 1683231309344
    },
    {
     "file_id": "1--9ZUZLPg4PBYeBwTwaaUQqzzREoTy5p",
     "timestamp": 1682834828374
    },
    {
     "file_id": "1DzDk2SAXwqU8pvN5-_zvgopIuH-s9Y0R",
     "timestamp": 1682711665945
    }
   ]
  },
  "gpuClass": "premium",
  "kernelspec": {
   "display_name": "pytorch-1.13.1",
   "language": "python",
   "name": "pytorch-1.13.1"
  },
  "language_info": {
   "codemirror_mode": {
    "name": "ipython",
    "version": 3
   },
   "file_extension": ".py",
   "mimetype": "text/x-python",
   "name": "python",
   "nbconvert_exporter": "python",
   "pygments_lexer": "ipython3",
   "version": "3.9.15"
  },
  "widgets": {
   "application/vnd.jupyter.widget-state+json": {
    "1599d35bd6844badaeedd1fef5d86877": {
     "model_module": "@jupyter-widgets/controls",
     "model_module_version": "1.5.0",
     "model_name": "HTMLModel",
     "state": {
      "_dom_classes": [],
      "_model_module": "@jupyter-widgets/controls",
      "_model_module_version": "1.5.0",
      "_model_name": "HTMLModel",
      "_view_count": null,
      "_view_module": "@jupyter-widgets/controls",
      "_view_module_version": "1.5.0",
      "_view_name": "HTMLView",
      "description": "",
      "description_tooltip": null,
      "layout": "IPY_MODEL_347b450562614c51b1295c8bddd69ade",
      "placeholder": "​",
      "style": "IPY_MODEL_2f60c766deac41baa3e771dc24800dd1",
      "value": " 46/? [00:19&lt;00:00,  2.54it/s]"
     }
    },
    "1bf569533ba648e08eedf0b0a2a9cdf9": {
     "model_module": "@jupyter-widgets/controls",
     "model_module_version": "1.5.0",
     "model_name": "ProgressStyleModel",
     "state": {
      "_model_module": "@jupyter-widgets/controls",
      "_model_module_version": "1.5.0",
      "_model_name": "ProgressStyleModel",
      "_view_count": null,
      "_view_module": "@jupyter-widgets/base",
      "_view_module_version": "1.2.0",
      "_view_name": "StyleView",
      "bar_color": null,
      "description_width": ""
     }
    },
    "2f60c766deac41baa3e771dc24800dd1": {
     "model_module": "@jupyter-widgets/controls",
     "model_module_version": "1.5.0",
     "model_name": "DescriptionStyleModel",
     "state": {
      "_model_module": "@jupyter-widgets/controls",
      "_model_module_version": "1.5.0",
      "_model_name": "DescriptionStyleModel",
      "_view_count": null,
      "_view_module": "@jupyter-widgets/base",
      "_view_module_version": "1.2.0",
      "_view_name": "StyleView",
      "description_width": ""
     }
    },
    "347b450562614c51b1295c8bddd69ade": {
     "model_module": "@jupyter-widgets/base",
     "model_module_version": "1.2.0",
     "model_name": "LayoutModel",
     "state": {
      "_model_module": "@jupyter-widgets/base",
      "_model_module_version": "1.2.0",
      "_model_name": "LayoutModel",
      "_view_count": null,
      "_view_module": "@jupyter-widgets/base",
      "_view_module_version": "1.2.0",
      "_view_name": "LayoutView",
      "align_content": null,
      "align_items": null,
      "align_self": null,
      "border": null,
      "bottom": null,
      "display": null,
      "flex": null,
      "flex_flow": null,
      "grid_area": null,
      "grid_auto_columns": null,
      "grid_auto_flow": null,
      "grid_auto_rows": null,
      "grid_column": null,
      "grid_gap": null,
      "grid_row": null,
      "grid_template_areas": null,
      "grid_template_columns": null,
      "grid_template_rows": null,
      "height": null,
      "justify_content": null,
      "justify_items": null,
      "left": null,
      "margin": null,
      "max_height": null,
      "max_width": null,
      "min_height": null,
      "min_width": null,
      "object_fit": null,
      "object_position": null,
      "order": null,
      "overflow": null,
      "overflow_x": null,
      "overflow_y": null,
      "padding": null,
      "right": null,
      "top": null,
      "visibility": null,
      "width": null
     }
    },
    "3b20e87dd300401b82d747d27ecbc039": {
     "model_module": "@jupyter-widgets/controls",
     "model_module_version": "1.5.0",
     "model_name": "ProgressStyleModel",
     "state": {
      "_model_module": "@jupyter-widgets/controls",
      "_model_module_version": "1.5.0",
      "_model_name": "ProgressStyleModel",
      "_view_count": null,
      "_view_module": "@jupyter-widgets/base",
      "_view_module_version": "1.2.0",
      "_view_name": "StyleView",
      "bar_color": null,
      "description_width": ""
     }
    },
    "46105105d11e435dbc0db488c43fdf47": {
     "model_module": "@jupyter-widgets/base",
     "model_module_version": "1.2.0",
     "model_name": "LayoutModel",
     "state": {
      "_model_module": "@jupyter-widgets/base",
      "_model_module_version": "1.2.0",
      "_model_name": "LayoutModel",
      "_view_count": null,
      "_view_module": "@jupyter-widgets/base",
      "_view_module_version": "1.2.0",
      "_view_name": "LayoutView",
      "align_content": null,
      "align_items": null,
      "align_self": null,
      "border": null,
      "bottom": null,
      "display": null,
      "flex": null,
      "flex_flow": null,
      "grid_area": null,
      "grid_auto_columns": null,
      "grid_auto_flow": null,
      "grid_auto_rows": null,
      "grid_column": null,
      "grid_gap": null,
      "grid_row": null,
      "grid_template_areas": null,
      "grid_template_columns": null,
      "grid_template_rows": null,
      "height": null,
      "justify_content": null,
      "justify_items": null,
      "left": null,
      "margin": null,
      "max_height": null,
      "max_width": null,
      "min_height": null,
      "min_width": null,
      "object_fit": null,
      "object_position": null,
      "order": null,
      "overflow": null,
      "overflow_x": null,
      "overflow_y": null,
      "padding": null,
      "right": null,
      "top": null,
      "visibility": null,
      "width": null
     }
    },
    "66028dc242a24a6bbe5aae7d5aac4ee0": {
     "model_module": "@jupyter-widgets/controls",
     "model_module_version": "1.5.0",
     "model_name": "HTMLModel",
     "state": {
      "_dom_classes": [],
      "_model_module": "@jupyter-widgets/controls",
      "_model_module_version": "1.5.0",
      "_model_name": "HTMLModel",
      "_view_count": null,
      "_view_module": "@jupyter-widgets/controls",
      "_view_module_version": "1.5.0",
      "_view_name": "HTMLView",
      "description": "",
      "description_tooltip": null,
      "layout": "IPY_MODEL_a646b672a12442fab793b40b5f019547",
      "placeholder": "​",
      "style": "IPY_MODEL_fad159c751df456285bc240fd603ff37",
      "value": "Validation: "
     }
    },
    "675868afca70457aacba30a626a61b35": {
     "model_module": "@jupyter-widgets/controls",
     "model_module_version": "1.5.0",
     "model_name": "DescriptionStyleModel",
     "state": {
      "_model_module": "@jupyter-widgets/controls",
      "_model_module_version": "1.5.0",
      "_model_name": "DescriptionStyleModel",
      "_view_count": null,
      "_view_module": "@jupyter-widgets/base",
      "_view_module_version": "1.2.0",
      "_view_name": "StyleView",
      "description_width": ""
     }
    },
    "73273624d3ec46539047695496cef11b": {
     "model_module": "@jupyter-widgets/controls",
     "model_module_version": "1.5.0",
     "model_name": "HBoxModel",
     "state": {
      "_dom_classes": [],
      "_model_module": "@jupyter-widgets/controls",
      "_model_module_version": "1.5.0",
      "_model_name": "HBoxModel",
      "_view_count": null,
      "_view_module": "@jupyter-widgets/controls",
      "_view_module_version": "1.5.0",
      "_view_name": "HBoxView",
      "box_style": "",
      "children": [
       "IPY_MODEL_bbada1e125ff429eae418bf609e3ea4c",
       "IPY_MODEL_9f611faec9f24d7fb136eae0dcaf71cf",
       "IPY_MODEL_9c643f04c1b741d1b57fa7b6b209c102"
      ],
      "layout": "IPY_MODEL_fdbb2926241c4891885ef8a36ce7a130"
     }
    },
    "85c3ed4a97f2464e834d340cf7d43006": {
     "model_module": "@jupyter-widgets/base",
     "model_module_version": "1.2.0",
     "model_name": "LayoutModel",
     "state": {
      "_model_module": "@jupyter-widgets/base",
      "_model_module_version": "1.2.0",
      "_model_name": "LayoutModel",
      "_view_count": null,
      "_view_module": "@jupyter-widgets/base",
      "_view_module_version": "1.2.0",
      "_view_name": "LayoutView",
      "align_content": null,
      "align_items": null,
      "align_self": null,
      "border": null,
      "bottom": null,
      "display": null,
      "flex": null,
      "flex_flow": null,
      "grid_area": null,
      "grid_auto_columns": null,
      "grid_auto_flow": null,
      "grid_auto_rows": null,
      "grid_column": null,
      "grid_gap": null,
      "grid_row": null,
      "grid_template_areas": null,
      "grid_template_columns": null,
      "grid_template_rows": null,
      "height": null,
      "justify_content": null,
      "justify_items": null,
      "left": null,
      "margin": null,
      "max_height": null,
      "max_width": null,
      "min_height": null,
      "min_width": null,
      "object_fit": null,
      "object_position": null,
      "order": null,
      "overflow": null,
      "overflow_x": null,
      "overflow_y": null,
      "padding": null,
      "right": null,
      "top": null,
      "visibility": null,
      "width": null
     }
    },
    "919ddb8d374b4e92b57f750c0d019859": {
     "model_module": "@jupyter-widgets/base",
     "model_module_version": "1.2.0",
     "model_name": "LayoutModel",
     "state": {
      "_model_module": "@jupyter-widgets/base",
      "_model_module_version": "1.2.0",
      "_model_name": "LayoutModel",
      "_view_count": null,
      "_view_module": "@jupyter-widgets/base",
      "_view_module_version": "1.2.0",
      "_view_name": "LayoutView",
      "align_content": null,
      "align_items": null,
      "align_self": null,
      "border": null,
      "bottom": null,
      "display": null,
      "flex": null,
      "flex_flow": null,
      "grid_area": null,
      "grid_auto_columns": null,
      "grid_auto_flow": null,
      "grid_auto_rows": null,
      "grid_column": null,
      "grid_gap": null,
      "grid_row": null,
      "grid_template_areas": null,
      "grid_template_columns": null,
      "grid_template_rows": null,
      "height": null,
      "justify_content": null,
      "justify_items": null,
      "left": null,
      "margin": null,
      "max_height": null,
      "max_width": null,
      "min_height": null,
      "min_width": null,
      "object_fit": null,
      "object_position": null,
      "order": null,
      "overflow": null,
      "overflow_x": null,
      "overflow_y": null,
      "padding": null,
      "right": null,
      "top": null,
      "visibility": null,
      "width": "20px"
     }
    },
    "9c643f04c1b741d1b57fa7b6b209c102": {
     "model_module": "@jupyter-widgets/controls",
     "model_module_version": "1.5.0",
     "model_name": "HTMLModel",
     "state": {
      "_dom_classes": [],
      "_model_module": "@jupyter-widgets/controls",
      "_model_module_version": "1.5.0",
      "_model_name": "HTMLModel",
      "_view_count": null,
      "_view_module": "@jupyter-widgets/controls",
      "_view_module_version": "1.5.0",
      "_view_name": "HTMLView",
      "description": "",
      "description_tooltip": null,
      "layout": "IPY_MODEL_d226292202f1430cbdc602085458ad03",
      "placeholder": "​",
      "style": "IPY_MODEL_acadf0fed9184df98a87485271518fdc",
      "value": " 0/? [00:00&lt;?, ?it/s]"
     }
    },
    "9f611faec9f24d7fb136eae0dcaf71cf": {
     "model_module": "@jupyter-widgets/controls",
     "model_module_version": "1.5.0",
     "model_name": "FloatProgressModel",
     "state": {
      "_dom_classes": [],
      "_model_module": "@jupyter-widgets/controls",
      "_model_module_version": "1.5.0",
      "_model_name": "FloatProgressModel",
      "_view_count": null,
      "_view_module": "@jupyter-widgets/controls",
      "_view_module_version": "1.5.0",
      "_view_name": "ProgressView",
      "bar_style": "info",
      "description": "",
      "description_tooltip": null,
      "layout": "IPY_MODEL_cdfb1461201943b183377eefdb6772d6",
      "max": 1,
      "min": 0,
      "orientation": "horizontal",
      "style": "IPY_MODEL_3b20e87dd300401b82d747d27ecbc039",
      "value": 0
     }
    },
    "a646b672a12442fab793b40b5f019547": {
     "model_module": "@jupyter-widgets/base",
     "model_module_version": "1.2.0",
     "model_name": "LayoutModel",
     "state": {
      "_model_module": "@jupyter-widgets/base",
      "_model_module_version": "1.2.0",
      "_model_name": "LayoutModel",
      "_view_count": null,
      "_view_module": "@jupyter-widgets/base",
      "_view_module_version": "1.2.0",
      "_view_name": "LayoutView",
      "align_content": null,
      "align_items": null,
      "align_self": null,
      "border": null,
      "bottom": null,
      "display": null,
      "flex": null,
      "flex_flow": null,
      "grid_area": null,
      "grid_auto_columns": null,
      "grid_auto_flow": null,
      "grid_auto_rows": null,
      "grid_column": null,
      "grid_gap": null,
      "grid_row": null,
      "grid_template_areas": null,
      "grid_template_columns": null,
      "grid_template_rows": null,
      "height": null,
      "justify_content": null,
      "justify_items": null,
      "left": null,
      "margin": null,
      "max_height": null,
      "max_width": null,
      "min_height": null,
      "min_width": null,
      "object_fit": null,
      "object_position": null,
      "order": null,
      "overflow": null,
      "overflow_x": null,
      "overflow_y": null,
      "padding": null,
      "right": null,
      "top": null,
      "visibility": null,
      "width": null
     }
    },
    "acadf0fed9184df98a87485271518fdc": {
     "model_module": "@jupyter-widgets/controls",
     "model_module_version": "1.5.0",
     "model_name": "DescriptionStyleModel",
     "state": {
      "_model_module": "@jupyter-widgets/controls",
      "_model_module_version": "1.5.0",
      "_model_name": "DescriptionStyleModel",
      "_view_count": null,
      "_view_module": "@jupyter-widgets/base",
      "_view_module_version": "1.2.0",
      "_view_name": "StyleView",
      "description_width": ""
     }
    },
    "b23a60ed465e45beb5cd4bad947d1270": {
     "model_module": "@jupyter-widgets/controls",
     "model_module_version": "1.5.0",
     "model_name": "FloatProgressModel",
     "state": {
      "_dom_classes": [],
      "_model_module": "@jupyter-widgets/controls",
      "_model_module_version": "1.5.0",
      "_model_name": "FloatProgressModel",
      "_view_count": null,
      "_view_module": "@jupyter-widgets/controls",
      "_view_module_version": "1.5.0",
      "_view_name": "ProgressView",
      "bar_style": "info",
      "description": "",
      "description_tooltip": null,
      "layout": "IPY_MODEL_919ddb8d374b4e92b57f750c0d019859",
      "max": 1,
      "min": 0,
      "orientation": "horizontal",
      "style": "IPY_MODEL_1bf569533ba648e08eedf0b0a2a9cdf9",
      "value": 1
     }
    },
    "bbada1e125ff429eae418bf609e3ea4c": {
     "model_module": "@jupyter-widgets/controls",
     "model_module_version": "1.5.0",
     "model_name": "HTMLModel",
     "state": {
      "_dom_classes": [],
      "_model_module": "@jupyter-widgets/controls",
      "_model_module_version": "1.5.0",
      "_model_name": "HTMLModel",
      "_view_count": null,
      "_view_module": "@jupyter-widgets/controls",
      "_view_module_version": "1.5.0",
      "_view_name": "HTMLView",
      "description": "",
      "description_tooltip": null,
      "layout": "IPY_MODEL_46105105d11e435dbc0db488c43fdf47",
      "placeholder": "​",
      "style": "IPY_MODEL_675868afca70457aacba30a626a61b35",
      "value": "Training: "
     }
    },
    "bda87b78f0cd420bb99623ea2fa2759f": {
     "model_module": "@jupyter-widgets/controls",
     "model_module_version": "1.5.0",
     "model_name": "HBoxModel",
     "state": {
      "_dom_classes": [],
      "_model_module": "@jupyter-widgets/controls",
      "_model_module_version": "1.5.0",
      "_model_name": "HBoxModel",
      "_view_count": null,
      "_view_module": "@jupyter-widgets/controls",
      "_view_module_version": "1.5.0",
      "_view_name": "HBoxView",
      "box_style": "",
      "children": [
       "IPY_MODEL_66028dc242a24a6bbe5aae7d5aac4ee0",
       "IPY_MODEL_b23a60ed465e45beb5cd4bad947d1270",
       "IPY_MODEL_1599d35bd6844badaeedd1fef5d86877"
      ],
      "layout": "IPY_MODEL_85c3ed4a97f2464e834d340cf7d43006"
     }
    },
    "cdfb1461201943b183377eefdb6772d6": {
     "model_module": "@jupyter-widgets/base",
     "model_module_version": "1.2.0",
     "model_name": "LayoutModel",
     "state": {
      "_model_module": "@jupyter-widgets/base",
      "_model_module_version": "1.2.0",
      "_model_name": "LayoutModel",
      "_view_count": null,
      "_view_module": "@jupyter-widgets/base",
      "_view_module_version": "1.2.0",
      "_view_name": "LayoutView",
      "align_content": null,
      "align_items": null,
      "align_self": null,
      "border": null,
      "bottom": null,
      "display": null,
      "flex": null,
      "flex_flow": null,
      "grid_area": null,
      "grid_auto_columns": null,
      "grid_auto_flow": null,
      "grid_auto_rows": null,
      "grid_column": null,
      "grid_gap": null,
      "grid_row": null,
      "grid_template_areas": null,
      "grid_template_columns": null,
      "grid_template_rows": null,
      "height": null,
      "justify_content": null,
      "justify_items": null,
      "left": null,
      "margin": null,
      "max_height": null,
      "max_width": null,
      "min_height": null,
      "min_width": null,
      "object_fit": null,
      "object_position": null,
      "order": null,
      "overflow": null,
      "overflow_x": null,
      "overflow_y": null,
      "padding": null,
      "right": null,
      "top": null,
      "visibility": null,
      "width": "20px"
     }
    },
    "d226292202f1430cbdc602085458ad03": {
     "model_module": "@jupyter-widgets/base",
     "model_module_version": "1.2.0",
     "model_name": "LayoutModel",
     "state": {
      "_model_module": "@jupyter-widgets/base",
      "_model_module_version": "1.2.0",
      "_model_name": "LayoutModel",
      "_view_count": null,
      "_view_module": "@jupyter-widgets/base",
      "_view_module_version": "1.2.0",
      "_view_name": "LayoutView",
      "align_content": null,
      "align_items": null,
      "align_self": null,
      "border": null,
      "bottom": null,
      "display": null,
      "flex": null,
      "flex_flow": null,
      "grid_area": null,
      "grid_auto_columns": null,
      "grid_auto_flow": null,
      "grid_auto_rows": null,
      "grid_column": null,
      "grid_gap": null,
      "grid_row": null,
      "grid_template_areas": null,
      "grid_template_columns": null,
      "grid_template_rows": null,
      "height": null,
      "justify_content": null,
      "justify_items": null,
      "left": null,
      "margin": null,
      "max_height": null,
      "max_width": null,
      "min_height": null,
      "min_width": null,
      "object_fit": null,
      "object_position": null,
      "order": null,
      "overflow": null,
      "overflow_x": null,
      "overflow_y": null,
      "padding": null,
      "right": null,
      "top": null,
      "visibility": null,
      "width": null
     }
    },
    "fad159c751df456285bc240fd603ff37": {
     "model_module": "@jupyter-widgets/controls",
     "model_module_version": "1.5.0",
     "model_name": "DescriptionStyleModel",
     "state": {
      "_model_module": "@jupyter-widgets/controls",
      "_model_module_version": "1.5.0",
      "_model_name": "DescriptionStyleModel",
      "_view_count": null,
      "_view_module": "@jupyter-widgets/base",
      "_view_module_version": "1.2.0",
      "_view_name": "StyleView",
      "description_width": ""
     }
    },
    "fdbb2926241c4891885ef8a36ce7a130": {
     "model_module": "@jupyter-widgets/base",
     "model_module_version": "1.2.0",
     "model_name": "LayoutModel",
     "state": {
      "_model_module": "@jupyter-widgets/base",
      "_model_module_version": "1.2.0",
      "_model_name": "LayoutModel",
      "_view_count": null,
      "_view_module": "@jupyter-widgets/base",
      "_view_module_version": "1.2.0",
      "_view_name": "LayoutView",
      "align_content": null,
      "align_items": null,
      "align_self": null,
      "border": null,
      "bottom": null,
      "display": null,
      "flex": null,
      "flex_flow": null,
      "grid_area": null,
      "grid_auto_columns": null,
      "grid_auto_flow": null,
      "grid_auto_rows": null,
      "grid_column": null,
      "grid_gap": null,
      "grid_row": null,
      "grid_template_areas": null,
      "grid_template_columns": null,
      "grid_template_rows": null,
      "height": null,
      "justify_content": null,
      "justify_items": null,
      "left": null,
      "margin": null,
      "max_height": null,
      "max_width": null,
      "min_height": null,
      "min_width": null,
      "object_fit": null,
      "object_position": null,
      "order": null,
      "overflow": null,
      "overflow_x": null,
      "overflow_y": null,
      "padding": null,
      "right": null,
      "top": null,
      "visibility": null,
      "width": null
     }
    }
   }
  }
 },
 "nbformat": 4,
 "nbformat_minor": 4
}
